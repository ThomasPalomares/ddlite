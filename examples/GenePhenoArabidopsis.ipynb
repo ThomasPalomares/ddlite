{
 "cells": [
  {
   "cell_type": "code",
   "execution_count": 1,
   "metadata": {
    "collapsed": false
   },
   "outputs": [],
   "source": [
    "%load_ext autoreload\n",
    "%autoreload 2\n",
    "\n",
    "import cPickle, os, sys\n",
    "import random\n",
    "sys.path.insert(1, os.path.join(sys.path[0], '..'))\n",
    "\n",
    "from ddlite import *"
   ]
  },
  {
   "cell_type": "markdown",
   "metadata": {
    "collapsed": true
   },
   "source": [
    "# Importing documents"
   ]
  },
  {
   "cell_type": "code",
   "execution_count": 2,
   "metadata": {
    "collapsed": false
   },
   "outputs": [],
   "source": [
    "#Thomas data folder \n",
    "# DATA_FOLDER='/Users/thomaspalomares/Desktop/Stanford/RA/multisentences/data/'\n",
    "#Tanya data folder\n",
    "# DATA_FOLDER='/Users/tanyaberardini/Desktop/DeepDive/data/'\n",
    "DATA_FOLDER='arabidopsis_data/'"
   ]
  },
  {
   "cell_type": "code",
   "execution_count": 3,
   "metadata": {
    "collapsed": true
   },
   "outputs": [],
   "source": [
    "import json"
   ]
  },
  {
   "cell_type": "code",
   "execution_count": 4,
   "metadata": {
    "collapsed": false,
    "scrolled": true
   },
   "outputs": [],
   "source": [
    "# #To be modified to conserve correct doc_ids (in particular, write in different txt files)\n",
    "# nb_lines=0\n",
    "# nb_error_parsing=0\n",
    "# with open(DATA_FOLDER+'pmc/json/output_plant.json', 'rb') as json_file:\n",
    "#     with open(DATA_FOLDER+'pmc/text/output_plant.text', 'wb') as text_write:\n",
    "#         docs={}\n",
    "#         for line in json_file:\n",
    "#             nb_lines+=1\n",
    "#             doc_id_read=str(json.loads(line)['doc-id'].encode('utf-8').strip())\n",
    "# #             try:\n",
    "#             #Because this doc is too big\n",
    "#             if doc_id_read=='10.1093.jxb.eru198':\n",
    "#                 if random.random() <0.5:\n",
    "#                     doc_id_read += '_1'\n",
    "#                 else:\n",
    "#                     doc_id_read += '_2'\n",
    "#             if doc_id_read in docs:\n",
    "#                 docs[doc_id_read] += unicode(str(json.loads(line)['content'].encode('utf-8').strip()) + '.\\n', errors='ignore')\n",
    "#             else:\n",
    "#                 docs[doc_id_read] = unicode(str(json.loads(line)['content'].encode('utf-8').strip()) + '.\\n', errors='ignore')\n",
    "# #                 text_write.write(unicode(str(json.loads(line)['content'].encode('utf-8').strip()) + '.\\n', errors='ignore'))\n",
    "# #             except:\n",
    "# #                 nb_error_parsing +=1\n",
    "# #                 print \"error parsing\"\n",
    "# print nb_lines\n",
    "# print nb_error_parsing"
   ]
  },
  {
   "cell_type": "code",
   "execution_count": 5,
   "metadata": {
    "collapsed": false
   },
   "outputs": [],
   "source": [
    "# test = SentenceParser()\n",
    "# test.parse(docs)\n",
    "# # dp = DocParser(DATA_FOLDER + 'pmc/text/', TextParser())"
   ]
  },
  {
   "cell_type": "code",
   "execution_count": 6,
   "metadata": {
    "collapsed": false
   },
   "outputs": [],
   "source": [
    "pkl_f=DATA_FOLDER+'pmc/pickle/pkl_sentences'\n",
    "sents=[]\n",
    "count_loop=0\n",
    "try:\n",
    "    with open(pkl_f, 'rb') as f:\n",
    "        sents = cPickle.load(f)\n",
    "except:\n",
    "    print\"parsing data\"\n",
    "    for doc_id_loop in docs:\n",
    "        count_loop+=1\n",
    "        print count_loop\n",
    "        for j in test.parse(docs[doc_id_loop], doc_id=doc_id_loop):\n",
    "            sents.append(j)\n",
    "    with open(pkl_f, 'w+') as f:\n",
    "        cPickle.dump(sents, f)"
   ]
  },
  {
   "cell_type": "code",
   "execution_count": 7,
   "metadata": {
    "collapsed": false
   },
   "outputs": [
    {
     "name": "stdout",
     "output_type": "stream",
     "text": [
      "Sentence(words=[u'It', u'Takes', u'Two', u'to', u'Tango', u':', u'A', u'New', u'Partner', u'in', u'Amylose', u'Synthesis', u'.'], lemmas=[u'it', u'take', u'two', u'to', u'Tango', u':', u'A', u'New', u'Partner', u'in', u'Amylose', u'synthesis', u'.'], poses=[u'PRP', u'VBZ', u'CD', u'TO', u'NNP', u':', u'NNP', u'NNP', u'NNP', u'IN', u'NNP', u'NN', u'.'], dep_parents=[2, 0, 2, 5, 2, 5, 9, 9, 5, 12, 12, 9, 2], dep_labels=[u'nsubj', u'ROOT', u'dobj', u'case', u'nmod', u'punct', u'compound', u'compound', u'dep', u'case', u'compound', u'nmod', u'punct'], sent_id=1, doc_id='PBIOLOGY-D-14-02490', text=u'It Takes Two to Tango: A New Partner in Amylose Synthesis.', token_idxs=[153, 156, 162, 166, 169, 174, 176, 178, 182, 190, 193, 201, 210])\n"
     ]
    }
   ],
   "source": [
    "print sents[1]"
   ]
  },
  {
   "cell_type": "code",
   "execution_count": 8,
   "metadata": {
    "collapsed": false
   },
   "outputs": [],
   "source": [
    "#Think about how to add doc_ids. \n",
    "#In particular, look at the small code in parseDocSentences()\n",
    "# %time sents = dp.parseDocSentences()\n",
    "# print sents[0]"
   ]
  },
  {
   "cell_type": "markdown",
   "metadata": {},
   "source": [
    "# Candidate mention Extraction"
   ]
  },
  {
   "cell_type": "markdown",
   "metadata": {},
   "source": [
    "## Gene extraction"
   ]
  },
  {
   "cell_type": "code",
   "execution_count": 9,
   "metadata": {
    "collapsed": false
   },
   "outputs": [],
   "source": [
    "#What is the exact schema of genes ?\n",
    "genes=[]\n",
    "for row_genes in [line.rstrip().split('\\t') for line in open(DATA_FOLDER + '/dicts/list_genes.txt')]:\n",
    "    for gene in row_genes:\n",
    "        genes.append(gene)\n",
    "        \n",
    "#Removing blacklist_words\n",
    "blacklist_words = [line.rstrip().split('\\t')[1].lower() for line in open(DATA_FOLDER + '/dicts/blacklist_words.txt')][1:]\n",
    "genes_filtered = [x.lower() for x in genes if x.lower() not in blacklist_words]\n",
    "\n",
    "gene_dm = DictionaryMatch(label='GeneName', dictionary=genes_filtered, ignore_case=False)"
   ]
  },
  {
   "cell_type": "markdown",
   "metadata": {},
   "source": [
    "The dictionary match should provide fairly high recall, but we may still miss some candidates. We know that gene names are named nouns and are often all uppercase. Let's use DDLite's compositional matcher operations to handle this. First, we'll write a matcher to find all nouns using the parts-of-speech tags. Then, we'll use a filter to find uppercase sequences. Finally, we'll use a filter to make sure each match has at least 3 characters. We pass noun_rm to up_rm, and up_rm to the final filter to compose them with each other."
   ]
  },
  {
   "cell_type": "code",
   "execution_count": 10,
   "metadata": {
    "collapsed": true
   },
   "outputs": [],
   "source": [
    "noun_regex = RegexNgramMatch(label='Nouns', regex_pattern=r'[A-Z]?NN[A-Z]?', ignore_case=True, match_attrib='poses')\n",
    "up_regex = RegexFilterAll(noun_regex, label='Upper', regex_pattern=r'[A-Z]+([0-9]+)?([A-Z]+)?([0-9]+)?$', ignore_case=False, match_attrib='words')\n",
    "multi_regex = RegexFilterAll(up_regex, label='Multi', regex_pattern=r'[a-z0-9]{3,}', ignore_case=True)"
   ]
  },
  {
   "cell_type": "markdown",
   "metadata": {},
   "source": [
    "Since we want matches both from the dictionary and the uppercase-noun-phrase-matcher we just built, we'll use the union object to create a matcher for both."
   ]
  },
  {
   "cell_type": "code",
   "execution_count": 11,
   "metadata": {
    "collapsed": true
   },
   "outputs": [],
   "source": [
    "#The previous regexes seem to catch many patterns not wanted (like 'and' or others), let's ignore it for now and we can add it when we'll work on recall\n",
    "# GM = Union(gene_dm, multi_regex)\n",
    "GM=gene_dm"
   ]
  },
  {
   "cell_type": "markdown",
   "metadata": {},
   "source": [
    "## Pheno extraction"
   ]
  },
  {
   "cell_type": "code",
   "execution_count": 12,
   "metadata": {
    "collapsed": false
   },
   "outputs": [],
   "source": [
    "# Schema is: HPO_ID | NAME | TYPE (exact, lemma)\n",
    "phenos_deepdive = [line.rstrip().split('\\t')[1] for line in open(DATA_FOLDER + '/dicts/pheno_terms.tsv')]\n",
    "phenos_arabidopsis = [line.rstrip() for line in open(DATA_FOLDER + '/dicts/list_phenotypes_arabidopsis_filtered.txt')]\n",
    "phenos_worm_variants = [line.rstrip() for line in open(DATA_FOLDER + '/dicts/worm_variants_unix.txt')]\n",
    "phenos_all_eq_dict = [pheno.strip() for line in open(DATA_FOLDER + 'dicts/phenotypes_all_eq_dict.txt') for pheno in line.rstrip().split(';')]\n",
    "phenos_manual = [line.rstrip() for line in open(DATA_FOLDER + '/dicts/phenotypes_manual.txt')]\n",
    "\n",
    "phenos_tot = phenos_deepdive + phenos_arabidopsis + phenos_worm_variants + phenos_all_eq_dict + phenos_manual\n",
    "\n",
    "#Removing the phenotypes that are in the blacklist.\n",
    "blacklist_words = [line.rstrip().split('\\t')[1].lower() for line in open(DATA_FOLDER + '/dicts/blacklist_words.txt')][1:]\n",
    "phenos_tot_filtered = [x.lower() for x in phenos_tot if x.lower() not in blacklist_words]\n",
    "\n",
    "PM = DictionaryMatch(label='PhenoName', dictionary=phenos_tot_filtered)"
   ]
  },
  {
   "cell_type": "markdown",
   "metadata": {},
   "source": [
    "# Relation Extraction"
   ]
  },
  {
   "cell_type": "markdown",
   "metadata": {},
   "source": [
    "For each sentence, we extract a candidate relation for each pair (gene, phenotype) appearing in the sentence."
   ]
  },
  {
   "cell_type": "code",
   "execution_count": 13,
   "metadata": {
    "collapsed": false
   },
   "outputs": [],
   "source": [
    "R = Relations(sents, GM, PM)"
   ]
  },
  {
   "cell_type": "code",
   "execution_count": 33,
   "metadata": {
    "collapsed": false
   },
   "outputs": [
    {
     "data": {
      "text/html": [
       "<style>\n",
       ".node {\n",
       "  cursor: pointer;\n",
       "}\n",
       "\n",
       ".node circle {\n",
       "  fill: #fff;\n",
       "  stroke: steelblue;\n",
       "  stroke-width: 3px;\n",
       "}\n",
       "\n",
       ".node text {\n",
       "  font: 12px sans-serif;\n",
       "}\n",
       "\n",
       ".edge {\n",
       "  fill: none;\n",
       "  stroke: #ccc;\n",
       "  stroke-width: 2px;\n",
       "  cursor: pointer;\n",
       "}\n",
       "\n",
       ".highlight {\n",
       "  stroke: red;\n",
       "  stroke-width: 3px;\n",
       "}\n",
       "</style>\n",
       "\n",
       "<!--Provide the canvas id (twice) and the words via python string formatting here--!>\n",
       "<div id=\"tree-chart-120185255281313355\"></div>\n",
       "<div id=\"raw-seq-120185255281313355\">\n",
       "<span class=\"word-120185255281313355-0\">While</span> <span class=\"word-120185255281313355-1\">_</span> <span class=\"word-120185255281313355-2\">dpe1</span> <span class=\"word-120185255281313355-3\">_</span> <span class=\"word-120185255281313355-4\">mutants</span> <span class=\"word-120185255281313355-5\">also</span> <span class=\"word-120185255281313355-6\">have</span> <span class=\"word-120185255281313355-7\">a</span> <span class=\"word-120185255281313355-8\">mild</span> <span class=\"word-120185255281313355-9\">impairment</span> <span class=\"word-120185255281313355-10\">in</span> <span class=\"word-120185255281313355-11\">the</span> <span class=\"word-120185255281313355-12\">rate</span> <span class=\"word-120185255281313355-13\">of</span> <span class=\"word-120185255281313355-14\">starch</span> <span class=\"word-120185255281313355-15\">degradation</span> <span class=\"word-120185255281313355-16\">,</span> <span class=\"word-120185255281313355-17\">the</span> <span class=\"word-120185255281313355-18\">primary</span> <span class=\"word-120185255281313355-19\">reason</span> <span class=\"word-120185255281313355-20\">for</span> <span class=\"word-120185255281313355-21\">its</span> <span class=\"word-120185255281313355-22\">high</span> <span class=\"word-120185255281313355-23\">amylose</span> <span class=\"word-120185255281313355-24\">content</span> <span class=\"word-120185255281313355-25\">(</span> <span class=\"word-120185255281313355-26\">over</span> <span class=\"word-120185255281313355-27\">20</span> <span class=\"word-120185255281313355-28\">%</span> <span class=\"word-120185255281313355-29\">of</span> <span class=\"word-120185255281313355-30\">granule</span> <span class=\"word-120185255281313355-31\">mass</span> <span class=\"word-120185255281313355-32\">;</span> <span class=\"word-120185255281313355-33\">see</span> <span class=\"word-120185255281313355-34\">)</span> <span class=\"word-120185255281313355-35\">is</span> <span class=\"word-120185255281313355-36\">the</span> <span class=\"word-120185255281313355-37\">accumulation</span> <span class=\"word-120185255281313355-38\">of</span> <span class=\"word-120185255281313355-39\">short</span> <span class=\"word-120185255281313355-40\">malto-oligosaccharides</span> <span class=\"word-120185255281313355-41\">,</span> <span class=\"word-120185255281313355-42\">which</span> <span class=\"word-120185255281313355-43\">can</span> <span class=\"word-120185255281313355-44\">act</span> <span class=\"word-120185255281313355-45\">as</span> <span class=\"word-120185255281313355-46\">primers</span> <span class=\"word-120185255281313355-47\">for</span> <span class=\"word-120185255281313355-48\">GBSS</span> <span class=\"word-120185255281313355-49\">activity</span> <span class=\"word-120185255281313355-50\">-LSB-</span> <span class=\"word-120185255281313355-51\">,</span> <span class=\"word-120185255281313355-52\">-RSB-</span> <span class=\"word-120185255281313355-53\">.</span>\n",
       "</div>\n"
      ]
     },
     "metadata": {},
     "output_type": "display_data"
    },
    {
     "data": {
      "application/javascript": [
       "$.getScript(\"http://d3js.org/d3.v3.min.js\", function () {\n",
       "// See http://bl.ocks.org/d3noob/8375092\n",
       "// Three vars need to be provided via python string formatting:\n",
       "var chartId = \"120185255281313355\";\n",
       "var root = {\"attrib\": {\"token_idx\": \"17428\", \"word\": \"accumulation\", \"dep_label\": \"ROOT\", \"pos\": \"NN\", \"lemma\": \"accumulation\", \"word_idx\": \"37\", \"dep_parent\": \"0\"}, \"children\": [{\"attrib\": {\"token_idx\": \"17282\", \"word\": \"have\", \"dep_label\": \"advcl\", \"pos\": \"VBP\", \"lemma\": \"have\", \"word_idx\": \"6\", \"dep_parent\": \"38\"}, \"children\": [{\"attrib\": {\"token_idx\": \"17256\", \"word\": \"While\", \"dep_label\": \"mark\", \"pos\": \"IN\", \"lemma\": \"while\", \"word_idx\": \"0\", \"dep_parent\": \"7\"}, \"children\": []}, {\"attrib\": {\"token_idx\": \"17269\", \"word\": \"mutants\", \"dep_label\": \"nsubj\", \"pos\": \"NNS\", \"lemma\": \"mutant\", \"word_idx\": \"4\", \"dep_parent\": \"7\"}, \"children\": [{\"attrib\": {\"token_idx\": \"17262\", \"word\": \"_\", \"dep_label\": \"nummod\", \"pos\": \"CD\", \"lemma\": \"_\", \"word_idx\": \"1\", \"dep_parent\": \"5\"}, \"children\": []}, {\"attrib\": {\"token_idx\": \"17263\", \"word\": \"dpe1\", \"dep_label\": \"compound\", \"pos\": \"NN\", \"lemma\": \"dpe1\", \"word_idx\": \"2\", \"dep_parent\": \"5\"}, \"children\": []}, {\"attrib\": {\"token_idx\": \"17267\", \"word\": \"_\", \"dep_label\": \"compound\", \"pos\": \"NN\", \"lemma\": \"_\", \"word_idx\": \"3\", \"dep_parent\": \"5\"}, \"children\": []}]}, {\"attrib\": {\"token_idx\": \"17277\", \"word\": \"also\", \"dep_label\": \"advmod\", \"pos\": \"RB\", \"lemma\": \"also\", \"word_idx\": \"5\", \"dep_parent\": \"7\"}, \"children\": []}, {\"attrib\": {\"token_idx\": \"17294\", \"word\": \"impairment\", \"dep_label\": \"dobj\", \"pos\": \"NN\", \"lemma\": \"impairment\", \"word_idx\": \"9\", \"dep_parent\": \"7\"}, \"children\": [{\"attrib\": {\"token_idx\": \"17287\", \"word\": \"a\", \"dep_label\": \"det\", \"pos\": \"DT\", \"lemma\": \"a\", \"word_idx\": \"7\", \"dep_parent\": \"10\"}, \"children\": []}, {\"attrib\": {\"token_idx\": \"17289\", \"word\": \"mild\", \"dep_label\": \"amod\", \"pos\": \"JJ\", \"lemma\": \"mild\", \"word_idx\": \"8\", \"dep_parent\": \"10\"}, \"children\": []}, {\"attrib\": {\"token_idx\": \"17312\", \"word\": \"rate\", \"dep_label\": \"nmod\", \"pos\": \"NN\", \"lemma\": \"rate\", \"word_idx\": \"12\", \"dep_parent\": \"10\"}, \"children\": [{\"attrib\": {\"token_idx\": \"17305\", \"word\": \"in\", \"dep_label\": \"case\", \"pos\": \"IN\", \"lemma\": \"in\", \"word_idx\": \"10\", \"dep_parent\": \"13\"}, \"children\": []}, {\"attrib\": {\"token_idx\": \"17308\", \"word\": \"the\", \"dep_label\": \"det\", \"pos\": \"DT\", \"lemma\": \"the\", \"word_idx\": \"11\", \"dep_parent\": \"13\"}, \"children\": []}, {\"attrib\": {\"token_idx\": \"17327\", \"word\": \"degradation\", \"dep_label\": \"nmod\", \"pos\": \"NN\", \"lemma\": \"degradation\", \"word_idx\": \"15\", \"dep_parent\": \"13\"}, \"children\": [{\"attrib\": {\"token_idx\": \"17317\", \"word\": \"of\", \"dep_label\": \"case\", \"pos\": \"IN\", \"lemma\": \"of\", \"word_idx\": \"13\", \"dep_parent\": \"16\"}, \"children\": []}, {\"attrib\": {\"token_idx\": \"17320\", \"word\": \"starch\", \"dep_label\": \"compound\", \"pos\": \"NN\", \"lemma\": \"starch\", \"word_idx\": \"14\", \"dep_parent\": \"16\"}, \"children\": []}]}]}]}]}, {\"attrib\": {\"token_idx\": \"17338\", \"word\": \",\", \"dep_label\": \"punct\", \"pos\": \",\", \"lemma\": \",\", \"word_idx\": \"16\", \"dep_parent\": \"38\"}, \"children\": []}, {\"attrib\": {\"token_idx\": \"17352\", \"word\": \"reason\", \"dep_label\": \"nsubj\", \"pos\": \"NN\", \"lemma\": \"reason\", \"word_idx\": \"19\", \"dep_parent\": \"38\"}, \"children\": [{\"attrib\": {\"token_idx\": \"17340\", \"word\": \"the\", \"dep_label\": \"det\", \"pos\": \"DT\", \"lemma\": \"the\", \"word_idx\": \"17\", \"dep_parent\": \"20\"}, \"children\": []}, {\"attrib\": {\"token_idx\": \"17344\", \"word\": \"primary\", \"dep_label\": \"amod\", \"pos\": \"JJ\", \"lemma\": \"primary\", \"word_idx\": \"18\", \"dep_parent\": \"20\"}, \"children\": []}, {\"attrib\": {\"token_idx\": \"17380\", \"word\": \"content\", \"dep_label\": \"nmod\", \"pos\": \"NN\", \"lemma\": \"content\", \"word_idx\": \"24\", \"dep_parent\": \"20\"}, \"children\": [{\"attrib\": {\"token_idx\": \"17359\", \"word\": \"for\", \"dep_label\": \"case\", \"pos\": \"IN\", \"lemma\": \"for\", \"word_idx\": \"20\", \"dep_parent\": \"25\"}, \"children\": []}, {\"attrib\": {\"token_idx\": \"17363\", \"word\": \"its\", \"dep_label\": \"nmod:poss\", \"pos\": \"PRP$\", \"lemma\": \"its\", \"word_idx\": \"21\", \"dep_parent\": \"25\"}, \"children\": []}, {\"attrib\": {\"token_idx\": \"17367\", \"word\": \"high\", \"dep_label\": \"amod\", \"pos\": \"JJ\", \"lemma\": \"high\", \"word_idx\": \"22\", \"dep_parent\": \"25\"}, \"children\": []}, {\"attrib\": {\"token_idx\": \"17372\", \"word\": \"amylose\", \"dep_label\": \"compound\", \"pos\": \"NN\", \"lemma\": \"amylose\", \"word_idx\": \"23\", \"dep_parent\": \"25\"}, \"children\": []}, {\"attrib\": {\"token_idx\": \"17415\", \"word\": \"see\", \"dep_label\": \"dep\", \"pos\": \"VB\", \"lemma\": \"see\", \"word_idx\": \"33\", \"dep_parent\": \"25\"}, \"children\": [{\"attrib\": {\"token_idx\": \"17388\", \"word\": \"-LRB-\", \"dep_label\": \"punct\", \"pos\": \"-LRB-\", \"lemma\": \"-lrb-\", \"word_idx\": \"25\", \"dep_parent\": \"34\"}, \"children\": []}, {\"attrib\": {\"token_idx\": \"17396\", \"word\": \"%\", \"dep_label\": \"dep\", \"pos\": \"NN\", \"lemma\": \"%\", \"word_idx\": \"28\", \"dep_parent\": \"34\"}, \"children\": [{\"attrib\": {\"token_idx\": \"17394\", \"word\": \"20\", \"dep_label\": \"nummod\", \"pos\": \"CD\", \"lemma\": \"20\", \"word_idx\": \"27\", \"dep_parent\": \"29\"}, \"children\": [{\"attrib\": {\"token_idx\": \"17389\", \"word\": \"over\", \"dep_label\": \"advmod\", \"pos\": \"IN\", \"lemma\": \"over\", \"word_idx\": \"26\", \"dep_parent\": \"28\"}, \"children\": []}]}, {\"attrib\": {\"token_idx\": \"17409\", \"word\": \"mass\", \"dep_label\": \"nmod\", \"pos\": \"NN\", \"lemma\": \"mass\", \"word_idx\": \"31\", \"dep_parent\": \"29\"}, \"children\": [{\"attrib\": {\"token_idx\": \"17398\", \"word\": \"of\", \"dep_label\": \"case\", \"pos\": \"IN\", \"lemma\": \"of\", \"word_idx\": \"29\", \"dep_parent\": \"32\"}, \"children\": []}, {\"attrib\": {\"token_idx\": \"17401\", \"word\": \"granule\", \"dep_label\": \"compound\", \"pos\": \"NN\", \"lemma\": \"granule\", \"word_idx\": \"30\", \"dep_parent\": \"32\"}, \"children\": []}]}]}, {\"attrib\": {\"token_idx\": \"17413\", \"word\": \";\", \"dep_label\": \"punct\", \"pos\": \":\", \"lemma\": \";\", \"word_idx\": \"32\", \"dep_parent\": \"34\"}, \"children\": []}, {\"attrib\": {\"token_idx\": \"17419\", \"word\": \"-RRB-\", \"dep_label\": \"punct\", \"pos\": \"-RRB-\", \"lemma\": \"-rrb-\", \"word_idx\": \"34\", \"dep_parent\": \"34\"}, \"children\": []}]}]}]}, {\"attrib\": {\"token_idx\": \"17421\", \"word\": \"is\", \"dep_label\": \"cop\", \"pos\": \"VBZ\", \"lemma\": \"be\", \"word_idx\": \"35\", \"dep_parent\": \"38\"}, \"children\": []}, {\"attrib\": {\"token_idx\": \"17424\", \"word\": \"the\", \"dep_label\": \"det\", \"pos\": \"DT\", \"lemma\": \"the\", \"word_idx\": \"36\", \"dep_parent\": \"38\"}, \"children\": []}, {\"attrib\": {\"token_idx\": \"17450\", \"word\": \"malto-oligosaccharides\", \"dep_label\": \"nmod\", \"pos\": \"NNS\", \"lemma\": \"malto-oligosaccharide\", \"word_idx\": \"40\", \"dep_parent\": \"38\"}, \"children\": [{\"attrib\": {\"token_idx\": \"17441\", \"word\": \"of\", \"dep_label\": \"case\", \"pos\": \"IN\", \"lemma\": \"of\", \"word_idx\": \"38\", \"dep_parent\": \"41\"}, \"children\": []}, {\"attrib\": {\"token_idx\": \"17444\", \"word\": \"short\", \"dep_label\": \"amod\", \"pos\": \"JJ\", \"lemma\": \"short\", \"word_idx\": \"39\", \"dep_parent\": \"41\"}, \"children\": []}, {\"attrib\": {\"token_idx\": \"17472\", \"word\": \",\", \"dep_label\": \"punct\", \"pos\": \",\", \"lemma\": \",\", \"word_idx\": \"41\", \"dep_parent\": \"41\"}, \"children\": []}, {\"attrib\": {\"token_idx\": \"17484\", \"word\": \"act\", \"dep_label\": \"acl:relcl\", \"pos\": \"VB\", \"lemma\": \"act\", \"word_idx\": \"44\", \"dep_parent\": \"41\"}, \"children\": [{\"attrib\": {\"token_idx\": \"17474\", \"word\": \"which\", \"dep_label\": \"nsubj\", \"pos\": \"WDT\", \"lemma\": \"which\", \"word_idx\": \"42\", \"dep_parent\": \"45\"}, \"children\": []}, {\"attrib\": {\"token_idx\": \"17480\", \"word\": \"can\", \"dep_label\": \"aux\", \"pos\": \"MD\", \"lemma\": \"can\", \"word_idx\": \"43\", \"dep_parent\": \"45\"}, \"children\": []}, {\"attrib\": {\"token_idx\": \"17491\", \"word\": \"primers\", \"dep_label\": \"nmod\", \"pos\": \"NNS\", \"lemma\": \"primer\", \"word_idx\": \"46\", \"dep_parent\": \"45\"}, \"children\": [{\"attrib\": {\"token_idx\": \"17488\", \"word\": \"as\", \"dep_label\": \"case\", \"pos\": \"IN\", \"lemma\": \"as\", \"word_idx\": \"45\", \"dep_parent\": \"47\"}, \"children\": []}, {\"attrib\": {\"token_idx\": \"17508\", \"word\": \"activity\", \"dep_label\": \"nmod\", \"pos\": \"NN\", \"lemma\": \"activity\", \"word_idx\": \"49\", \"dep_parent\": \"47\"}, \"children\": [{\"attrib\": {\"token_idx\": \"17499\", \"word\": \"for\", \"dep_label\": \"case\", \"pos\": \"IN\", \"lemma\": \"for\", \"word_idx\": \"47\", \"dep_parent\": \"50\"}, \"children\": []}, {\"attrib\": {\"token_idx\": \"17503\", \"word\": \"GBSS\", \"dep_label\": \"compound\", \"pos\": \"NN\", \"lemma\": \"gbss\", \"word_idx\": \"48\", \"dep_parent\": \"50\"}, \"children\": []}]}]}, {\"attrib\": {\"token_idx\": \"17519\", \"word\": \"-RSB-\", \"dep_label\": \"punct\", \"pos\": \"-RRB-\", \"lemma\": \"-rsb-\", \"word_idx\": \"52\", \"dep_parent\": \"45\"}, \"children\": [{\"attrib\": {\"token_idx\": \"17517\", \"word\": \"-LSB-\", \"dep_label\": \"punct\", \"pos\": \"-LRB-\", \"lemma\": \"-lsb-\", \"word_idx\": \"50\", \"dep_parent\": \"53\"}, \"children\": []}, {\"attrib\": {\"token_idx\": \"17518\", \"word\": \",\", \"dep_label\": \"punct\", \"pos\": \",\", \"lemma\": \",\", \"word_idx\": \"51\", \"dep_parent\": \"53\"}, \"children\": []}]}]}]}, {\"attrib\": {\"token_idx\": \"17520\", \"word\": \".\", \"dep_label\": \"punct\", \"pos\": \".\", \"lemma\": \".\", \"word_idx\": \"53\", \"dep_parent\": \"38\"}, \"children\": []}]};\n",
       "var highlightIdxs = [[2], [39]];\n",
       "\n",
       "// Highlight words / nodes\n",
       "var COLORS = [\"#ff5c33\", \"#ffcc00\", \"#33cc33\", \"#3399ff\"];\n",
       "function highlightWords() {\n",
       "  for (var i=0; i < highlightIdxs.length; i++) {\n",
       "    var c = COLORS[i];\n",
       "    var idxs = highlightIdxs[i];\n",
       "    for (var j=0; j < idxs.length; j++) {\n",
       "      d3.selectAll(\".word-\"+chartId+\"-\"+idxs[j]).style(\"stroke\", c).style(\"background\", c);\n",
       "    }\n",
       "  }\n",
       "}\n",
       "\n",
       "// Constants\n",
       "var margin = {top: 20, right: 20, bottom: 20, left: 20},\n",
       "width = 800 - margin.left - margin.right,\n",
       "height = 350 - margin.top - margin.bottom,\n",
       "R = 5;\n",
       "\n",
       "// Create the d3 tree object\n",
       "var tree = d3.layout.tree()\n",
       "  .size([width, height]);\n",
       "\n",
       "// Create the svg canvas\n",
       "var svg = d3.select(\"#tree-chart-\" + chartId)\n",
       "  .append(\"svg\")\n",
       "  .attr(\"width\", width + margin.left + margin.right)\n",
       "  .attr(\"height\", height + margin.top + margin.bottom)\n",
       "  .append(\"g\")\n",
       "  .attr(\"transform\", \"translate(\" + margin.left + \",\" + margin.top + \")\");\n",
       "\n",
       "function renderTree() {\n",
       "  var nodes = tree.nodes(root),\n",
       "  edges = tree.links(nodes);\n",
       "\n",
       "  // Place the nodes\n",
       "  var nodeGroups = svg.selectAll(\"g.node\")\n",
       "    .data(nodes)\n",
       "    .enter().append(\"g\")\n",
       "    .attr(\"class\", \"node\")\n",
       "    .attr(\"transform\", function(d) { return \"translate(\" + d.x + \",\" + d.y + \")\"; });\n",
       "       \n",
       "  // Append circles\n",
       "  nodeGroups.append(\"circle\")\n",
       "    //.on(\"click\", function() {\n",
       "    //  d3.select(this).classed(\"highlight\", !d3.select(this).classed(\"highlight\")); })\n",
       "    .attr(\"r\", R)\n",
       "    .attr(\"class\", function(d) { return \"word-\"+chartId+\"-\"+d.attrib.word_idx; });\n",
       "     \n",
       "  // Append the actual word\n",
       "  nodeGroups.append(\"text\")\n",
       "    .text(function(d) { return d.attrib.word; })\n",
       "    .attr(\"text-anchor\", function(d) { \n",
       "      return d.children && d.children.length > 0 ? \"start\" : \"middle\"; })\n",
       "    .attr(\"dx\", function(d) { \n",
       "      return d.children && d.children.length > 0 ? R + 3 : 0; })\n",
       "    .attr(\"dy\", function(d) { \n",
       "      return d.children && d.children.length > 0 ? 0 : 3*R + 3; });\n",
       "\n",
       "  // Place the edges\n",
       "  var edgePaths = svg.selectAll(\"path\")\n",
       "    .data(edges)\n",
       "    .enter().append(\"path\")\n",
       "    .attr(\"class\", \"edge\")\n",
       "    .on(\"click\", function() {\n",
       "      d3.select(this).classed(\"highlight\", !d3.select(this).classed(\"highlight\")); })\n",
       "    .attr(\"d\", d3.svg.diagonal());\n",
       "}\n",
       "\n",
       "renderTree();\n",
       "highlightWords();\n",
       "});\n"
      ]
     },
     "metadata": {},
     "output_type": "display_data"
    }
   ],
   "source": [
    "R[0].render()"
   ]
  },
  {
   "cell_type": "code",
   "execution_count": 15,
   "metadata": {
    "collapsed": false
   },
   "outputs": [
    {
     "name": "stdout",
     "output_type": "stream",
     "text": [
      "0 To 2 TO\n",
      "1 investigate 14 VB\n",
      "2 the 4 DT\n",
      "3 level 2 NN\n",
      "4 of 8 IN\n",
      "5 membrane 8 NN\n",
      "6 lipid 8 NN\n",
      "7 peroxidation 4 NN\n",
      "8 , 14 ,\n",
      "9 the 12 DT\n",
      "10 same 12 JJ\n",
      "11 leaves 14 NNS\n",
      "12 were 14 VBD\n",
      "13 analyzed 0 VBN\n",
      "14 for 17 IN\n",
      "15 MDA 17 NN\n",
      "16 content 14 NN\n",
      "17 -LRB- 19 -LRB-\n",
      "18 malondialdehyde 17 NN\n",
      "19 , 19 ,\n",
      "20 a 22 DT\n",
      "21 byproduct 19 NN\n",
      "22 of 25 IN\n",
      "23 lipid 25 NN\n",
      "24 peroxidation 22 NN\n",
      "25 -RRB- 19 -RRB-\n",
      "26 : 14 :\n",
      "27 _ 30 CD\n",
      "28 chy1chy2lut2lut5 30 NN\n",
      "29 _ 35 NN\n",
      "30 and 30 CC\n",
      "31 _ 33 NN\n",
      "32 chy1chy2lut5 30 NN\n",
      "33 _ 33 CD\n",
      "34 leaves 14 VBZ\n",
      "35 showed 35 VBD\n",
      "36 higher 38 JJR\n",
      "37 accumulation 36 NN\n",
      "38 of 40 IN\n",
      "39 MDA 38 NNP\n",
      "40 upon 43 IN\n",
      "41 stress 43 NN\n",
      "42 treatment 36 NN\n",
      "43 -LRB- 46 -LRB-\n",
      "44 +120 46 CD\n",
      "45 % 43 NN\n",
      "46 and 46 CC\n",
      "47 +45 49 CD\n",
      "48 % 46 NN\n",
      "49 , 46 ,\n",
      "50 respectively 46 RB\n",
      "51 -RRB- 46 -RRB-\n",
      "52 , 36 ,\n",
      "53 thus 58 RB\n",
      "54 a 58 DT\n",
      "55 far 57 RB\n",
      "56 higher 58 JJR\n",
      "57 level 36 NN\n",
      "58 of 61 IN\n",
      "59 lipid 61 NN\n",
      "60 peroxidation 58 NN\n",
      "61 with 63 IN\n",
      "62 respect 58 NN\n",
      "63 to 65 TO\n",
      "64 wild-type 63 JJ\n",
      "65 and 65 CC\n",
      "66 _ 65 JJ\n",
      "67 lut2 70 NN\n",
      "68 _ 70 NN\n",
      "69 plants 65 NNS\n",
      "70 -LRB- 73 -LRB-\n",
      "71 +25 73 CD\n",
      "72 % 63 NN\n",
      "73 -RRB- 73 -RRB-\n",
      "74 ; 58 :\n",
      "75 _ 79 CD\n",
      "76 chy1chy2lut2lut5 79 NN\n",
      "77 _ 79 NN\n",
      "78 plants 80 NNS\n",
      "79 showed 58 VBD\n",
      "80 a 84 DT\n",
      "81 far 83 RB\n",
      "82 higher 84 JJR\n",
      "83 photosensitivity 80 NN\n",
      "84 in 84 IN\n",
      "85 high-light 85 JJ\n",
      "86 than 90 IN\n",
      "87 _ 90 CD\n",
      "88 chy1chy2lut5 90 NN\n",
      "89 _ 86 NN\n",
      "90 -LRB- 92 -LRB-\n",
      "91 Figure 90 NN\n",
      "92 -RRB- 92 -RRB-\n",
      "93 ; 86 :\n",
      "94 the 96 DT\n",
      "95 latter 100 NN\n",
      "96 was 100 VBD\n",
      "97 the 100 DT\n",
      "98 xanthophyll 100 NN\n",
      "99 mutant 86 NN\n",
      "100 with 105 IN\n",
      "101 the 105 DT\n",
      "102 highest 105 JJS\n",
      "103 light 105 JJ\n",
      "104 sensitivity 100 NN\n",
      "105 described 105 VBN\n",
      "106 so 108 RB\n",
      "107 far 106 RB\n",
      "108 -LSB- 110 -LRB-\n",
      "109 -RSB- 108 -RRB-\n",
      "110 . 14 .\n"
     ]
    }
   ],
   "source": [
    "# test_sent=9\n",
    "# for i in range(len(R[test_sent].dep_parents)):\n",
    "#     print i, R[test_sent].words[i], R[test_sent].dep_parents[i], R[test_sent].poses[i]"
   ]
  },
  {
   "cell_type": "code",
   "execution_count": 17,
   "metadata": {
    "collapsed": true
   },
   "outputs": [],
   "source": [
    "# R.dump_candidates('pickle/relations.pkl')"
   ]
  },
  {
   "cell_type": "markdown",
   "metadata": {},
   "source": [
    "# ddlite Model"
   ]
  },
  {
   "cell_type": "markdown",
   "metadata": {},
   "source": [
    "We create a ddlite model from the previous candidates, on which we will extract features, define labeling functions and learn a model. "
   ]
  },
  {
   "cell_type": "code",
   "execution_count": 18,
   "metadata": {
    "collapsed": false
   },
   "outputs": [
    {
     "name": "stdout",
     "output_type": "stream",
     "text": [
      "Extracted 25686 features for each of 907 mentions\n"
     ]
    }
   ],
   "source": [
    "DDL = DDLiteModel(R)\n",
    "print \"Extracted {} features for each of {} mentions\".format(DDL.num_feats(), DDL.num_candidates())"
   ]
  },
  {
   "cell_type": "markdown",
   "metadata": {},
   "source": [
    "# Building a gold ground truth"
   ]
  },
  {
   "cell_type": "markdown",
   "metadata": {},
   "source": [
    "We label here a certain amount of sentences that will allow us to evaluate our model."
   ]
  },
  {
   "cell_type": "code",
   "execution_count": 32,
   "metadata": {
    "collapsed": false
   },
   "outputs": [],
   "source": [
    "gold = np.zeros((DDL.num_candidates()))\n",
    "# gold[np.array([68,69,70,71,72,73,74,75,76,78,79,80,81,82,83,84,85,86,88,89,90,91])] = np.array([\n",
    "#      1,1,1,-1,1,-1,-1,1,-1,-1,-1,-1,-1,-1,-1,-1,-1,-1,-1,1,1,1])\n",
    "# DDL.set_gold_labels(gold)\n",
    "# DDL.set_holdout(p=0.5)"
   ]
  },
  {
   "cell_type": "code",
   "execution_count": 20,
   "metadata": {
    "collapsed": false,
    "scrolled": true
   },
   "outputs": [
    {
     "name": "stdout",
     "output_type": "stream",
     "text": [
      "Making sure MindTagger is installed. Hang on!\n"
     ]
    },
    {
     "data": {
      "text/html": [
       "\n",
       "        <iframe\n",
       "            width=\"100%\"\n",
       "            height=\"1200\"\n",
       "            src=\"http://Thomass-MacBook-Pro-99.local:8971/#/mindtagger/e7b25765fed7c17f\"\n",
       "            frameborder=\"0\"\n",
       "            allowfullscreen\n",
       "        ></iframe>\n",
       "        "
      ],
      "text/plain": [
       "<IPython.lib.display.IFrame at 0x105dbce90>"
      ]
     },
     "execution_count": 20,
     "metadata": {},
     "output_type": "execute_result"
    }
   ],
   "source": [
    "#Yellow: gene. Blue: phenotype\n",
    "DDL.open_mindtagger(num_sample=200, width='100%', height=1200)"
   ]
  },
  {
   "cell_type": "code",
   "execution_count": 21,
   "metadata": {
    "collapsed": false
   },
   "outputs": [],
   "source": [
    "DDL.add_mindtagger_tags()"
   ]
  },
  {
   "cell_type": "markdown",
   "metadata": {},
   "source": [
    "# Writing labeling functions"
   ]
  },
  {
   "cell_type": "markdown",
   "metadata": {},
   "source": [
    "We'll use data programming to learn a logistic regression model which will predict the probability of a candidate entity being a true gene mention. Since our training data is not manually labeled, we'll generate many (potentially noisy) labels as a surrogate for precise, manual labels. Feature extraction and model learning are very simple in ddlite. Writing labeling functions is where the real artistry comes in. One of ddlite's goals is to enable rapid prototyping, debugging, and experimenting with labeling functions. These can be used either to create a simple standalone app, or to plug into DeepDive. Labeling functions, or LFs, are functions that take an Candidate object. They must return 1 (for a positive label), 0 (for abstaining), or -1 (for a negative example). For now, we'll write a few simple LFs to get started:"
   ]
  },
  {
   "cell_type": "code",
   "execution_count": 50,
   "metadata": {
    "collapsed": false
   },
   "outputs": [],
   "source": [
    "#Here, idx_mention refers to 0 or 1, whether we consider the gene or phenotype\n",
    "def post_window(r, idx_mention, key, n=3):\n",
    "    s = list(r.all_idxs[idx_mention])\n",
    "    b = len(r.lemmas) - np.max(s)\n",
    "    s.extend([np.max(s) + i for i in range(1, min(b,n+1))])\n",
    "    return key in [r.lemmas[i] for i in s]\n",
    "def pre_window (r, idx_mention, key, n=3):\n",
    "    s = list(r.all_idxs[idx_mention])\n",
    "    b = np.min(s)\n",
    "    s.extend([b - i for i in range(1, min(b,n+1))])\n",
    "    return key in [r.lemmas[i] for i in s]\n",
    "def stopper(r, idx_mention, stop):\n",
    "    return stop in [r.lemmas[i] for i in r.all_idxs[idx_mention]]\n",
    "\n",
    "#If the word mutation is before gene:\n",
    "def LF_mutation_gene_t(r):\n",
    "    return 1 if 'mutation' in [r.lemmas[r.dep_parents[i]] for i in r.all_idxs[0]] else 0\n",
    "#If the word mutation is before pheno:\n",
    "def LF_mutation_pheno_t(r):\n",
    "    return 1 if 'mutation' in [r.lemmas[r.dep_parents[i]] for i in r.all_idxs[1]] else 0\n",
    "#If phenotype just before gene, certainly wrong\n",
    "def LF_pheno_before_gene_f(r):\n",
    "    res=False\n",
    "    for i in r.all_idxs[1]:\n",
    "        if pre_window(r, 0, r.words[i], n=1):\n",
    "            res=True\n",
    "    if res:\n",
    "        return -1\n",
    "    else:\n",
    "        return 0\n",
    "#If phenotype is only a verb, likely to be false\n",
    "def LF_pheno_only_verb_f(r):\n",
    "    if len(r.all_idxs[1])==1 and r.poses[r.all_idxs[1][0]][0:2] == 'VB':\n",
    "        return -1\n",
    "    else:\n",
    "        return 0\n",
    "#if phenotype only one word, likely to be false (except lethal)\n",
    "def LF_pheno_only_one_word_f(r):\n",
    "    if len(r.all_idxs[1])==1 and r.lemmas[r.all_idxs[1][0]] != 'lethal':\n",
    "        return -1\n",
    "    else:\n",
    "        return 0\n",
    "#if gene and phenotype have words in common, very likely to be false\n",
    "def LF_gene_pheno_words_in_common_f(r):\n",
    "    if len([val for val in r.all_idxs[0] if val in r.all_idxs[1]]) >0:\n",
    "        return -1\n",
    "    else:\n",
    "        return 0\n",
    "#if gfp at the end of a gene, likely to be false\n",
    "def LF_gene_ends_in_gfp_f(r):\n",
    "    if len(r.all_idxs[0])==1 and len(r.mention1()[0]) >2 and r.mention1()[0][-3:].lower() == 'gfp':\n",
    "        return -1\n",
    "    else:\n",
    "        return 0\n",
    "#If double mutant around the gene name, more likely true:\n",
    "def LF_double_mutant_gene_t(r):\n",
    "    if (post_window(r, 0, 'double', 3) and post_window(r, 0, 'mutant', 3)) or (pre_window(r, 0, 'double', 3) and pre_window(r, 0, 'mutant', 3)):\n",
    "        return 1\n",
    "    else:\n",
    "        return 0\n",
    "#'In WT' is generally not a phenotype\n",
    "def LF_in_WT_pheno_f(r):\n",
    "    if len(r.all_idxs[1])==1 and r.words[r.all_idxs[1][0]] == 'WT' and pre_window(r,1, 'in', 1):\n",
    "        return -1\n",
    "    else:\n",
    "        return 0\n"
   ]
  },
  {
   "cell_type": "code",
   "execution_count": 51,
   "metadata": {
    "collapsed": false
   },
   "outputs": [],
   "source": [
    "LFs= [LF_mutation_gene_t, LF_mutation_pheno_t, LF_pheno_before_gene_f, LF_pheno_only_verb_f, LF_pheno_only_one_word_f, LF_gene_pheno_words_in_common_f, LF_gene_ends_in_gfp_f, LF_double_mutant_gene_t, LF_in_WT_pheno_f]\n",
    "DDL.apply_lfs(LFs, clear=True)"
   ]
  },
  {
   "cell_type": "code",
   "execution_count": null,
   "metadata": {
    "collapsed": true
   },
   "outputs": [],
   "source": []
  },
  {
   "cell_type": "code",
   "execution_count": null,
   "metadata": {
    "collapsed": true
   },
   "outputs": [],
   "source": []
  },
  {
   "cell_type": "code",
   "execution_count": null,
   "metadata": {
    "collapsed": true
   },
   "outputs": [],
   "source": []
  },
  {
   "cell_type": "markdown",
   "metadata": {},
   "source": [
    "# Learning"
   ]
  },
  {
   "cell_type": "code",
   "execution_count": 25,
   "metadata": {
    "collapsed": false
   },
   "outputs": [],
   "source": [
    "# matplotlib.rcParams['figure.figsize'] = (12,4)\n",
    "# %time DDL.learn_weights(sample=False, maxIter=500, alpha=0.5, verbose=True, plot=True, log=True)"
   ]
  },
  {
   "cell_type": "code",
   "execution_count": null,
   "metadata": {
    "collapsed": true
   },
   "outputs": [],
   "source": []
  },
  {
   "cell_type": "code",
   "execution_count": null,
   "metadata": {
    "collapsed": true
   },
   "outputs": [],
   "source": []
  },
  {
   "cell_type": "markdown",
   "metadata": {},
   "source": [
    "# Attempt with multi sentences"
   ]
  },
  {
   "cell_type": "markdown",
   "metadata": {},
   "source": [
    "First basic version when some end of sentences \".\" are replaced by \";\" to easily have candidates covered in multisentences."
   ]
  },
  {
   "cell_type": "code",
   "execution_count": 26,
   "metadata": {
    "collapsed": false
   },
   "outputs": [],
   "source": [
    "# #To be modified to conserve correct doc_ids (in particular, write in different txt files)\n",
    "# nb_lines=0\n",
    "# nb_error_parsing=0\n",
    "# with open(DATA_FOLDER+'pmc/json/output_plant.json', 'rb') as json_file:\n",
    "#     with open(DATA_FOLDER+'pmc/text/output_plant.text', 'wb') as text_write:\n",
    "#         docs_multisentences={}\n",
    "#         for line in json_file:\n",
    "#             nb_lines+=1\n",
    "#             doc_id_read=str(json.loads(line)['doc-id'].encode('utf-8').strip())\n",
    "# #             try:\n",
    "#             #Because this doc is too big\n",
    "#             if doc_id_read=='10.1093.jxb.eru198':\n",
    "#                 if random.random() <0.5:\n",
    "#                     doc_id_read += '_1'\n",
    "#                 else:\n",
    "#                     doc_id_read += '_2'\n",
    "#             if doc_id_read in docs_multisentences:\n",
    "#                 if random.random() < 0.5:\n",
    "#                     docs_multisentences[doc_id_read] += unicode(str(json.loads(line)['content'].encode('utf-8').strip()) + '.\\n', errors='ignore')\n",
    "#                 else:\n",
    "#                     docs_multisentences[doc_id_read] += unicode(str(json.loads(line)['content'].encode('utf-8').strip()) + ';\\n', errors='ignore')\n",
    "#             else:            \n",
    "#                 if random.random() < 0.5:\n",
    "#                     docs_multisentences[doc_id_read] = unicode(str(json.loads(line)['content'].encode('utf-8').strip()) + '.\\n', errors='ignore')\n",
    "#                 else:\n",
    "#                     docs_multisentences[doc_id_read] = unicode(str(json.loads(line)['content'].encode('utf-8').strip()) + ';\\n', errors='ignore') \n",
    "\n",
    "                    \n",
    "# print nb_lines\n",
    "# print nb_error_parsing"
   ]
  },
  {
   "cell_type": "code",
   "execution_count": 27,
   "metadata": {
    "collapsed": false,
    "scrolled": true
   },
   "outputs": [],
   "source": [
    "# pkl_f=DATA_FOLDER+'pmc/pickle/pkl_sentences_multi'\n",
    "# sents_multi=[]\n",
    "# count_loop=0\n",
    "# try:\n",
    "#     with open(pkl_f, 'rb') as f:\n",
    "#         sents_multi = cPickle.load(f)\n",
    "# except:\n",
    "#     print\"parsing data\"\n",
    "#     for doc_id_loop in docs:\n",
    "#         count_loop+=1\n",
    "#         print count_loop\n",
    "#         for j in test.parse(docs_multisentences[doc_id_loop], doc_id=doc_id_loop):\n",
    "#             sents_multi.append(j)\n",
    "#     with open(pkl_f, 'w+') as f:\n",
    "#         cPickle.dump(sents_multi, f)"
   ]
  },
  {
   "cell_type": "code",
   "execution_count": 28,
   "metadata": {
    "collapsed": false
   },
   "outputs": [],
   "source": [
    "# print sents_multi[0]"
   ]
  },
  {
   "cell_type": "code",
   "execution_count": 29,
   "metadata": {
    "collapsed": false
   },
   "outputs": [],
   "source": [
    "# R_multi = Relations(sents_multi, GM, PM)"
   ]
  },
  {
   "cell_type": "code",
   "execution_count": 30,
   "metadata": {
    "collapsed": false
   },
   "outputs": [],
   "source": [
    "# DDL_multi = DDLiteModel(R_multi)\n",
    "# print \"Extracted {} features for each of {} mentions\".format(DDL_multi.num_feats(), DDL_multi.num_candidates())"
   ]
  },
  {
   "cell_type": "code",
   "execution_count": 31,
   "metadata": {
    "collapsed": false
   },
   "outputs": [],
   "source": [
    "# DDL_multi.open_mindtagger(num_sample=200, width='100%', height=1200)"
   ]
  },
  {
   "cell_type": "code",
   "execution_count": null,
   "metadata": {
    "collapsed": true
   },
   "outputs": [],
   "source": []
  },
  {
   "cell_type": "code",
   "execution_count": null,
   "metadata": {
    "collapsed": true
   },
   "outputs": [],
   "source": []
  },
  {
   "cell_type": "code",
   "execution_count": null,
   "metadata": {
    "collapsed": true
   },
   "outputs": [],
   "source": []
  }
 ],
 "metadata": {
  "kernelspec": {
   "display_name": "Python 2",
   "language": "python",
   "name": "python2"
  },
  "language_info": {
   "codemirror_mode": {
    "name": "ipython",
    "version": 2
   },
   "file_extension": ".py",
   "mimetype": "text/x-python",
   "name": "python",
   "nbconvert_exporter": "python",
   "pygments_lexer": "ipython2",
   "version": "2.7.9"
  }
 },
 "nbformat": 4,
 "nbformat_minor": 0
}
