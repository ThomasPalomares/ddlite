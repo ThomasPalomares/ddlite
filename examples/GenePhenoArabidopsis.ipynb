{
 "cells": [
  {
   "cell_type": "code",
   "execution_count": 98,
   "metadata": {
    "collapsed": false
   },
   "outputs": [],
   "source": [
    "# %reload_ext autoreload\n",
    "# %autoreload 2\n",
    "\n",
    "import cPickle, os, sys\n",
    "import random\n",
    "sys.path.insert(1, os.path.join(sys.path[0], '..'))\n",
    "\n",
    "from ddlite import *"
   ]
  },
  {
   "cell_type": "markdown",
   "metadata": {
    "collapsed": true
   },
   "source": [
    "# Importing documents"
   ]
  },
  {
   "cell_type": "code",
   "execution_count": 99,
   "metadata": {
    "collapsed": false
   },
   "outputs": [],
   "source": [
    "#Thomas data folder \n",
    "# DATA_FOLDER='/Users/thomaspalomares/Desktop/Stanford/RA/multisentences/data/'\n",
    "#Tanya data folder\n",
    "# DATA_FOLDER='/Users/tanyaberardini/Desktop/DeepDive/data/'\n",
    "DATA_FOLDER='arabidopsis_data/'"
   ]
  },
  {
   "cell_type": "code",
   "execution_count": 100,
   "metadata": {
    "collapsed": true
   },
   "outputs": [],
   "source": [
    "import json"
   ]
  },
  {
   "cell_type": "code",
   "execution_count": 101,
   "metadata": {
    "collapsed": false,
    "scrolled": true
   },
   "outputs": [
    {
     "name": "stdout",
     "output_type": "stream",
     "text": [
      "5917\n",
      "0\n"
     ]
    }
   ],
   "source": [
    "# name_file_to_parse='pmc/round2/PMC_round_2'\n",
    "name_file_to_parse='pmc/round1/output_plant'\n",
    "# #May have to be modified to conserve correct doc_ids (in particular, write in different txt files)\n",
    "nb_lines=0\n",
    "nb_error_parsing=0\n",
    "with open(DATA_FOLDER+name_file_to_parse+'.json', 'rb') as json_file:\n",
    "    with open(DATA_FOLDER+name_file_to_parse + '.text', 'wb') as text_write:\n",
    "        docs={}\n",
    "        for line in json_file:\n",
    "            nb_lines+=1\n",
    "            doc_id_read=str(json.loads(line)['doc-id'].encode('utf-8').strip())\n",
    "#             try:\n",
    "            #Because this doc is too big\n",
    "            if doc_id_read=='10.1093.jxb.eru198':\n",
    "                if random.random() <0.5:\n",
    "                    doc_id_read += '_1'\n",
    "                else:\n",
    "                    doc_id_read += '_2'\n",
    "            if doc_id_read in docs:\n",
    "                docs[doc_id_read] += unicode(str(json.loads(line)['content'].encode('utf-8').strip()) + '.\\n', errors='ignore')\n",
    "            else:\n",
    "                docs[doc_id_read] = unicode(str(json.loads(line)['content'].encode('utf-8').strip()) + '.\\n', errors='ignore')\n",
    "#                 text_write.write(unicode(str(json.loads(line)['content'].encode('utf-8').strip()) + '.\\n', errors='ignore'))\n",
    "#             except:\n",
    "#                 nb_error_parsing +=1\n",
    "#                 print \"error parsing\"\n",
    "print nb_lines\n",
    "print nb_error_parsing"
   ]
  },
  {
   "cell_type": "code",
   "execution_count": 102,
   "metadata": {
    "collapsed": true
   },
   "outputs": [],
   "source": [
    "# # pkl_f=DATA_FOLDER+'pmc/pickle/pkl_sentences_round_2'\n",
    "# pkl_f=DATA_FOLDER+'pmc/pickle/pkl_sentences'\n",
    "# sents=[]\n",
    "# count_loop=0\n",
    "# parser_sent = SentenceParser()\n",
    "# try:\n",
    "#     with open(pkl_f, 'rb') as f:\n",
    "#         sents = cPickle.load(f)\n",
    "# except:\n",
    "#     print\"parsing data\"\n",
    "#     for doc_id_loop in docs:\n",
    "#         count_loop+=1\n",
    "#         print count_loop\n",
    "#         for j in parser_sent.parse(docs[doc_id_loop], doc_id=doc_id_loop):\n",
    "#             sents.append(j)\n",
    "#     with open(pkl_f, 'w+') as f:\n",
    "#         cPickle.dump(sents, f)"
   ]
  },
  {
   "cell_type": "code",
   "execution_count": 103,
   "metadata": {
    "collapsed": false
   },
   "outputs": [],
   "source": [
    "# # Brief code to merge round1 and round2 data.\n",
    "#Not great currently, to be improved with try and except.\n",
    "\n",
    "with open(DATA_FOLDER+'pmc/pickle/pkl_sentences', 'rb') as f:\n",
    "    sents1=cPickle.load(f)\n",
    "    \n",
    "with open(DATA_FOLDER+'pmc/pickle/pkl_sentences_round_2', 'rb') as f:\n",
    "    sents2=cPickle.load(f)\n",
    "\n",
    "sents = sents1 + sents2\n"
   ]
  },
  {
   "cell_type": "code",
   "execution_count": 104,
   "metadata": {
    "collapsed": false
   },
   "outputs": [
    {
     "name": "stdout",
     "output_type": "stream",
     "text": [
      "62655\n",
      "Sentence(words=[u'PROTEIN', u'TARGETING', u'TO', u'STARCH', u'Is', u'Required', u'for', u'Localising', u'GRANULE-BOUND', u'STARCH', u'SYNTHASE', u'to', u'Starch', u'Granules', u'and', u'for', u'Normal', u'Amylose', u'Synthesis', u'in', u'Arabidopsis', u'.'], lemmas=[u'PROTEIN', u'TARGETING', u'to', u'STARCH', u'be', u'require', u'for', u'localise', u'granule-bound', u'starch', u'synthase', u'to', u'Starch', u'Granules', u'and', u'for', u'normal', u'Amylose', u'synthesis', u'in', u'Arabidopsis', u'.'], poses=[u'NNP', u'NNP', u'TO', u'NNP', u'VBZ', u'VBN', u'IN', u'VBG', u'JJ', u'NN', u'NN', u'TO', u'NNP', u'NNPS', u'CC', u'IN', u'JJ', u'NNP', u'NN', u'IN', u'NNP', u'.'], dep_parents=[2, 6, 4, 2, 6, 0, 11, 11, 11, 11, 6, 14, 14, 11, 6, 19, 19, 19, 6, 21, 19, 6], dep_labels=[u'compound', u'nsubjpass', u'case', u'nmod', u'auxpass', u'ROOT', u'case', u'amod', u'amod', u'compound', u'nmod', u'case', u'compound', u'nmod', u'cc', u'case', u'amod', u'compound', u'conj', u'case', u'nmod', u'punct'], sent_id=0, doc_id='PBIOLOGY-D-14-02490', text=u'PROTEIN TARGETING TO STARCH Is Required for Localising GRANULE-BOUND STARCH SYNTHASE to Starch Granules and for Normal Amylose Synthesis in Arabidopsis.', token_idxs=[0, 8, 18, 21, 28, 31, 40, 44, 55, 69, 76, 85, 88, 95, 104, 108, 112, 119, 127, 137, 140, 151], doc_name=None)\n"
     ]
    }
   ],
   "source": [
    "print len(sents)\n",
    "print sents[0]"
   ]
  },
  {
   "cell_type": "code",
   "execution_count": 105,
   "metadata": {
    "collapsed": true
   },
   "outputs": [],
   "source": [
    "sents_tot = sents1 + sents2"
   ]
  },
  {
   "cell_type": "code",
   "execution_count": 106,
   "metadata": {
    "collapsed": false
   },
   "outputs": [],
   "source": [
    "###BRIEF TEST TO BE REMOVED\n",
    "# sents=sents_tot[0:1000]\n",
    "# print len(sents)\n",
    "# print sents[0]"
   ]
  },
  {
   "cell_type": "markdown",
   "metadata": {},
   "source": [
    "# Candidate mention Extraction"
   ]
  },
  {
   "cell_type": "markdown",
   "metadata": {},
   "source": [
    "## Gene extraction"
   ]
  },
  {
   "cell_type": "code",
   "execution_count": 107,
   "metadata": {
    "collapsed": false
   },
   "outputs": [],
   "source": [
    "#What is the exact schema of genes ?\n",
    "genes=[]\n",
    "for row_genes in [line.rstrip().split('\\t') for line in open(DATA_FOLDER + '/dicts/list_genes.txt')]:\n",
    "    for gene in row_genes:\n",
    "        genes.append(gene)\n",
    "        \n",
    "#Removing blacklist_words\n",
    "blacklist_words = [line.rstrip().split('\\t')[1].lower() for line in open(DATA_FOLDER + '/dicts/blacklist_words.txt')][1:]\n",
    "genes_filtered = [x.lower() for x in genes if x.lower() not in blacklist_words]\n",
    "\n",
    "#Adding alleles possibilities (only the longest match is kept anyway)\n",
    "genes_with_alleles_1 = [\"_ \" + x + \" _ - \" + str(i) for x in genes_filtered for i in range(10)]\n",
    "genes_with_alleles_1_bis = [\"_ \" + x + \" _ -\" + str(i) for x in genes_filtered for i in range(10)]\n",
    "genes_with_alleles_2 = [\"_ \" + x + \" _ - _ \" + str(i) + \" _\" for x in genes_filtered for i in range(10)]\n",
    "genes_with_alleles_3 = [x + \" - \" + str(i) for x in genes_filtered for i in range(10)]\n",
    "\n",
    "\n",
    "\n",
    "genes_tot= genes_filtered + genes_with_alleles_1+ genes_with_alleles_1_bis + genes_with_alleles_2 + genes_with_alleles_3"
   ]
  },
  {
   "cell_type": "code",
   "execution_count": 108,
   "metadata": {
    "collapsed": true
   },
   "outputs": [],
   "source": [
    "# gene_dm = DictionaryMatch(label='GeneName', dictionary=genes_filtered, ignore_case=False)\n",
    "gene_dm = ConcatSingleDictionaryMatch(label='GeneName', dictionary=genes_tot, ignore_case=True)"
   ]
  },
  {
   "cell_type": "markdown",
   "metadata": {},
   "source": [
    "The dictionary match should provide fairly high recall, but we may still miss some candidates. We know that gene names are named nouns and are often all uppercase. Let's use DDLite's compositional matcher operations to handle this. First, we'll write a matcher to find all nouns using the parts-of-speech tags. Then, we'll use a filter to find uppercase sequences. Finally, we'll use a filter to make sure each match has at least 3 characters. We pass noun_rm to up_rm, and up_rm to the final filter to compose them with each other."
   ]
  },
  {
   "cell_type": "code",
   "execution_count": 109,
   "metadata": {
    "collapsed": true
   },
   "outputs": [],
   "source": [
    "noun_regex = RegexNgramMatch(label='Nouns', regex_pattern=r'[A-Z]?NN[A-Z]?', ignore_case=True, match_attrib='poses')\n",
    "up_regex = RegexFilterAll(noun_regex, label='Upper', regex_pattern=r'[A-Z]+([0-9]+)?([A-Z]+)?([0-9]+)?$', ignore_case=False, match_attrib='words')\n",
    "multi_regex = RegexFilterAll(up_regex, label='Multi', regex_pattern=r'[a-z0-9]{3,}', ignore_case=True)"
   ]
  },
  {
   "cell_type": "markdown",
   "metadata": {},
   "source": [
    "Since we want matches both from the dictionary and the uppercase-noun-phrase-matcher we just built, we'll use the union object to create a matcher for both."
   ]
  },
  {
   "cell_type": "code",
   "execution_count": 110,
   "metadata": {
    "collapsed": true
   },
   "outputs": [],
   "source": [
    "#The previous regexes seem to catch many patterns not wanted (like 'and' or others), let's ignore it for now and we can add it when we'll work on recall\n",
    "# GM = Union(gene_dm, multi_regex)\n",
    "GM=gene_dm"
   ]
  },
  {
   "cell_type": "markdown",
   "metadata": {},
   "source": [
    "## Pheno extraction"
   ]
  },
  {
   "cell_type": "code",
   "execution_count": 111,
   "metadata": {
    "collapsed": false
   },
   "outputs": [],
   "source": [
    "# Schema is: HPO_ID | NAME | TYPE (exact, lemma)\n",
    "phenos_deepdive = [line.rstrip().split('\\t')[1] for line in open(DATA_FOLDER + '/dicts/pheno_terms.tsv')]\n",
    "phenos_arabidopsis = [line.rstrip() for line in open(DATA_FOLDER + '/dicts/list_phenotypes_arabidopsis_filtered.txt')]\n",
    "phenos_worm_variants = [line.rstrip() for line in open(DATA_FOLDER + '/dicts/worm_variants_unix.txt')]\n",
    "phenos_all_eq_dict = [pheno.strip() for line in open(DATA_FOLDER + 'dicts/phenotypes_all_eq_dict.txt') for pheno in line.rstrip().split(';')]\n",
    "phenos_manual = [line.rstrip() for line in open(DATA_FOLDER + '/dicts/phenotypes_manual.txt')]\n",
    "\n",
    "phenos_tot = phenos_deepdive + phenos_arabidopsis + phenos_worm_variants + phenos_all_eq_dict + phenos_manual\n",
    "\n",
    "#Removing the phenotypes that are in the blacklist.\n",
    "blacklist_words = [line.rstrip().split('\\t')[1].lower() for line in open(DATA_FOLDER + '/dicts/blacklist_words.txt')][1:]\n",
    "phenos_tot_filtered = [x.lower() for x in phenos_tot if x.lower() not in blacklist_words]\n",
    "\n",
    "PM = DictionaryMatch(label='PhenoName', dictionary=phenos_tot_filtered)"
   ]
  },
  {
   "cell_type": "code",
   "execution_count": 112,
   "metadata": {
    "collapsed": true
   },
   "outputs": [],
   "source": [
    "#Function to read obo files (from the obo foundry, for PATO, CHEBI and PO)\n",
    "\"\"\"\n",
    "A constant-space parser for the GeneOntology OBO v1.2 format\n",
    "\n",
    "Version 1.0\n",
    "\"\"\"\n",
    "from __future__ import with_statement\n",
    "from collections import defaultdict\n",
    "\n",
    "__author__    = \"Uli Koehler\"\n",
    "__copyright__ = \"Copyright 2013 Uli Koehler\"\n",
    "__license__   = \"Apache v2.0\"\n",
    "\n",
    "def processGOTerm(goTerm):\n",
    "    \"\"\"\n",
    "    In an object representing a GO term, replace single-element lists with\n",
    "    their only member.\n",
    "    Returns the modified object as a dictionary.\n",
    "    \"\"\"\n",
    "    ret = dict(goTerm) #Input is a defaultdict, might express unexpected behaviour\n",
    "    for key, value in ret.iteritems():\n",
    "        if len(value) == 1:\n",
    "            ret[key] = value[0]\n",
    "    return ret\n",
    "\n",
    "def parseGOOBO(filename):\n",
    "    \"\"\"\n",
    "    Parses a Gene Ontology dump in OBO v1.2 format.\n",
    "    Yields each \n",
    "    Keyword arguments:\n",
    "        filename: The filename to read\n",
    "    \"\"\"\n",
    "    with open(filename, \"r\") as infile:\n",
    "        currentGOTerm = None\n",
    "        for line in infile:\n",
    "            line = line.strip()\n",
    "            if not line: continue #Skip empty\n",
    "            if line == \"[Term]\":\n",
    "                if currentGOTerm: yield processGOTerm(currentGOTerm)\n",
    "                currentGOTerm = defaultdict(list)\n",
    "            elif line == \"[Typedef]\":\n",
    "                #Skip [Typedef sections]\n",
    "                currentGOTerm = None\n",
    "            else: #Not [Term]\n",
    "                #Only process if we're inside a [Term] environment\n",
    "                if currentGOTerm is None: continue\n",
    "                key, sep, val = line.partition(\":\")\n",
    "                currentGOTerm[key].append(val.strip())\n",
    "        #Add last term\n",
    "        if currentGOTerm is not None:\n",
    "            yield processGOTerm(currentGOTerm)"
   ]
  },
  {
   "cell_type": "code",
   "execution_count": 113,
   "metadata": {
    "collapsed": false
   },
   "outputs": [],
   "source": [
    "po_ontology = []\n",
    "# test_count=0\n",
    "for elt in parseGOOBO(DATA_FOLDER + 'dicts/po.obo'):\n",
    "#     test_count+=1\n",
    "#     if test_count < 10:\n",
    "    po_ontology.append(elt['name'])\n",
    "    \n",
    "chebi_ontology =[]\n",
    "for elt in parseGOOBO(DATA_FOLDER + 'dicts/chebi.obo'):\n",
    "    chebi_ontology.append(elt['name'])\n",
    "    \n",
    "pato_ontology =[]\n",
    "for elt in parseGOOBO(DATA_FOLDER + 'dicts/pato.obo'):\n",
    "    pato_ontology.append(elt['name'])"
   ]
  },
  {
   "cell_type": "markdown",
   "metadata": {},
   "source": [
    "# Relation Extraction"
   ]
  },
  {
   "cell_type": "markdown",
   "metadata": {},
   "source": [
    "For each sentence, we extract a candidate relation for each pair (gene, phenotype) appearing in the sentence."
   ]
  },
  {
   "cell_type": "code",
   "execution_count": 114,
   "metadata": {
    "collapsed": false
   },
   "outputs": [],
   "source": [
    "R = Relations(sents, GM, PM)"
   ]
  },
  {
   "cell_type": "code",
   "execution_count": 115,
   "metadata": {
    "collapsed": false
   },
   "outputs": [
    {
     "data": {
      "text/html": [
       "<style>\n",
       ".node {\n",
       "  cursor: pointer;\n",
       "}\n",
       "\n",
       ".node circle {\n",
       "  fill: #fff;\n",
       "  stroke: steelblue;\n",
       "  stroke-width: 3px;\n",
       "}\n",
       "\n",
       ".node text {\n",
       "  font: 12px sans-serif;\n",
       "}\n",
       "\n",
       ".edge {\n",
       "  fill: none;\n",
       "  stroke: #ccc;\n",
       "  stroke-width: 2px;\n",
       "  cursor: pointer;\n",
       "}\n",
       "\n",
       ".highlight {\n",
       "  stroke: red;\n",
       "  stroke-width: 3px;\n",
       "}\n",
       "</style>\n",
       "\n",
       "<!--Provide the canvas id (twice) and the words via python string formatting here--!>\n",
       "<div id=\"tree-chart-6624146308438970772\"></div>\n",
       "<div id=\"raw-seq-6624146308438970772\">\n",
       "<span class=\"word-6624146308438970772-0\">Consistent</span> <span class=\"word-6624146308438970772-1\">with</span> <span class=\"word-6624146308438970772-2\">these</span> <span class=\"word-6624146308438970772-3\">localisations</span> <span class=\"word-6624146308438970772-4\">,</span> <span class=\"word-6624146308438970772-5\">the</span> <span class=\"word-6624146308438970772-6\">amount</span> <span class=\"word-6624146308438970772-7\">of</span> <span class=\"word-6624146308438970772-8\">granule-bound</span> <span class=\"word-6624146308438970772-9\">PTST</span> <span class=\"word-6624146308438970772-10\">detected</span> <span class=\"word-6624146308438970772-11\">in</span> <span class=\"word-6624146308438970772-12\">wild-type</span> <span class=\"word-6624146308438970772-13\">Arabidopsis</span> <span class=\"word-6624146308438970772-14\">in</span> <span class=\"word-6624146308438970772-15\">is</span> <span class=\"word-6624146308438970772-16\">small</span> <span class=\"word-6624146308438970772-17\">compared</span> <span class=\"word-6624146308438970772-18\">to</span> <span class=\"word-6624146308438970772-19\">stromal</span> <span class=\"word-6624146308438970772-20\">PTST</span> <span class=\"word-6624146308438970772-21\">.</span>\n",
       "</div>\n"
      ]
     },
     "metadata": {},
     "output_type": "display_data"
    },
    {
     "data": {
      "application/javascript": [
       "$.getScript(\"http://d3js.org/d3.v3.min.js\", function () {\n",
       "// See http://bl.ocks.org/d3noob/8375092\n",
       "// Three vars need to be provided via python string formatting:\n",
       "var chartId = \"6624146308438970772\";\n",
       "var root = {\"attrib\": {\"token_idx\": \"31451\", \"word\": \"amount\", \"dep_label\": \"ROOT\", \"pos\": \"NN\", \"lemma\": \"amount\", \"word_idx\": \"6\", \"dep_parent\": \"0\"}, \"children\": [{\"attrib\": {\"token_idx\": \"31410\", \"word\": \"Consistent\", \"dep_label\": \"dep\", \"pos\": \"JJ\", \"lemma\": \"consistent\", \"word_idx\": \"0\", \"dep_parent\": \"7\"}, \"children\": [{\"attrib\": {\"token_idx\": \"31432\", \"word\": \"localisations\", \"dep_label\": \"nmod\", \"pos\": \"NNS\", \"lemma\": \"localisation\", \"word_idx\": \"3\", \"dep_parent\": \"1\"}, \"children\": [{\"attrib\": {\"token_idx\": \"31421\", \"word\": \"with\", \"dep_label\": \"case\", \"pos\": \"IN\", \"lemma\": \"with\", \"word_idx\": \"1\", \"dep_parent\": \"4\"}, \"children\": []}, {\"attrib\": {\"token_idx\": \"31426\", \"word\": \"these\", \"dep_label\": \"det\", \"pos\": \"DT\", \"lemma\": \"these\", \"word_idx\": \"2\", \"dep_parent\": \"4\"}, \"children\": []}]}]}, {\"attrib\": {\"token_idx\": \"31445\", \"word\": \",\", \"dep_label\": \"punct\", \"pos\": \",\", \"lemma\": \",\", \"word_idx\": \"4\", \"dep_parent\": \"7\"}, \"children\": []}, {\"attrib\": {\"token_idx\": \"31447\", \"word\": \"the\", \"dep_label\": \"det\", \"pos\": \"DT\", \"lemma\": \"the\", \"word_idx\": \"5\", \"dep_parent\": \"7\"}, \"children\": []}, {\"attrib\": {\"token_idx\": \"31475\", \"word\": \"PTST\", \"dep_label\": \"nmod\", \"pos\": \"NN\", \"lemma\": \"ptst\", \"word_idx\": \"9\", \"dep_parent\": \"7\"}, \"children\": [{\"attrib\": {\"token_idx\": \"31458\", \"word\": \"of\", \"dep_label\": \"case\", \"pos\": \"IN\", \"lemma\": \"of\", \"word_idx\": \"7\", \"dep_parent\": \"10\"}, \"children\": []}, {\"attrib\": {\"token_idx\": \"31461\", \"word\": \"granule-bound\", \"dep_label\": \"amod\", \"pos\": \"JJ\", \"lemma\": \"granule-bound\", \"word_idx\": \"8\", \"dep_parent\": \"10\"}, \"children\": []}]}, {\"attrib\": {\"token_idx\": \"31480\", \"word\": \"detected\", \"dep_label\": \"acl\", \"pos\": \"VBN\", \"lemma\": \"detect\", \"word_idx\": \"10\", \"dep_parent\": \"7\"}, \"children\": [{\"attrib\": {\"token_idx\": \"31502\", \"word\": \"Arabidopsis\", \"dep_label\": \"nmod\", \"pos\": \"NNP\", \"lemma\": \"Arabidopsis\", \"word_idx\": \"13\", \"dep_parent\": \"11\"}, \"children\": [{\"attrib\": {\"token_idx\": \"31489\", \"word\": \"in\", \"dep_label\": \"case\", \"pos\": \"IN\", \"lemma\": \"in\", \"word_idx\": \"11\", \"dep_parent\": \"14\"}, \"children\": []}, {\"attrib\": {\"token_idx\": \"31492\", \"word\": \"wild-type\", \"dep_label\": \"amod\", \"pos\": \"JJ\", \"lemma\": \"wild-type\", \"word_idx\": \"12\", \"dep_parent\": \"14\"}, \"children\": []}]}]}, {\"attrib\": {\"token_idx\": \"31520\", \"word\": \"small\", \"dep_label\": \"acl\", \"pos\": \"JJ\", \"lemma\": \"small\", \"word_idx\": \"16\", \"dep_parent\": \"7\"}, \"children\": [{\"attrib\": {\"token_idx\": \"31514\", \"word\": \"in\", \"dep_label\": \"mark\", \"pos\": \"IN\", \"lemma\": \"in\", \"word_idx\": \"14\", \"dep_parent\": \"17\"}, \"children\": []}, {\"attrib\": {\"token_idx\": \"31517\", \"word\": \"is\", \"dep_label\": \"cop\", \"pos\": \"VBZ\", \"lemma\": \"be\", \"word_idx\": \"15\", \"dep_parent\": \"17\"}, \"children\": []}, {\"attrib\": {\"token_idx\": \"31546\", \"word\": \"PTST\", \"dep_label\": \"advcl\", \"pos\": \"NN\", \"lemma\": \"ptst\", \"word_idx\": \"20\", \"dep_parent\": \"17\"}, \"children\": [{\"attrib\": {\"token_idx\": \"31526\", \"word\": \"compared\", \"dep_label\": \"case\", \"pos\": \"VBN\", \"lemma\": \"compare\", \"word_idx\": \"17\", \"dep_parent\": \"21\"}, \"children\": []}, {\"attrib\": {\"token_idx\": \"31535\", \"word\": \"to\", \"dep_label\": \"case\", \"pos\": \"TO\", \"lemma\": \"to\", \"word_idx\": \"18\", \"dep_parent\": \"21\"}, \"children\": []}, {\"attrib\": {\"token_idx\": \"31538\", \"word\": \"stromal\", \"dep_label\": \"amod\", \"pos\": \"JJ\", \"lemma\": \"stromal\", \"word_idx\": \"19\", \"dep_parent\": \"21\"}, \"children\": []}]}]}, {\"attrib\": {\"token_idx\": \"31550\", \"word\": \".\", \"dep_label\": \"punct\", \"pos\": \".\", \"lemma\": \".\", \"word_idx\": \"21\", \"dep_parent\": \"7\"}, \"children\": []}]};\n",
       "var highlightIdxs = [[20], [16]];\n",
       "\n",
       "// Highlight words / nodes\n",
       "var COLORS = [\"#ff5c33\", \"#ffcc00\", \"#33cc33\", \"#3399ff\"];\n",
       "function highlightWords() {\n",
       "  for (var i=0; i < highlightIdxs.length; i++) {\n",
       "    var c = COLORS[i];\n",
       "    var idxs = highlightIdxs[i];\n",
       "    for (var j=0; j < idxs.length; j++) {\n",
       "      d3.selectAll(\".word-\"+chartId+\"-\"+idxs[j]).style(\"stroke\", c).style(\"background\", c);\n",
       "    }\n",
       "  }\n",
       "}\n",
       "\n",
       "// Constants\n",
       "var margin = {top: 20, right: 20, bottom: 20, left: 20},\n",
       "width = 800 - margin.left - margin.right,\n",
       "height = 350 - margin.top - margin.bottom,\n",
       "R = 5;\n",
       "\n",
       "// Create the d3 tree object\n",
       "var tree = d3.layout.tree()\n",
       "  .size([width, height]);\n",
       "\n",
       "// Create the svg canvas\n",
       "var svg = d3.select(\"#tree-chart-\" + chartId)\n",
       "  .append(\"svg\")\n",
       "  .attr(\"width\", width + margin.left + margin.right)\n",
       "  .attr(\"height\", height + margin.top + margin.bottom)\n",
       "  .append(\"g\")\n",
       "  .attr(\"transform\", \"translate(\" + margin.left + \",\" + margin.top + \")\");\n",
       "\n",
       "function renderTree() {\n",
       "  var nodes = tree.nodes(root),\n",
       "  edges = tree.links(nodes);\n",
       "\n",
       "  // Place the nodes\n",
       "  var nodeGroups = svg.selectAll(\"g.node\")\n",
       "    .data(nodes)\n",
       "    .enter().append(\"g\")\n",
       "    .attr(\"class\", \"node\")\n",
       "    .attr(\"transform\", function(d) { return \"translate(\" + d.x + \",\" + d.y + \")\"; });\n",
       "       \n",
       "  // Append circles\n",
       "  nodeGroups.append(\"circle\")\n",
       "    //.on(\"click\", function() {\n",
       "    //  d3.select(this).classed(\"highlight\", !d3.select(this).classed(\"highlight\")); })\n",
       "    .attr(\"r\", R)\n",
       "    .attr(\"class\", function(d) { return \"word-\"+chartId+\"-\"+d.attrib.word_idx; });\n",
       "     \n",
       "  // Append the actual word\n",
       "  nodeGroups.append(\"text\")\n",
       "    .text(function(d) { return d.attrib.word; })\n",
       "    .attr(\"text-anchor\", function(d) { \n",
       "      return d.children && d.children.length > 0 ? \"start\" : \"middle\"; })\n",
       "    .attr(\"dx\", function(d) { \n",
       "      return d.children && d.children.length > 0 ? R + 3 : 0; })\n",
       "    .attr(\"dy\", function(d) { \n",
       "      return d.children && d.children.length > 0 ? 0 : 3*R + 3; });\n",
       "\n",
       "  // Place the edges\n",
       "  var edgePaths = svg.selectAll(\"path\")\n",
       "    .data(edges)\n",
       "    .enter().append(\"path\")\n",
       "    .attr(\"class\", \"edge\")\n",
       "    .on(\"click\", function() {\n",
       "      d3.select(this).classed(\"highlight\", !d3.select(this).classed(\"highlight\")); })\n",
       "    .attr(\"d\", d3.svg.diagonal());\n",
       "}\n",
       "\n",
       "renderTree();\n",
       "highlightWords();\n",
       "});\n"
      ]
     },
     "metadata": {},
     "output_type": "display_data"
    }
   ],
   "source": [
    "R[5].render()"
   ]
  },
  {
   "cell_type": "code",
   "execution_count": 116,
   "metadata": {
    "collapsed": false
   },
   "outputs": [],
   "source": [
    "# test_sent=9\n",
    "# for i in range(len(R[test_sent].dep_parents)):\n",
    "#     print i, R[test_sent].words[i], R[test_sent].dep_parents[i], R[test_sent].poses[i]"
   ]
  },
  {
   "cell_type": "code",
   "execution_count": 117,
   "metadata": {
    "collapsed": true
   },
   "outputs": [],
   "source": [
    "# R.dump_candidates('pickle/relations.pkl')"
   ]
  },
  {
   "cell_type": "markdown",
   "metadata": {},
   "source": [
    "# ddlite Model"
   ]
  },
  {
   "cell_type": "markdown",
   "metadata": {},
   "source": [
    "We create a ddlite model from the previous candidates, on which we will extract features, define labeling functions and learn a model. "
   ]
  },
  {
   "cell_type": "code",
   "execution_count": 118,
   "metadata": {
    "collapsed": false
   },
   "outputs": [
    {
     "name": "stdout",
     "output_type": "stream",
     "text": [
      "Extracted 95957 features for each of 3908 mentions\n"
     ]
    }
   ],
   "source": [
    "DDL = DDLiteModel(R)\n",
    "print \"Extracted {} features for each of {} mentions\".format(DDL.num_feats(), DDL.num_candidates())"
   ]
  },
  {
   "cell_type": "markdown",
   "metadata": {},
   "source": [
    "# Building a gold ground truth"
   ]
  },
  {
   "cell_type": "markdown",
   "metadata": {},
   "source": [
    "We label here a certain amount of sentences that will allow us to evaluate our model."
   ]
  },
  {
   "cell_type": "code",
   "execution_count": 119,
   "metadata": {
    "collapsed": false
   },
   "outputs": [],
   "source": [
    "#Importing previous mentions labeled\n",
    "tags_file = DATA_FOLDER + 'tags/tags_fccb81915ae086e3'\n",
    "first_line=True\n",
    "tags_list=[]\n",
    "with open(tags_file, 'rb') as f:\n",
    "    for line in f:\n",
    "        if first_line:\n",
    "            header=line.rstrip().split('\\t')\n",
    "            first_line=False\n",
    "        else:\n",
    "            res={}\n",
    "            for i, item in enumerate(line.rstrip().split('\\t')):\n",
    "                res[header[i]]=item\n",
    "            res['sent_id']=int(res['sent_id'])\n",
    "            res['e1_idxs'] = map(int, res['e1_idxs'][1:-1].split(','))\n",
    "            res['e2_idxs'] = map(int, res['e2_idxs'][1:-1].split(','))\n",
    "            tags_list.append(res)"
   ]
  },
  {
   "cell_type": "code",
   "execution_count": 120,
   "metadata": {
    "collapsed": false,
    "scrolled": true
   },
   "outputs": [
    {
     "name": "stdout",
     "output_type": "stream",
     "text": [
      "200\n",
      "{'e2_idxs': [7], 'wrong gene': '\\\\N', 'e1_label': 'GeneName', 'probability': '', 'e2_label': 'PhenoName', 'sent_id': 132, 'multiple mutant': '\\\\N', 'is_correct': 'false', 'one word phenotype not useful': '\\\\N', 'words': '[\"However\", \",\", \"the\", \"rates\", \"of\", \"germination\", \"and\", \"cotyledon\", \"greening\", \"among\", \"_\", \"abi4\", \"_\", \",\", \"WT\", \"and\", \"_\", \"OE-ABI4\", \"_\", \"were\", \"comparable\", \"when\", \"we\", \"used\", \"medium\", \"supplemented\", \"with\", \"exogenous\", \"GA.\", \".\"]', 'wrong phenotype': 'true', 'e1_idxs': [11], 'doc_id': '10.1371.journal.pgen.1003577', 'overlapping gene and phenotype': '\\\\N', 'ext_id': '430'}\n"
     ]
    }
   ],
   "source": [
    "print len(tags_list)\n",
    "print tags_list[0]"
   ]
  },
  {
   "cell_type": "code",
   "execution_count": 129,
   "metadata": {
    "collapsed": false
   },
   "outputs": [],
   "source": [
    "#Finding the index in DDL of our labeled data\n",
    "def func_DDL_index_with_tag(DDL_var, tag_var):\n",
    "#     count=0\n",
    "    for i in range(DDL.num_candidates()):\n",
    "        if DDL.C[i].doc_id==tag_var['doc_id']:\n",
    "            if DDL.C[i].sent_id==tag_var['sent_id']:\n",
    "                if DDL.C[i].e1_idxs==tag_var['e1_idxs']:\n",
    "                    if DDL.C[i].e2_idxs==tag_var['e2_idxs']:\n",
    "#                         count+=1\n",
    "                        return DDL.C[i].uid\n",
    "    return -1\n",
    "#     if count >1:\n",
    "#         print 'WEIRD: more than one element found'"
   ]
  },
  {
   "cell_type": "code",
   "execution_count": 134,
   "metadata": {
    "collapsed": false,
    "scrolled": true
   },
   "outputs": [
    {
     "name": "stderr",
     "output_type": "stream",
     "text": [
      "../ddlite.py:592: VisibleDeprecationWarning: using a non-integer number instead of an integer will result in an error in the future\n",
      "  self.validation = h[ : np.floor(validation_frac * len(h))]\n",
      "../ddlite.py:593: VisibleDeprecationWarning: using a non-integer number instead of an integer will result in an error in the future\n",
      "  self.test = h[np.floor(validation_frac * len(h)) : ]\n"
     ]
    }
   ],
   "source": [
    "#Creating the corresponding gold file\n",
    "gold =[]\n",
    "gold_uids = []\n",
    "for i in range(len(tags_list)):\n",
    "    uid_idx = func_DDL_index_with_tag(DDL, tags_list[i])\n",
    "    if uid_idx > -1:\n",
    "        if tags_list[i]['is_correct']=='false':\n",
    "            gold.append(-1)\n",
    "            gold_uids.append(uid_idx)\n",
    "        if tags_list[i]['is_correct']=='true':\n",
    "            gold.append(1)\n",
    "            gold_uids.append(uid_idx)\n",
    "            \n",
    "DDL.update_gt(gold, uids=gold_uids)\n",
    "DDL.set_holdout(validation_frac=0.8)"
   ]
  },
  {
   "cell_type": "code",
   "execution_count": 135,
   "metadata": {
    "collapsed": false
   },
   "outputs": [
    {
     "data": {
      "text/plain": [
       "[-1, -1, -1, -1, -1, -1, -1, 1, -1, -1, -1, 1, -1, -1, -1, -1, 1]"
      ]
     },
     "execution_count": 135,
     "metadata": {},
     "output_type": "execute_result"
    }
   ],
   "source": [
    "gold"
   ]
  },
  {
   "cell_type": "code",
   "execution_count": 136,
   "metadata": {
    "collapsed": false,
    "scrolled": true
   },
   "outputs": [
    {
     "name": "stdout",
     "output_type": "stream",
     "text": [
      "Making sure MindTagger is installed. Hang on!\n"
     ]
    },
    {
     "data": {
      "text/html": [
       "\n",
       "        <iframe\n",
       "            width=\"100%\"\n",
       "            height=\"1200\"\n",
       "            src=\"http://DN51s43o.SUNet:8971/#/mindtagger/e155c0ba6215e011\"\n",
       "            frameborder=\"0\"\n",
       "            allowfullscreen\n",
       "        ></iframe>\n",
       "        "
      ],
      "text/plain": [
       "<IPython.lib.display.IFrame at 0x13d030850>"
      ]
     },
     "execution_count": 136,
     "metadata": {},
     "output_type": "execute_result"
    }
   ],
   "source": [
    "#Yellow: gene. Blue: phenotype\n",
    "DDL.open_mindtagger(num_sample=200, width='100%', height=1200)"
   ]
  },
  {
   "cell_type": "code",
   "execution_count": 137,
   "metadata": {
    "collapsed": false,
    "scrolled": true
   },
   "outputs": [],
   "source": [
    "# DDL.add_mindtagger_tags()\n",
    "# DDL.get_ground_truth()"
   ]
  },
  {
   "cell_type": "code",
   "execution_count": 152,
   "metadata": {
    "collapsed": false
   },
   "outputs": [
    {
     "name": "stdout",
     "output_type": "stream",
     "text": [
      "2077\n",
      "2079\n",
      "2080\n",
      "2082\n",
      "2083\n",
      "2094\n",
      "2095\n",
      "2098\n",
      "2099\n",
      "2103\n",
      "2107\n",
      "2108\n",
      "2109\n",
      "[42] [25] However , the finding that greatly reduced Rubisco within the _ raf_1 mutant leaves had no observable effect on any other plastid-encoded proteins represents a clear difference from the effects observed in lower regions of the _ rlsb _ -1 / _ rlsb _ -2 leaves .\n",
      "2110\n",
      "[37] [25] However , the finding that greatly reduced Rubisco within the _ raf_1 mutant leaves had no observable effect on any other plastid-encoded proteins represents a clear difference from the effects observed in lower regions of the _ rlsb _ -1 / _ rlsb _ -2 leaves .\n",
      "2111\n",
      "2112\n",
      "2113\n",
      "2114\n"
     ]
    }
   ],
   "source": [
    "test_ext_id=2110\n",
    "for i in range(len(R)):\n",
    "    if R[i].sent_id == R[test_ext_id].sent_id and R[i].doc_id == R[test_ext_id].doc_id:\n",
    "        print R[i].e1_idxs, R[i].e2_idxs, ' '.join(R[i].words)\n",
    "    if 'rlsb' in [R[i].words[j] for j in R[i].e1_idxs]:\n",
    "        print i"
   ]
  },
  {
   "cell_type": "code",
   "execution_count": null,
   "metadata": {
    "collapsed": false
   },
   "outputs": [],
   "source": []
  },
  {
   "cell_type": "markdown",
   "metadata": {},
   "source": [
    "# Writing labeling functions"
   ]
  },
  {
   "cell_type": "markdown",
   "metadata": {},
   "source": [
    "We'll use data programming to learn a logistic regression model which will predict the probability of a candidate entity being a true gene mention. Since our training data is not manually labeled, we'll generate many (potentially noisy) labels as a surrogate for precise, manual labels. Feature extraction and model learning are very simple in ddlite. Writing labeling functions is where the real artistry comes in. One of ddlite's goals is to enable rapid prototyping, debugging, and experimenting with labeling functions. These can be used either to create a simple standalone app, or to plug into DeepDive. Labeling functions, or LFs, are functions that take an Candidate object. They must return 1 (for a positive label), 0 (for abstaining), or -1 (for a negative example). For now, we'll write a few simple LFs to get started:"
   ]
  },
  {
   "cell_type": "code",
   "execution_count": 139,
   "metadata": {
    "collapsed": false,
    "scrolled": true
   },
   "outputs": [
    {
     "data": {
      "text/html": [
       "<style>\n",
       ".node {\n",
       "  cursor: pointer;\n",
       "}\n",
       "\n",
       ".node circle {\n",
       "  fill: #fff;\n",
       "  stroke: steelblue;\n",
       "  stroke-width: 3px;\n",
       "}\n",
       "\n",
       ".node text {\n",
       "  font: 12px sans-serif;\n",
       "}\n",
       "\n",
       ".edge {\n",
       "  fill: none;\n",
       "  stroke: #ccc;\n",
       "  stroke-width: 2px;\n",
       "  cursor: pointer;\n",
       "}\n",
       "\n",
       ".highlight {\n",
       "  stroke: red;\n",
       "  stroke-width: 3px;\n",
       "}\n",
       "</style>\n",
       "\n",
       "<!--Provide the canvas id (twice) and the words via python string formatting here--!>\n",
       "<div id=\"tree-chart-4563671634209984556\"></div>\n",
       "<div id=\"raw-seq-4563671634209984556\">\n",
       "<span class=\"word-4563671634209984556-0\">The</span> <span class=\"word-4563671634209984556-1\">Arabidopsis</span> <span class=\"word-4563671634209984556-2\">_</span> <span class=\"word-4563671634209984556-3\">ss4</span> <span class=\"word-4563671634209984556-4\">_</span> <span class=\"word-4563671634209984556-5\">mutant</span> <span class=\"word-4563671634209984556-6\">phenotype</span> <span class=\"word-4563671634209984556-7\">is</span> <span class=\"word-4563671634209984556-8\">characterised</span> <span class=\"word-4563671634209984556-9\">by</span> <span class=\"word-4563671634209984556-10\">the</span> <span class=\"word-4563671634209984556-11\">loss</span> <span class=\"word-4563671634209984556-12\">of</span> <span class=\"word-4563671634209984556-13\">starch</span> <span class=\"word-4563671634209984556-14\">in</span> <span class=\"word-4563671634209984556-15\">younger</span> <span class=\"word-4563671634209984556-16\">leaves</span> <span class=\"word-4563671634209984556-17\">,</span> <span class=\"word-4563671634209984556-18\">and</span> <span class=\"word-4563671634209984556-19\">chloroplasts</span> <span class=\"word-4563671634209984556-20\">of</span> <span class=\"word-4563671634209984556-21\">older</span> <span class=\"word-4563671634209984556-22\">leaves</span> <span class=\"word-4563671634209984556-23\">contain</span> <span class=\"word-4563671634209984556-24\">one</span> <span class=\"word-4563671634209984556-25\">large</span> <span class=\"word-4563671634209984556-26\">starch</span> <span class=\"word-4563671634209984556-27\">granule</span> <span class=\"word-4563671634209984556-28\">.</span>\n",
       "</div>\n"
      ]
     },
     "metadata": {},
     "output_type": "display_data"
    },
    {
     "data": {
      "application/javascript": [
       "$.getScript(\"http://d3js.org/d3.v3.min.js\", function () {\n",
       "// See http://bl.ocks.org/d3noob/8375092\n",
       "// Three vars need to be provided via python string formatting:\n",
       "var chartId = \"4563671634209984556\";\n",
       "var root = {\"attrib\": {\"token_idx\": \"36640\", \"word\": \"characterised\", \"dep_label\": \"ROOT\", \"pos\": \"VBN\", \"lemma\": \"characterise\", \"word_idx\": \"8\", \"dep_parent\": \"0\"}, \"children\": [{\"attrib\": {\"token_idx\": \"36627\", \"word\": \"phenotype\", \"dep_label\": \"nsubjpass\", \"pos\": \"NN\", \"lemma\": \"phenotype\", \"word_idx\": \"6\", \"dep_parent\": \"9\"}, \"children\": [{\"attrib\": {\"token_idx\": \"36598\", \"word\": \"The\", \"dep_label\": \"det\", \"pos\": \"DT\", \"lemma\": \"the\", \"word_idx\": \"0\", \"dep_parent\": \"7\"}, \"children\": []}, {\"attrib\": {\"token_idx\": \"36602\", \"word\": \"Arabidopsis\", \"dep_label\": \"compound\", \"pos\": \"NNP\", \"lemma\": \"Arabidopsis\", \"word_idx\": \"1\", \"dep_parent\": \"7\"}, \"children\": []}, {\"attrib\": {\"token_idx\": \"36614\", \"word\": \"_\", \"dep_label\": \"compound\", \"pos\": \"NN\", \"lemma\": \"_\", \"word_idx\": \"2\", \"dep_parent\": \"7\"}, \"children\": []}, {\"attrib\": {\"token_idx\": \"36615\", \"word\": \"ss4\", \"dep_label\": \"compound\", \"pos\": \"NN\", \"lemma\": \"ss4\", \"word_idx\": \"3\", \"dep_parent\": \"7\"}, \"children\": []}, {\"attrib\": {\"token_idx\": \"36618\", \"word\": \"_\", \"dep_label\": \"nummod\", \"pos\": \"CD\", \"lemma\": \"_\", \"word_idx\": \"4\", \"dep_parent\": \"7\"}, \"children\": []}, {\"attrib\": {\"token_idx\": \"36620\", \"word\": \"mutant\", \"dep_label\": \"amod\", \"pos\": \"JJ\", \"lemma\": \"mutant\", \"word_idx\": \"5\", \"dep_parent\": \"7\"}, \"children\": []}]}, {\"attrib\": {\"token_idx\": \"36637\", \"word\": \"is\", \"dep_label\": \"auxpass\", \"pos\": \"VBZ\", \"lemma\": \"be\", \"word_idx\": \"7\", \"dep_parent\": \"9\"}, \"children\": []}, {\"attrib\": {\"token_idx\": \"36661\", \"word\": \"loss\", \"dep_label\": \"nmod\", \"pos\": \"NN\", \"lemma\": \"loss\", \"word_idx\": \"11\", \"dep_parent\": \"9\"}, \"children\": [{\"attrib\": {\"token_idx\": \"36654\", \"word\": \"by\", \"dep_label\": \"case\", \"pos\": \"IN\", \"lemma\": \"by\", \"word_idx\": \"9\", \"dep_parent\": \"12\"}, \"children\": []}, {\"attrib\": {\"token_idx\": \"36657\", \"word\": \"the\", \"dep_label\": \"det\", \"pos\": \"DT\", \"lemma\": \"the\", \"word_idx\": \"10\", \"dep_parent\": \"12\"}, \"children\": []}, {\"attrib\": {\"token_idx\": \"36669\", \"word\": \"starch\", \"dep_label\": \"nmod\", \"pos\": \"NN\", \"lemma\": \"starch\", \"word_idx\": \"13\", \"dep_parent\": \"12\"}, \"children\": [{\"attrib\": {\"token_idx\": \"36666\", \"word\": \"of\", \"dep_label\": \"case\", \"pos\": \"IN\", \"lemma\": \"of\", \"word_idx\": \"12\", \"dep_parent\": \"14\"}, \"children\": []}]}, {\"attrib\": {\"token_idx\": \"36687\", \"word\": \"leaves\", \"dep_label\": \"nmod\", \"pos\": \"NNS\", \"lemma\": \"leaf\", \"word_idx\": \"16\", \"dep_parent\": \"12\"}, \"children\": [{\"attrib\": {\"token_idx\": \"36676\", \"word\": \"in\", \"dep_label\": \"case\", \"pos\": \"IN\", \"lemma\": \"in\", \"word_idx\": \"14\", \"dep_parent\": \"17\"}, \"children\": []}, {\"attrib\": {\"token_idx\": \"36679\", \"word\": \"younger\", \"dep_label\": \"amod\", \"pos\": \"JJR\", \"lemma\": \"younger\", \"word_idx\": \"15\", \"dep_parent\": \"17\"}, \"children\": []}]}]}, {\"attrib\": {\"token_idx\": \"36693\", \"word\": \",\", \"dep_label\": \"punct\", \"pos\": \",\", \"lemma\": \",\", \"word_idx\": \"17\", \"dep_parent\": \"9\"}, \"children\": []}, {\"attrib\": {\"token_idx\": \"36695\", \"word\": \"and\", \"dep_label\": \"cc\", \"pos\": \"CC\", \"lemma\": \"and\", \"word_idx\": \"18\", \"dep_parent\": \"9\"}, \"children\": []}, {\"attrib\": {\"token_idx\": \"36721\", \"word\": \"leaves\", \"dep_label\": \"conj\", \"pos\": \"VBZ\", \"lemma\": \"leave\", \"word_idx\": \"22\", \"dep_parent\": \"9\"}, \"children\": [{\"attrib\": {\"token_idx\": \"36699\", \"word\": \"chloroplasts\", \"dep_label\": \"nsubj\", \"pos\": \"NNS\", \"lemma\": \"chloroplast\", \"word_idx\": \"19\", \"dep_parent\": \"23\"}, \"children\": [{\"attrib\": {\"token_idx\": \"36715\", \"word\": \"older\", \"dep_label\": \"nmod\", \"pos\": \"JJR\", \"lemma\": \"older\", \"word_idx\": \"21\", \"dep_parent\": \"20\"}, \"children\": [{\"attrib\": {\"token_idx\": \"36712\", \"word\": \"of\", \"dep_label\": \"case\", \"pos\": \"IN\", \"lemma\": \"of\", \"word_idx\": \"20\", \"dep_parent\": \"22\"}, \"children\": []}]}]}, {\"attrib\": {\"token_idx\": \"36728\", \"word\": \"contain\", \"dep_label\": \"xcomp\", \"pos\": \"VBP\", \"lemma\": \"contain\", \"word_idx\": \"23\", \"dep_parent\": \"23\"}, \"children\": [{\"attrib\": {\"token_idx\": \"36753\", \"word\": \"granule\", \"dep_label\": \"dobj\", \"pos\": \"NN\", \"lemma\": \"granule\", \"word_idx\": \"27\", \"dep_parent\": \"24\"}, \"children\": [{\"attrib\": {\"token_idx\": \"36736\", \"word\": \"one\", \"dep_label\": \"nummod\", \"pos\": \"CD\", \"lemma\": \"one\", \"word_idx\": \"24\", \"dep_parent\": \"28\"}, \"children\": []}, {\"attrib\": {\"token_idx\": \"36740\", \"word\": \"large\", \"dep_label\": \"amod\", \"pos\": \"JJ\", \"lemma\": \"large\", \"word_idx\": \"25\", \"dep_parent\": \"28\"}, \"children\": []}, {\"attrib\": {\"token_idx\": \"36746\", \"word\": \"starch\", \"dep_label\": \"compound\", \"pos\": \"NN\", \"lemma\": \"starch\", \"word_idx\": \"26\", \"dep_parent\": \"28\"}, \"children\": []}]}]}]}, {\"attrib\": {\"token_idx\": \"36760\", \"word\": \".\", \"dep_label\": \"punct\", \"pos\": \".\", \"lemma\": \".\", \"word_idx\": \"28\", \"dep_parent\": \"9\"}, \"children\": []}]};\n",
       "var highlightIdxs = [[3], [25]];\n",
       "\n",
       "// Highlight words / nodes\n",
       "var COLORS = [\"#ff5c33\", \"#ffcc00\", \"#33cc33\", \"#3399ff\"];\n",
       "function highlightWords() {\n",
       "  for (var i=0; i < highlightIdxs.length; i++) {\n",
       "    var c = COLORS[i];\n",
       "    var idxs = highlightIdxs[i];\n",
       "    for (var j=0; j < idxs.length; j++) {\n",
       "      d3.selectAll(\".word-\"+chartId+\"-\"+idxs[j]).style(\"stroke\", c).style(\"background\", c);\n",
       "    }\n",
       "  }\n",
       "}\n",
       "\n",
       "// Constants\n",
       "var margin = {top: 20, right: 20, bottom: 20, left: 20},\n",
       "width = 800 - margin.left - margin.right,\n",
       "height = 350 - margin.top - margin.bottom,\n",
       "R = 5;\n",
       "\n",
       "// Create the d3 tree object\n",
       "var tree = d3.layout.tree()\n",
       "  .size([width, height]);\n",
       "\n",
       "// Create the svg canvas\n",
       "var svg = d3.select(\"#tree-chart-\" + chartId)\n",
       "  .append(\"svg\")\n",
       "  .attr(\"width\", width + margin.left + margin.right)\n",
       "  .attr(\"height\", height + margin.top + margin.bottom)\n",
       "  .append(\"g\")\n",
       "  .attr(\"transform\", \"translate(\" + margin.left + \",\" + margin.top + \")\");\n",
       "\n",
       "function renderTree() {\n",
       "  var nodes = tree.nodes(root),\n",
       "  edges = tree.links(nodes);\n",
       "\n",
       "  // Place the nodes\n",
       "  var nodeGroups = svg.selectAll(\"g.node\")\n",
       "    .data(nodes)\n",
       "    .enter().append(\"g\")\n",
       "    .attr(\"class\", \"node\")\n",
       "    .attr(\"transform\", function(d) { return \"translate(\" + d.x + \",\" + d.y + \")\"; });\n",
       "       \n",
       "  // Append circles\n",
       "  nodeGroups.append(\"circle\")\n",
       "    //.on(\"click\", function() {\n",
       "    //  d3.select(this).classed(\"highlight\", !d3.select(this).classed(\"highlight\")); })\n",
       "    .attr(\"r\", R)\n",
       "    .attr(\"class\", function(d) { return \"word-\"+chartId+\"-\"+d.attrib.word_idx; });\n",
       "     \n",
       "  // Append the actual word\n",
       "  nodeGroups.append(\"text\")\n",
       "    .text(function(d) { return d.attrib.word; })\n",
       "    .attr(\"text-anchor\", function(d) { \n",
       "      return d.children && d.children.length > 0 ? \"start\" : \"middle\"; })\n",
       "    .attr(\"dx\", function(d) { \n",
       "      return d.children && d.children.length > 0 ? R + 3 : 0; })\n",
       "    .attr(\"dy\", function(d) { \n",
       "      return d.children && d.children.length > 0 ? 0 : 3*R + 3; });\n",
       "\n",
       "  // Place the edges\n",
       "  var edgePaths = svg.selectAll(\"path\")\n",
       "    .data(edges)\n",
       "    .enter().append(\"path\")\n",
       "    .attr(\"class\", \"edge\")\n",
       "    .on(\"click\", function() {\n",
       "      d3.select(this).classed(\"highlight\", !d3.select(this).classed(\"highlight\")); })\n",
       "    .attr(\"d\", d3.svg.diagonal());\n",
       "}\n",
       "\n",
       "renderTree();\n",
       "highlightWords();\n",
       "});\n"
      ]
     },
     "metadata": {},
     "output_type": "display_data"
    },
    {
     "data": {
      "text/html": [
       "<style>\n",
       ".node {\n",
       "  cursor: pointer;\n",
       "}\n",
       "\n",
       ".node circle {\n",
       "  fill: #fff;\n",
       "  stroke: steelblue;\n",
       "  stroke-width: 3px;\n",
       "}\n",
       "\n",
       ".node text {\n",
       "  font: 12px sans-serif;\n",
       "}\n",
       "\n",
       ".edge {\n",
       "  fill: none;\n",
       "  stroke: #ccc;\n",
       "  stroke-width: 2px;\n",
       "  cursor: pointer;\n",
       "}\n",
       "\n",
       ".highlight {\n",
       "  stroke: red;\n",
       "  stroke-width: 3px;\n",
       "}\n",
       "</style>\n",
       "\n",
       "<!--Provide the canvas id (twice) and the words via python string formatting here--!>\n",
       "<div id=\"tree-chart-8608265514845078851\"></div>\n",
       "<div id=\"raw-seq-8608265514845078851\">\n",
       "<span class=\"word-8608265514845078851-0\">Taken</span> <span class=\"word-8608265514845078851-1\">together</span> <span class=\"word-8608265514845078851-2\">,</span> <span class=\"word-8608265514845078851-3\">our</span> <span class=\"word-8608265514845078851-4\">data</span> <span class=\"word-8608265514845078851-5\">indicate</span> <span class=\"word-8608265514845078851-6\">that</span> <span class=\"word-8608265514845078851-7\">loss</span> <span class=\"word-8608265514845078851-8\">of</span> <span class=\"word-8608265514845078851-9\">HEN2</span> <span class=\"word-8608265514845078851-10\">results</span> <span class=\"word-8608265514845078851-11\">in</span> <span class=\"word-8608265514845078851-12\">the</span> <span class=\"word-8608265514845078851-13\">accumulation</span> <span class=\"word-8608265514845078851-14\">of</span> <span class=\"word-8608265514845078851-15\">short</span> <span class=\"word-8608265514845078851-16\">transcripts</span> <span class=\"word-8608265514845078851-17\">derived</span> <span class=\"word-8608265514845078851-18\">from</span> <span class=\"word-8608265514845078851-19\">mRNA</span> <span class=\"word-8608265514845078851-20\">regions</span> <span class=\"word-8608265514845078851-21\">,</span> <span class=\"word-8608265514845078851-22\">3</span> <span class=\"word-8608265514845078851-23\">extended</span> <span class=\"word-8608265514845078851-24\">transcripts</span> <span class=\"word-8608265514845078851-25\">,</span> <span class=\"word-8608265514845078851-26\">incompletely</span> <span class=\"word-8608265514845078851-27\">spliced</span> <span class=\"word-8608265514845078851-28\">mRNA</span> <span class=\"word-8608265514845078851-29\">transcripts</span> <span class=\"word-8608265514845078851-30\">,</span> <span class=\"word-8608265514845078851-31\">and</span> <span class=\"word-8608265514845078851-32\">excised</span> <span class=\"word-8608265514845078851-33\">introns</span> <span class=\"word-8608265514845078851-34\">.</span>\n",
       "</div>\n"
      ]
     },
     "metadata": {},
     "output_type": "display_data"
    },
    {
     "data": {
      "application/javascript": [
       "$.getScript(\"http://d3js.org/d3.v3.min.js\", function () {\n",
       "// See http://bl.ocks.org/d3noob/8375092\n",
       "// Three vars need to be provided via python string formatting:\n",
       "var chartId = \"8608265514845078851\";\n",
       "var root = {\"attrib\": {\"token_idx\": \"26948\", \"word\": \"indicate\", \"dep_label\": \"ROOT\", \"pos\": \"VBP\", \"lemma\": \"indicate\", \"word_idx\": \"5\", \"dep_parent\": \"0\"}, \"children\": [{\"attrib\": {\"token_idx\": \"26923\", \"word\": \"Taken\", \"dep_label\": \"advcl\", \"pos\": \"VBN\", \"lemma\": \"take\", \"word_idx\": \"0\", \"dep_parent\": \"6\"}, \"children\": [{\"attrib\": {\"token_idx\": \"26929\", \"word\": \"together\", \"dep_label\": \"advmod\", \"pos\": \"RB\", \"lemma\": \"together\", \"word_idx\": \"1\", \"dep_parent\": \"1\"}, \"children\": []}]}, {\"attrib\": {\"token_idx\": \"26937\", \"word\": \",\", \"dep_label\": \"punct\", \"pos\": \",\", \"lemma\": \",\", \"word_idx\": \"2\", \"dep_parent\": \"6\"}, \"children\": []}, {\"attrib\": {\"token_idx\": \"26943\", \"word\": \"data\", \"dep_label\": \"nsubj\", \"pos\": \"NNS\", \"lemma\": \"datum\", \"word_idx\": \"4\", \"dep_parent\": \"6\"}, \"children\": [{\"attrib\": {\"token_idx\": \"26939\", \"word\": \"our\", \"dep_label\": \"nmod:poss\", \"pos\": \"PRP$\", \"lemma\": \"we\", \"word_idx\": \"3\", \"dep_parent\": \"5\"}, \"children\": []}]}, {\"attrib\": {\"token_idx\": \"26975\", \"word\": \"results\", \"dep_label\": \"ccomp\", \"pos\": \"VBZ\", \"lemma\": \"result\", \"word_idx\": \"10\", \"dep_parent\": \"6\"}, \"children\": [{\"attrib\": {\"token_idx\": \"26957\", \"word\": \"that\", \"dep_label\": \"mark\", \"pos\": \"IN\", \"lemma\": \"that\", \"word_idx\": \"6\", \"dep_parent\": \"11\"}, \"children\": []}, {\"attrib\": {\"token_idx\": \"26962\", \"word\": \"loss\", \"dep_label\": \"nsubj\", \"pos\": \"NN\", \"lemma\": \"loss\", \"word_idx\": \"7\", \"dep_parent\": \"11\"}, \"children\": [{\"attrib\": {\"token_idx\": \"26970\", \"word\": \"HEN2\", \"dep_label\": \"nmod\", \"pos\": \"NN\", \"lemma\": \"hen2\", \"word_idx\": \"9\", \"dep_parent\": \"8\"}, \"children\": [{\"attrib\": {\"token_idx\": \"26967\", \"word\": \"of\", \"dep_label\": \"case\", \"pos\": \"IN\", \"lemma\": \"of\", \"word_idx\": \"8\", \"dep_parent\": \"10\"}, \"children\": []}]}]}, {\"attrib\": {\"token_idx\": \"26990\", \"word\": \"accumulation\", \"dep_label\": \"nmod\", \"pos\": \"NN\", \"lemma\": \"accumulation\", \"word_idx\": \"13\", \"dep_parent\": \"11\"}, \"children\": [{\"attrib\": {\"token_idx\": \"26983\", \"word\": \"in\", \"dep_label\": \"case\", \"pos\": \"IN\", \"lemma\": \"in\", \"word_idx\": \"11\", \"dep_parent\": \"14\"}, \"children\": []}, {\"attrib\": {\"token_idx\": \"26986\", \"word\": \"the\", \"dep_label\": \"det\", \"pos\": \"DT\", \"lemma\": \"the\", \"word_idx\": \"12\", \"dep_parent\": \"14\"}, \"children\": []}, {\"attrib\": {\"token_idx\": \"27012\", \"word\": \"transcripts\", \"dep_label\": \"nmod\", \"pos\": \"NNS\", \"lemma\": \"transcript\", \"word_idx\": \"16\", \"dep_parent\": \"14\"}, \"children\": [{\"attrib\": {\"token_idx\": \"27003\", \"word\": \"of\", \"dep_label\": \"case\", \"pos\": \"IN\", \"lemma\": \"of\", \"word_idx\": \"14\", \"dep_parent\": \"17\"}, \"children\": []}, {\"attrib\": {\"token_idx\": \"27006\", \"word\": \"short\", \"dep_label\": \"amod\", \"pos\": \"JJ\", \"lemma\": \"short\", \"word_idx\": \"15\", \"dep_parent\": \"17\"}, \"children\": []}, {\"attrib\": {\"token_idx\": \"27024\", \"word\": \"derived\", \"dep_label\": \"acl\", \"pos\": \"VBN\", \"lemma\": \"derive\", \"word_idx\": \"17\", \"dep_parent\": \"17\"}, \"children\": [{\"attrib\": {\"token_idx\": \"27042\", \"word\": \"regions\", \"dep_label\": \"nmod\", \"pos\": \"NNS\", \"lemma\": \"region\", \"word_idx\": \"20\", \"dep_parent\": \"18\"}, \"children\": [{\"attrib\": {\"token_idx\": \"27032\", \"word\": \"from\", \"dep_label\": \"case\", \"pos\": \"IN\", \"lemma\": \"from\", \"word_idx\": \"18\", \"dep_parent\": \"21\"}, \"children\": []}, {\"attrib\": {\"token_idx\": \"27037\", \"word\": \"mRNA\", \"dep_label\": \"compound\", \"pos\": \"NN\", \"lemma\": \"mrna\", \"word_idx\": \"19\", \"dep_parent\": \"21\"}, \"children\": []}]}]}]}]}, {\"attrib\": {\"token_idx\": \"27049\", \"word\": \",\", \"dep_label\": \"punct\", \"pos\": \",\", \"lemma\": \",\", \"word_idx\": \"21\", \"dep_parent\": \"11\"}, \"children\": []}, {\"attrib\": {\"token_idx\": \"27062\", \"word\": \"transcripts\", \"dep_label\": \"dobj\", \"pos\": \"NNS\", \"lemma\": \"transcript\", \"word_idx\": \"24\", \"dep_parent\": \"11\"}, \"children\": [{\"attrib\": {\"token_idx\": \"27051\", \"word\": \"3\", \"dep_label\": \"nummod\", \"pos\": \"CD\", \"lemma\": \"3\", \"word_idx\": \"22\", \"dep_parent\": \"25\"}, \"children\": []}, {\"attrib\": {\"token_idx\": \"27053\", \"word\": \"extended\", \"dep_label\": \"amod\", \"pos\": \"VBD\", \"lemma\": \"extend\", \"word_idx\": \"23\", \"dep_parent\": \"25\"}, \"children\": []}, {\"attrib\": {\"token_idx\": \"27073\", \"word\": \",\", \"dep_label\": \"punct\", \"pos\": \",\", \"lemma\": \",\", \"word_idx\": \"25\", \"dep_parent\": \"25\"}, \"children\": []}, {\"attrib\": {\"token_idx\": \"27101\", \"word\": \"transcripts\", \"dep_label\": \"appos\", \"pos\": \"NNS\", \"lemma\": \"transcript\", \"word_idx\": \"29\", \"dep_parent\": \"25\"}, \"children\": [{\"attrib\": {\"token_idx\": \"27088\", \"word\": \"spliced\", \"dep_label\": \"amod\", \"pos\": \"VBN\", \"lemma\": \"splice\", \"word_idx\": \"27\", \"dep_parent\": \"30\"}, \"children\": [{\"attrib\": {\"token_idx\": \"27075\", \"word\": \"incompletely\", \"dep_label\": \"advmod\", \"pos\": \"RB\", \"lemma\": \"incompletely\", \"word_idx\": \"26\", \"dep_parent\": \"28\"}, \"children\": []}]}, {\"attrib\": {\"token_idx\": \"27096\", \"word\": \"mRNA\", \"dep_label\": \"compound\", \"pos\": \"NN\", \"lemma\": \"mrna\", \"word_idx\": \"28\", \"dep_parent\": \"30\"}, \"children\": []}]}, {\"attrib\": {\"token_idx\": \"27112\", \"word\": \",\", \"dep_label\": \"punct\", \"pos\": \",\", \"lemma\": \",\", \"word_idx\": \"30\", \"dep_parent\": \"25\"}, \"children\": []}, {\"attrib\": {\"token_idx\": \"27114\", \"word\": \"and\", \"dep_label\": \"cc\", \"pos\": \"CC\", \"lemma\": \"and\", \"word_idx\": \"31\", \"dep_parent\": \"25\"}, \"children\": []}, {\"attrib\": {\"token_idx\": \"27118\", \"word\": \"excised\", \"dep_label\": \"conj\", \"pos\": \"VBD\", \"lemma\": \"excise\", \"word_idx\": \"32\", \"dep_parent\": \"25\"}, \"children\": [{\"attrib\": {\"token_idx\": \"27126\", \"word\": \"introns\", \"dep_label\": \"dobj\", \"pos\": \"NNS\", \"lemma\": \"intron\", \"word_idx\": \"33\", \"dep_parent\": \"33\"}, \"children\": []}]}]}]}, {\"attrib\": {\"token_idx\": \"27133\", \"word\": \".\", \"dep_label\": \"punct\", \"pos\": \".\", \"lemma\": \".\", \"word_idx\": \"34\", \"dep_parent\": \"6\"}, \"children\": []}]};\n",
       "var highlightIdxs = [[9], [15]];\n",
       "\n",
       "// Highlight words / nodes\n",
       "var COLORS = [\"#ff5c33\", \"#ffcc00\", \"#33cc33\", \"#3399ff\"];\n",
       "function highlightWords() {\n",
       "  for (var i=0; i < highlightIdxs.length; i++) {\n",
       "    var c = COLORS[i];\n",
       "    var idxs = highlightIdxs[i];\n",
       "    for (var j=0; j < idxs.length; j++) {\n",
       "      d3.selectAll(\".word-\"+chartId+\"-\"+idxs[j]).style(\"stroke\", c).style(\"background\", c);\n",
       "    }\n",
       "  }\n",
       "}\n",
       "\n",
       "// Constants\n",
       "var margin = {top: 20, right: 20, bottom: 20, left: 20},\n",
       "width = 800 - margin.left - margin.right,\n",
       "height = 350 - margin.top - margin.bottom,\n",
       "R = 5;\n",
       "\n",
       "// Create the d3 tree object\n",
       "var tree = d3.layout.tree()\n",
       "  .size([width, height]);\n",
       "\n",
       "// Create the svg canvas\n",
       "var svg = d3.select(\"#tree-chart-\" + chartId)\n",
       "  .append(\"svg\")\n",
       "  .attr(\"width\", width + margin.left + margin.right)\n",
       "  .attr(\"height\", height + margin.top + margin.bottom)\n",
       "  .append(\"g\")\n",
       "  .attr(\"transform\", \"translate(\" + margin.left + \",\" + margin.top + \")\");\n",
       "\n",
       "function renderTree() {\n",
       "  var nodes = tree.nodes(root),\n",
       "  edges = tree.links(nodes);\n",
       "\n",
       "  // Place the nodes\n",
       "  var nodeGroups = svg.selectAll(\"g.node\")\n",
       "    .data(nodes)\n",
       "    .enter().append(\"g\")\n",
       "    .attr(\"class\", \"node\")\n",
       "    .attr(\"transform\", function(d) { return \"translate(\" + d.x + \",\" + d.y + \")\"; });\n",
       "       \n",
       "  // Append circles\n",
       "  nodeGroups.append(\"circle\")\n",
       "    //.on(\"click\", function() {\n",
       "    //  d3.select(this).classed(\"highlight\", !d3.select(this).classed(\"highlight\")); })\n",
       "    .attr(\"r\", R)\n",
       "    .attr(\"class\", function(d) { return \"word-\"+chartId+\"-\"+d.attrib.word_idx; });\n",
       "     \n",
       "  // Append the actual word\n",
       "  nodeGroups.append(\"text\")\n",
       "    .text(function(d) { return d.attrib.word; })\n",
       "    .attr(\"text-anchor\", function(d) { \n",
       "      return d.children && d.children.length > 0 ? \"start\" : \"middle\"; })\n",
       "    .attr(\"dx\", function(d) { \n",
       "      return d.children && d.children.length > 0 ? R + 3 : 0; })\n",
       "    .attr(\"dy\", function(d) { \n",
       "      return d.children && d.children.length > 0 ? 0 : 3*R + 3; });\n",
       "\n",
       "  // Place the edges\n",
       "  var edgePaths = svg.selectAll(\"path\")\n",
       "    .data(edges)\n",
       "    .enter().append(\"path\")\n",
       "    .attr(\"class\", \"edge\")\n",
       "    .on(\"click\", function() {\n",
       "      d3.select(this).classed(\"highlight\", !d3.select(this).classed(\"highlight\")); })\n",
       "    .attr(\"d\", d3.svg.diagonal());\n",
       "}\n",
       "\n",
       "renderTree();\n",
       "highlightWords();\n",
       "});\n"
      ]
     },
     "metadata": {},
     "output_type": "display_data"
    },
    {
     "data": {
      "text/html": [
       "<style>\n",
       ".node {\n",
       "  cursor: pointer;\n",
       "}\n",
       "\n",
       ".node circle {\n",
       "  fill: #fff;\n",
       "  stroke: steelblue;\n",
       "  stroke-width: 3px;\n",
       "}\n",
       "\n",
       ".node text {\n",
       "  font: 12px sans-serif;\n",
       "}\n",
       "\n",
       ".edge {\n",
       "  fill: none;\n",
       "  stroke: #ccc;\n",
       "  stroke-width: 2px;\n",
       "  cursor: pointer;\n",
       "}\n",
       "\n",
       ".highlight {\n",
       "  stroke: red;\n",
       "  stroke-width: 3px;\n",
       "}\n",
       "</style>\n",
       "\n",
       "<!--Provide the canvas id (twice) and the words via python string formatting here--!>\n",
       "<div id=\"tree-chart-5468769063852014519\"></div>\n",
       "<div id=\"raw-seq-5468769063852014519\">\n",
       "<span class=\"word-5468769063852014519-0\">However</span> <span class=\"word-5468769063852014519-1\">,</span> <span class=\"word-5468769063852014519-2\">we</span> <span class=\"word-5468769063852014519-3\">were</span> <span class=\"word-5468769063852014519-4\">not</span> <span class=\"word-5468769063852014519-5\">able</span> <span class=\"word-5468769063852014519-6\">to</span> <span class=\"word-5468769063852014519-7\">obtain</span> <span class=\"word-5468769063852014519-8\">double</span> <span class=\"word-5468769063852014519-9\">_</span> <span class=\"word-5468769063852014519-10\">mtr4</span> <span class=\"word-5468769063852014519-11\">hen2</span> <span class=\"word-5468769063852014519-12\">_</span> <span class=\"word-5468769063852014519-13\">mutants</span> <span class=\"word-5468769063852014519-14\">,</span> <span class=\"word-5468769063852014519-15\">signifying</span> <span class=\"word-5468769063852014519-16\">that</span> <span class=\"word-5468769063852014519-17\">simultaneous</span> <span class=\"word-5468769063852014519-18\">loss</span> <span class=\"word-5468769063852014519-19\">of</span> <span class=\"word-5468769063852014519-20\">both</span> <span class=\"word-5468769063852014519-21\">AtMTR4</span> <span class=\"word-5468769063852014519-22\">and</span> <span class=\"word-5468769063852014519-23\">HEN2</span> <span class=\"word-5468769063852014519-24\">is</span> <span class=\"word-5468769063852014519-25\">lethal</span> <span class=\"word-5468769063852014519-26\">.</span>\n",
       "</div>\n"
      ]
     },
     "metadata": {},
     "output_type": "display_data"
    },
    {
     "data": {
      "application/javascript": [
       "$.getScript(\"http://d3js.org/d3.v3.min.js\", function () {\n",
       "// See http://bl.ocks.org/d3noob/8375092\n",
       "// Three vars need to be provided via python string formatting:\n",
       "var chartId = \"5468769063852014519\";\n",
       "var root = {\"attrib\": {\"token_idx\": \"37982\", \"word\": \"able\", \"dep_label\": \"ROOT\", \"pos\": \"JJ\", \"lemma\": \"able\", \"word_idx\": \"5\", \"dep_parent\": \"0\"}, \"children\": [{\"attrib\": {\"token_idx\": \"37961\", \"word\": \"However\", \"dep_label\": \"advmod\", \"pos\": \"RB\", \"lemma\": \"however\", \"word_idx\": \"0\", \"dep_parent\": \"6\"}, \"children\": []}, {\"attrib\": {\"token_idx\": \"37968\", \"word\": \",\", \"dep_label\": \"punct\", \"pos\": \",\", \"lemma\": \",\", \"word_idx\": \"1\", \"dep_parent\": \"6\"}, \"children\": []}, {\"attrib\": {\"token_idx\": \"37970\", \"word\": \"we\", \"dep_label\": \"nsubj\", \"pos\": \"PRP\", \"lemma\": \"we\", \"word_idx\": \"2\", \"dep_parent\": \"6\"}, \"children\": []}, {\"attrib\": {\"token_idx\": \"37973\", \"word\": \"were\", \"dep_label\": \"cop\", \"pos\": \"VBD\", \"lemma\": \"be\", \"word_idx\": \"3\", \"dep_parent\": \"6\"}, \"children\": []}, {\"attrib\": {\"token_idx\": \"37978\", \"word\": \"not\", \"dep_label\": \"neg\", \"pos\": \"RB\", \"lemma\": \"not\", \"word_idx\": \"4\", \"dep_parent\": \"6\"}, \"children\": []}, {\"attrib\": {\"token_idx\": \"37990\", \"word\": \"obtain\", \"dep_label\": \"xcomp\", \"pos\": \"VB\", \"lemma\": \"obtain\", \"word_idx\": \"7\", \"dep_parent\": \"6\"}, \"children\": [{\"attrib\": {\"token_idx\": \"37987\", \"word\": \"to\", \"dep_label\": \"mark\", \"pos\": \"TO\", \"lemma\": \"to\", \"word_idx\": \"6\", \"dep_parent\": \"8\"}, \"children\": []}, {\"attrib\": {\"token_idx\": \"38016\", \"word\": \"mutants\", \"dep_label\": \"dobj\", \"pos\": \"NNS\", \"lemma\": \"mutant\", \"word_idx\": \"13\", \"dep_parent\": \"8\"}, \"children\": [{\"attrib\": {\"token_idx\": \"37997\", \"word\": \"double\", \"dep_label\": \"amod\", \"pos\": \"JJ\", \"lemma\": \"double\", \"word_idx\": \"8\", \"dep_parent\": \"14\"}, \"children\": []}, {\"attrib\": {\"token_idx\": \"38004\", \"word\": \"_\", \"dep_label\": \"nummod\", \"pos\": \"CD\", \"lemma\": \"_\", \"word_idx\": \"9\", \"dep_parent\": \"14\"}, \"children\": []}, {\"attrib\": {\"token_idx\": \"38005\", \"word\": \"mtr4\", \"dep_label\": \"compound\", \"pos\": \"NN\", \"lemma\": \"mtr4\", \"word_idx\": \"10\", \"dep_parent\": \"14\"}, \"children\": []}, {\"attrib\": {\"token_idx\": \"38010\", \"word\": \"hen2\", \"dep_label\": \"compound\", \"pos\": \"NN\", \"lemma\": \"hen2\", \"word_idx\": \"11\", \"dep_parent\": \"14\"}, \"children\": []}, {\"attrib\": {\"token_idx\": \"38014\", \"word\": \"_\", \"dep_label\": \"nummod\", \"pos\": \"CD\", \"lemma\": \"_\", \"word_idx\": \"12\", \"dep_parent\": \"14\"}, \"children\": []}]}]}, {\"attrib\": {\"token_idx\": \"38023\", \"word\": \",\", \"dep_label\": \"punct\", \"pos\": \",\", \"lemma\": \",\", \"word_idx\": \"14\", \"dep_parent\": \"6\"}, \"children\": []}, {\"attrib\": {\"token_idx\": \"38025\", \"word\": \"signifying\", \"dep_label\": \"xcomp\", \"pos\": \"VBG\", \"lemma\": \"signify\", \"word_idx\": \"15\", \"dep_parent\": \"6\"}, \"children\": [{\"attrib\": {\"token_idx\": \"38086\", \"word\": \"lethal\", \"dep_label\": \"ccomp\", \"pos\": \"JJ\", \"lemma\": \"lethal\", \"word_idx\": \"25\", \"dep_parent\": \"16\"}, \"children\": [{\"attrib\": {\"token_idx\": \"38036\", \"word\": \"that\", \"dep_label\": \"mark\", \"pos\": \"IN\", \"lemma\": \"that\", \"word_idx\": \"16\", \"dep_parent\": \"26\"}, \"children\": []}, {\"attrib\": {\"token_idx\": \"38054\", \"word\": \"loss\", \"dep_label\": \"nsubj\", \"pos\": \"NN\", \"lemma\": \"loss\", \"word_idx\": \"18\", \"dep_parent\": \"26\"}, \"children\": [{\"attrib\": {\"token_idx\": \"38041\", \"word\": \"simultaneous\", \"dep_label\": \"amod\", \"pos\": \"JJ\", \"lemma\": \"simultaneous\", \"word_idx\": \"17\", \"dep_parent\": \"19\"}, \"children\": []}, {\"attrib\": {\"token_idx\": \"38067\", \"word\": \"AtMTR4\", \"dep_label\": \"nmod\", \"pos\": \"NN\", \"lemma\": \"atmtr4\", \"word_idx\": \"21\", \"dep_parent\": \"19\"}, \"children\": [{\"attrib\": {\"token_idx\": \"38059\", \"word\": \"of\", \"dep_label\": \"case\", \"pos\": \"IN\", \"lemma\": \"of\", \"word_idx\": \"19\", \"dep_parent\": \"22\"}, \"children\": []}, {\"attrib\": {\"token_idx\": \"38062\", \"word\": \"both\", \"dep_label\": \"cc:preconj\", \"pos\": \"CC\", \"lemma\": \"both\", \"word_idx\": \"20\", \"dep_parent\": \"22\"}, \"children\": []}, {\"attrib\": {\"token_idx\": \"38074\", \"word\": \"and\", \"dep_label\": \"cc\", \"pos\": \"CC\", \"lemma\": \"and\", \"word_idx\": \"22\", \"dep_parent\": \"22\"}, \"children\": []}, {\"attrib\": {\"token_idx\": \"38078\", \"word\": \"HEN2\", \"dep_label\": \"conj\", \"pos\": \"NN\", \"lemma\": \"hen2\", \"word_idx\": \"23\", \"dep_parent\": \"22\"}, \"children\": []}]}]}, {\"attrib\": {\"token_idx\": \"38083\", \"word\": \"is\", \"dep_label\": \"cop\", \"pos\": \"VBZ\", \"lemma\": \"be\", \"word_idx\": \"24\", \"dep_parent\": \"26\"}, \"children\": []}]}]}, {\"attrib\": {\"token_idx\": \"38092\", \"word\": \".\", \"dep_label\": \"punct\", \"pos\": \".\", \"lemma\": \".\", \"word_idx\": \"26\", \"dep_parent\": \"6\"}, \"children\": []}]};\n",
       "var highlightIdxs = [[10, 11], [25]];\n",
       "\n",
       "// Highlight words / nodes\n",
       "var COLORS = [\"#ff5c33\", \"#ffcc00\", \"#33cc33\", \"#3399ff\"];\n",
       "function highlightWords() {\n",
       "  for (var i=0; i < highlightIdxs.length; i++) {\n",
       "    var c = COLORS[i];\n",
       "    var idxs = highlightIdxs[i];\n",
       "    for (var j=0; j < idxs.length; j++) {\n",
       "      d3.selectAll(\".word-\"+chartId+\"-\"+idxs[j]).style(\"stroke\", c).style(\"background\", c);\n",
       "    }\n",
       "  }\n",
       "}\n",
       "\n",
       "// Constants\n",
       "var margin = {top: 20, right: 20, bottom: 20, left: 20},\n",
       "width = 800 - margin.left - margin.right,\n",
       "height = 350 - margin.top - margin.bottom,\n",
       "R = 5;\n",
       "\n",
       "// Create the d3 tree object\n",
       "var tree = d3.layout.tree()\n",
       "  .size([width, height]);\n",
       "\n",
       "// Create the svg canvas\n",
       "var svg = d3.select(\"#tree-chart-\" + chartId)\n",
       "  .append(\"svg\")\n",
       "  .attr(\"width\", width + margin.left + margin.right)\n",
       "  .attr(\"height\", height + margin.top + margin.bottom)\n",
       "  .append(\"g\")\n",
       "  .attr(\"transform\", \"translate(\" + margin.left + \",\" + margin.top + \")\");\n",
       "\n",
       "function renderTree() {\n",
       "  var nodes = tree.nodes(root),\n",
       "  edges = tree.links(nodes);\n",
       "\n",
       "  // Place the nodes\n",
       "  var nodeGroups = svg.selectAll(\"g.node\")\n",
       "    .data(nodes)\n",
       "    .enter().append(\"g\")\n",
       "    .attr(\"class\", \"node\")\n",
       "    .attr(\"transform\", function(d) { return \"translate(\" + d.x + \",\" + d.y + \")\"; });\n",
       "       \n",
       "  // Append circles\n",
       "  nodeGroups.append(\"circle\")\n",
       "    //.on(\"click\", function() {\n",
       "    //  d3.select(this).classed(\"highlight\", !d3.select(this).classed(\"highlight\")); })\n",
       "    .attr(\"r\", R)\n",
       "    .attr(\"class\", function(d) { return \"word-\"+chartId+\"-\"+d.attrib.word_idx; });\n",
       "     \n",
       "  // Append the actual word\n",
       "  nodeGroups.append(\"text\")\n",
       "    .text(function(d) { return d.attrib.word; })\n",
       "    .attr(\"text-anchor\", function(d) { \n",
       "      return d.children && d.children.length > 0 ? \"start\" : \"middle\"; })\n",
       "    .attr(\"dx\", function(d) { \n",
       "      return d.children && d.children.length > 0 ? R + 3 : 0; })\n",
       "    .attr(\"dy\", function(d) { \n",
       "      return d.children && d.children.length > 0 ? 0 : 3*R + 3; });\n",
       "\n",
       "  // Place the edges\n",
       "  var edgePaths = svg.selectAll(\"path\")\n",
       "    .data(edges)\n",
       "    .enter().append(\"path\")\n",
       "    .attr(\"class\", \"edge\")\n",
       "    .on(\"click\", function() {\n",
       "      d3.select(this).classed(\"highlight\", !d3.select(this).classed(\"highlight\")); })\n",
       "    .attr(\"d\", d3.svg.diagonal());\n",
       "}\n",
       "\n",
       "renderTree();\n",
       "highlightWords();\n",
       "});\n"
      ]
     },
     "metadata": {},
     "output_type": "display_data"
    },
    {
     "data": {
      "text/html": [
       "<style>\n",
       ".node {\n",
       "  cursor: pointer;\n",
       "}\n",
       "\n",
       ".node circle {\n",
       "  fill: #fff;\n",
       "  stroke: steelblue;\n",
       "  stroke-width: 3px;\n",
       "}\n",
       "\n",
       ".node text {\n",
       "  font: 12px sans-serif;\n",
       "}\n",
       "\n",
       ".edge {\n",
       "  fill: none;\n",
       "  stroke: #ccc;\n",
       "  stroke-width: 2px;\n",
       "  cursor: pointer;\n",
       "}\n",
       "\n",
       ".highlight {\n",
       "  stroke: red;\n",
       "  stroke-width: 3px;\n",
       "}\n",
       "</style>\n",
       "\n",
       "<!--Provide the canvas id (twice) and the words via python string formatting here--!>\n",
       "<div id=\"tree-chart-5468769063852014519\"></div>\n",
       "<div id=\"raw-seq-5468769063852014519\">\n",
       "<span class=\"word-5468769063852014519-0\">However</span> <span class=\"word-5468769063852014519-1\">,</span> <span class=\"word-5468769063852014519-2\">we</span> <span class=\"word-5468769063852014519-3\">were</span> <span class=\"word-5468769063852014519-4\">not</span> <span class=\"word-5468769063852014519-5\">able</span> <span class=\"word-5468769063852014519-6\">to</span> <span class=\"word-5468769063852014519-7\">obtain</span> <span class=\"word-5468769063852014519-8\">double</span> <span class=\"word-5468769063852014519-9\">_</span> <span class=\"word-5468769063852014519-10\">mtr4</span> <span class=\"word-5468769063852014519-11\">hen2</span> <span class=\"word-5468769063852014519-12\">_</span> <span class=\"word-5468769063852014519-13\">mutants</span> <span class=\"word-5468769063852014519-14\">,</span> <span class=\"word-5468769063852014519-15\">signifying</span> <span class=\"word-5468769063852014519-16\">that</span> <span class=\"word-5468769063852014519-17\">simultaneous</span> <span class=\"word-5468769063852014519-18\">loss</span> <span class=\"word-5468769063852014519-19\">of</span> <span class=\"word-5468769063852014519-20\">both</span> <span class=\"word-5468769063852014519-21\">AtMTR4</span> <span class=\"word-5468769063852014519-22\">and</span> <span class=\"word-5468769063852014519-23\">HEN2</span> <span class=\"word-5468769063852014519-24\">is</span> <span class=\"word-5468769063852014519-25\">lethal</span> <span class=\"word-5468769063852014519-26\">.</span>\n",
       "</div>\n"
      ]
     },
     "metadata": {},
     "output_type": "display_data"
    },
    {
     "data": {
      "application/javascript": [
       "$.getScript(\"http://d3js.org/d3.v3.min.js\", function () {\n",
       "// See http://bl.ocks.org/d3noob/8375092\n",
       "// Three vars need to be provided via python string formatting:\n",
       "var chartId = \"5468769063852014519\";\n",
       "var root = {\"attrib\": {\"token_idx\": \"37982\", \"word\": \"able\", \"dep_label\": \"ROOT\", \"pos\": \"JJ\", \"lemma\": \"able\", \"word_idx\": \"5\", \"dep_parent\": \"0\"}, \"children\": [{\"attrib\": {\"token_idx\": \"37961\", \"word\": \"However\", \"dep_label\": \"advmod\", \"pos\": \"RB\", \"lemma\": \"however\", \"word_idx\": \"0\", \"dep_parent\": \"6\"}, \"children\": []}, {\"attrib\": {\"token_idx\": \"37968\", \"word\": \",\", \"dep_label\": \"punct\", \"pos\": \",\", \"lemma\": \",\", \"word_idx\": \"1\", \"dep_parent\": \"6\"}, \"children\": []}, {\"attrib\": {\"token_idx\": \"37970\", \"word\": \"we\", \"dep_label\": \"nsubj\", \"pos\": \"PRP\", \"lemma\": \"we\", \"word_idx\": \"2\", \"dep_parent\": \"6\"}, \"children\": []}, {\"attrib\": {\"token_idx\": \"37973\", \"word\": \"were\", \"dep_label\": \"cop\", \"pos\": \"VBD\", \"lemma\": \"be\", \"word_idx\": \"3\", \"dep_parent\": \"6\"}, \"children\": []}, {\"attrib\": {\"token_idx\": \"37978\", \"word\": \"not\", \"dep_label\": \"neg\", \"pos\": \"RB\", \"lemma\": \"not\", \"word_idx\": \"4\", \"dep_parent\": \"6\"}, \"children\": []}, {\"attrib\": {\"token_idx\": \"37990\", \"word\": \"obtain\", \"dep_label\": \"xcomp\", \"pos\": \"VB\", \"lemma\": \"obtain\", \"word_idx\": \"7\", \"dep_parent\": \"6\"}, \"children\": [{\"attrib\": {\"token_idx\": \"37987\", \"word\": \"to\", \"dep_label\": \"mark\", \"pos\": \"TO\", \"lemma\": \"to\", \"word_idx\": \"6\", \"dep_parent\": \"8\"}, \"children\": []}, {\"attrib\": {\"token_idx\": \"38016\", \"word\": \"mutants\", \"dep_label\": \"dobj\", \"pos\": \"NNS\", \"lemma\": \"mutant\", \"word_idx\": \"13\", \"dep_parent\": \"8\"}, \"children\": [{\"attrib\": {\"token_idx\": \"37997\", \"word\": \"double\", \"dep_label\": \"amod\", \"pos\": \"JJ\", \"lemma\": \"double\", \"word_idx\": \"8\", \"dep_parent\": \"14\"}, \"children\": []}, {\"attrib\": {\"token_idx\": \"38004\", \"word\": \"_\", \"dep_label\": \"nummod\", \"pos\": \"CD\", \"lemma\": \"_\", \"word_idx\": \"9\", \"dep_parent\": \"14\"}, \"children\": []}, {\"attrib\": {\"token_idx\": \"38005\", \"word\": \"mtr4\", \"dep_label\": \"compound\", \"pos\": \"NN\", \"lemma\": \"mtr4\", \"word_idx\": \"10\", \"dep_parent\": \"14\"}, \"children\": []}, {\"attrib\": {\"token_idx\": \"38010\", \"word\": \"hen2\", \"dep_label\": \"compound\", \"pos\": \"NN\", \"lemma\": \"hen2\", \"word_idx\": \"11\", \"dep_parent\": \"14\"}, \"children\": []}, {\"attrib\": {\"token_idx\": \"38014\", \"word\": \"_\", \"dep_label\": \"nummod\", \"pos\": \"CD\", \"lemma\": \"_\", \"word_idx\": \"12\", \"dep_parent\": \"14\"}, \"children\": []}]}]}, {\"attrib\": {\"token_idx\": \"38023\", \"word\": \",\", \"dep_label\": \"punct\", \"pos\": \",\", \"lemma\": \",\", \"word_idx\": \"14\", \"dep_parent\": \"6\"}, \"children\": []}, {\"attrib\": {\"token_idx\": \"38025\", \"word\": \"signifying\", \"dep_label\": \"xcomp\", \"pos\": \"VBG\", \"lemma\": \"signify\", \"word_idx\": \"15\", \"dep_parent\": \"6\"}, \"children\": [{\"attrib\": {\"token_idx\": \"38086\", \"word\": \"lethal\", \"dep_label\": \"ccomp\", \"pos\": \"JJ\", \"lemma\": \"lethal\", \"word_idx\": \"25\", \"dep_parent\": \"16\"}, \"children\": [{\"attrib\": {\"token_idx\": \"38036\", \"word\": \"that\", \"dep_label\": \"mark\", \"pos\": \"IN\", \"lemma\": \"that\", \"word_idx\": \"16\", \"dep_parent\": \"26\"}, \"children\": []}, {\"attrib\": {\"token_idx\": \"38054\", \"word\": \"loss\", \"dep_label\": \"nsubj\", \"pos\": \"NN\", \"lemma\": \"loss\", \"word_idx\": \"18\", \"dep_parent\": \"26\"}, \"children\": [{\"attrib\": {\"token_idx\": \"38041\", \"word\": \"simultaneous\", \"dep_label\": \"amod\", \"pos\": \"JJ\", \"lemma\": \"simultaneous\", \"word_idx\": \"17\", \"dep_parent\": \"19\"}, \"children\": []}, {\"attrib\": {\"token_idx\": \"38067\", \"word\": \"AtMTR4\", \"dep_label\": \"nmod\", \"pos\": \"NN\", \"lemma\": \"atmtr4\", \"word_idx\": \"21\", \"dep_parent\": \"19\"}, \"children\": [{\"attrib\": {\"token_idx\": \"38059\", \"word\": \"of\", \"dep_label\": \"case\", \"pos\": \"IN\", \"lemma\": \"of\", \"word_idx\": \"19\", \"dep_parent\": \"22\"}, \"children\": []}, {\"attrib\": {\"token_idx\": \"38062\", \"word\": \"both\", \"dep_label\": \"cc:preconj\", \"pos\": \"CC\", \"lemma\": \"both\", \"word_idx\": \"20\", \"dep_parent\": \"22\"}, \"children\": []}, {\"attrib\": {\"token_idx\": \"38074\", \"word\": \"and\", \"dep_label\": \"cc\", \"pos\": \"CC\", \"lemma\": \"and\", \"word_idx\": \"22\", \"dep_parent\": \"22\"}, \"children\": []}, {\"attrib\": {\"token_idx\": \"38078\", \"word\": \"HEN2\", \"dep_label\": \"conj\", \"pos\": \"NN\", \"lemma\": \"hen2\", \"word_idx\": \"23\", \"dep_parent\": \"22\"}, \"children\": []}]}]}, {\"attrib\": {\"token_idx\": \"38083\", \"word\": \"is\", \"dep_label\": \"cop\", \"pos\": \"VBZ\", \"lemma\": \"be\", \"word_idx\": \"24\", \"dep_parent\": \"26\"}, \"children\": []}]}]}, {\"attrib\": {\"token_idx\": \"38092\", \"word\": \".\", \"dep_label\": \"punct\", \"pos\": \".\", \"lemma\": \".\", \"word_idx\": \"26\", \"dep_parent\": \"6\"}, \"children\": []}]};\n",
       "var highlightIdxs = [[21], [25]];\n",
       "\n",
       "// Highlight words / nodes\n",
       "var COLORS = [\"#ff5c33\", \"#ffcc00\", \"#33cc33\", \"#3399ff\"];\n",
       "function highlightWords() {\n",
       "  for (var i=0; i < highlightIdxs.length; i++) {\n",
       "    var c = COLORS[i];\n",
       "    var idxs = highlightIdxs[i];\n",
       "    for (var j=0; j < idxs.length; j++) {\n",
       "      d3.selectAll(\".word-\"+chartId+\"-\"+idxs[j]).style(\"stroke\", c).style(\"background\", c);\n",
       "    }\n",
       "  }\n",
       "}\n",
       "\n",
       "// Constants\n",
       "var margin = {top: 20, right: 20, bottom: 20, left: 20},\n",
       "width = 800 - margin.left - margin.right,\n",
       "height = 350 - margin.top - margin.bottom,\n",
       "R = 5;\n",
       "\n",
       "// Create the d3 tree object\n",
       "var tree = d3.layout.tree()\n",
       "  .size([width, height]);\n",
       "\n",
       "// Create the svg canvas\n",
       "var svg = d3.select(\"#tree-chart-\" + chartId)\n",
       "  .append(\"svg\")\n",
       "  .attr(\"width\", width + margin.left + margin.right)\n",
       "  .attr(\"height\", height + margin.top + margin.bottom)\n",
       "  .append(\"g\")\n",
       "  .attr(\"transform\", \"translate(\" + margin.left + \",\" + margin.top + \")\");\n",
       "\n",
       "function renderTree() {\n",
       "  var nodes = tree.nodes(root),\n",
       "  edges = tree.links(nodes);\n",
       "\n",
       "  // Place the nodes\n",
       "  var nodeGroups = svg.selectAll(\"g.node\")\n",
       "    .data(nodes)\n",
       "    .enter().append(\"g\")\n",
       "    .attr(\"class\", \"node\")\n",
       "    .attr(\"transform\", function(d) { return \"translate(\" + d.x + \",\" + d.y + \")\"; });\n",
       "       \n",
       "  // Append circles\n",
       "  nodeGroups.append(\"circle\")\n",
       "    //.on(\"click\", function() {\n",
       "    //  d3.select(this).classed(\"highlight\", !d3.select(this).classed(\"highlight\")); })\n",
       "    .attr(\"r\", R)\n",
       "    .attr(\"class\", function(d) { return \"word-\"+chartId+\"-\"+d.attrib.word_idx; });\n",
       "     \n",
       "  // Append the actual word\n",
       "  nodeGroups.append(\"text\")\n",
       "    .text(function(d) { return d.attrib.word; })\n",
       "    .attr(\"text-anchor\", function(d) { \n",
       "      return d.children && d.children.length > 0 ? \"start\" : \"middle\"; })\n",
       "    .attr(\"dx\", function(d) { \n",
       "      return d.children && d.children.length > 0 ? R + 3 : 0; })\n",
       "    .attr(\"dy\", function(d) { \n",
       "      return d.children && d.children.length > 0 ? 0 : 3*R + 3; });\n",
       "\n",
       "  // Place the edges\n",
       "  var edgePaths = svg.selectAll(\"path\")\n",
       "    .data(edges)\n",
       "    .enter().append(\"path\")\n",
       "    .attr(\"class\", \"edge\")\n",
       "    .on(\"click\", function() {\n",
       "      d3.select(this).classed(\"highlight\", !d3.select(this).classed(\"highlight\")); })\n",
       "    .attr(\"d\", d3.svg.diagonal());\n",
       "}\n",
       "\n",
       "renderTree();\n",
       "highlightWords();\n",
       "});\n"
      ]
     },
     "metadata": {},
     "output_type": "display_data"
    },
    {
     "data": {
      "text/html": [
       "<style>\n",
       ".node {\n",
       "  cursor: pointer;\n",
       "}\n",
       "\n",
       ".node circle {\n",
       "  fill: #fff;\n",
       "  stroke: steelblue;\n",
       "  stroke-width: 3px;\n",
       "}\n",
       "\n",
       ".node text {\n",
       "  font: 12px sans-serif;\n",
       "}\n",
       "\n",
       ".edge {\n",
       "  fill: none;\n",
       "  stroke: #ccc;\n",
       "  stroke-width: 2px;\n",
       "  cursor: pointer;\n",
       "}\n",
       "\n",
       ".highlight {\n",
       "  stroke: red;\n",
       "  stroke-width: 3px;\n",
       "}\n",
       "</style>\n",
       "\n",
       "<!--Provide the canvas id (twice) and the words via python string formatting here--!>\n",
       "<div id=\"tree-chart-5468769063852014519\"></div>\n",
       "<div id=\"raw-seq-5468769063852014519\">\n",
       "<span class=\"word-5468769063852014519-0\">However</span> <span class=\"word-5468769063852014519-1\">,</span> <span class=\"word-5468769063852014519-2\">we</span> <span class=\"word-5468769063852014519-3\">were</span> <span class=\"word-5468769063852014519-4\">not</span> <span class=\"word-5468769063852014519-5\">able</span> <span class=\"word-5468769063852014519-6\">to</span> <span class=\"word-5468769063852014519-7\">obtain</span> <span class=\"word-5468769063852014519-8\">double</span> <span class=\"word-5468769063852014519-9\">_</span> <span class=\"word-5468769063852014519-10\">mtr4</span> <span class=\"word-5468769063852014519-11\">hen2</span> <span class=\"word-5468769063852014519-12\">_</span> <span class=\"word-5468769063852014519-13\">mutants</span> <span class=\"word-5468769063852014519-14\">,</span> <span class=\"word-5468769063852014519-15\">signifying</span> <span class=\"word-5468769063852014519-16\">that</span> <span class=\"word-5468769063852014519-17\">simultaneous</span> <span class=\"word-5468769063852014519-18\">loss</span> <span class=\"word-5468769063852014519-19\">of</span> <span class=\"word-5468769063852014519-20\">both</span> <span class=\"word-5468769063852014519-21\">AtMTR4</span> <span class=\"word-5468769063852014519-22\">and</span> <span class=\"word-5468769063852014519-23\">HEN2</span> <span class=\"word-5468769063852014519-24\">is</span> <span class=\"word-5468769063852014519-25\">lethal</span> <span class=\"word-5468769063852014519-26\">.</span>\n",
       "</div>\n"
      ]
     },
     "metadata": {},
     "output_type": "display_data"
    },
    {
     "data": {
      "application/javascript": [
       "$.getScript(\"http://d3js.org/d3.v3.min.js\", function () {\n",
       "// See http://bl.ocks.org/d3noob/8375092\n",
       "// Three vars need to be provided via python string formatting:\n",
       "var chartId = \"5468769063852014519\";\n",
       "var root = {\"attrib\": {\"token_idx\": \"37982\", \"word\": \"able\", \"dep_label\": \"ROOT\", \"pos\": \"JJ\", \"lemma\": \"able\", \"word_idx\": \"5\", \"dep_parent\": \"0\"}, \"children\": [{\"attrib\": {\"token_idx\": \"37961\", \"word\": \"However\", \"dep_label\": \"advmod\", \"pos\": \"RB\", \"lemma\": \"however\", \"word_idx\": \"0\", \"dep_parent\": \"6\"}, \"children\": []}, {\"attrib\": {\"token_idx\": \"37968\", \"word\": \",\", \"dep_label\": \"punct\", \"pos\": \",\", \"lemma\": \",\", \"word_idx\": \"1\", \"dep_parent\": \"6\"}, \"children\": []}, {\"attrib\": {\"token_idx\": \"37970\", \"word\": \"we\", \"dep_label\": \"nsubj\", \"pos\": \"PRP\", \"lemma\": \"we\", \"word_idx\": \"2\", \"dep_parent\": \"6\"}, \"children\": []}, {\"attrib\": {\"token_idx\": \"37973\", \"word\": \"were\", \"dep_label\": \"cop\", \"pos\": \"VBD\", \"lemma\": \"be\", \"word_idx\": \"3\", \"dep_parent\": \"6\"}, \"children\": []}, {\"attrib\": {\"token_idx\": \"37978\", \"word\": \"not\", \"dep_label\": \"neg\", \"pos\": \"RB\", \"lemma\": \"not\", \"word_idx\": \"4\", \"dep_parent\": \"6\"}, \"children\": []}, {\"attrib\": {\"token_idx\": \"37990\", \"word\": \"obtain\", \"dep_label\": \"xcomp\", \"pos\": \"VB\", \"lemma\": \"obtain\", \"word_idx\": \"7\", \"dep_parent\": \"6\"}, \"children\": [{\"attrib\": {\"token_idx\": \"37987\", \"word\": \"to\", \"dep_label\": \"mark\", \"pos\": \"TO\", \"lemma\": \"to\", \"word_idx\": \"6\", \"dep_parent\": \"8\"}, \"children\": []}, {\"attrib\": {\"token_idx\": \"38016\", \"word\": \"mutants\", \"dep_label\": \"dobj\", \"pos\": \"NNS\", \"lemma\": \"mutant\", \"word_idx\": \"13\", \"dep_parent\": \"8\"}, \"children\": [{\"attrib\": {\"token_idx\": \"37997\", \"word\": \"double\", \"dep_label\": \"amod\", \"pos\": \"JJ\", \"lemma\": \"double\", \"word_idx\": \"8\", \"dep_parent\": \"14\"}, \"children\": []}, {\"attrib\": {\"token_idx\": \"38004\", \"word\": \"_\", \"dep_label\": \"nummod\", \"pos\": \"CD\", \"lemma\": \"_\", \"word_idx\": \"9\", \"dep_parent\": \"14\"}, \"children\": []}, {\"attrib\": {\"token_idx\": \"38005\", \"word\": \"mtr4\", \"dep_label\": \"compound\", \"pos\": \"NN\", \"lemma\": \"mtr4\", \"word_idx\": \"10\", \"dep_parent\": \"14\"}, \"children\": []}, {\"attrib\": {\"token_idx\": \"38010\", \"word\": \"hen2\", \"dep_label\": \"compound\", \"pos\": \"NN\", \"lemma\": \"hen2\", \"word_idx\": \"11\", \"dep_parent\": \"14\"}, \"children\": []}, {\"attrib\": {\"token_idx\": \"38014\", \"word\": \"_\", \"dep_label\": \"nummod\", \"pos\": \"CD\", \"lemma\": \"_\", \"word_idx\": \"12\", \"dep_parent\": \"14\"}, \"children\": []}]}]}, {\"attrib\": {\"token_idx\": \"38023\", \"word\": \",\", \"dep_label\": \"punct\", \"pos\": \",\", \"lemma\": \",\", \"word_idx\": \"14\", \"dep_parent\": \"6\"}, \"children\": []}, {\"attrib\": {\"token_idx\": \"38025\", \"word\": \"signifying\", \"dep_label\": \"xcomp\", \"pos\": \"VBG\", \"lemma\": \"signify\", \"word_idx\": \"15\", \"dep_parent\": \"6\"}, \"children\": [{\"attrib\": {\"token_idx\": \"38086\", \"word\": \"lethal\", \"dep_label\": \"ccomp\", \"pos\": \"JJ\", \"lemma\": \"lethal\", \"word_idx\": \"25\", \"dep_parent\": \"16\"}, \"children\": [{\"attrib\": {\"token_idx\": \"38036\", \"word\": \"that\", \"dep_label\": \"mark\", \"pos\": \"IN\", \"lemma\": \"that\", \"word_idx\": \"16\", \"dep_parent\": \"26\"}, \"children\": []}, {\"attrib\": {\"token_idx\": \"38054\", \"word\": \"loss\", \"dep_label\": \"nsubj\", \"pos\": \"NN\", \"lemma\": \"loss\", \"word_idx\": \"18\", \"dep_parent\": \"26\"}, \"children\": [{\"attrib\": {\"token_idx\": \"38041\", \"word\": \"simultaneous\", \"dep_label\": \"amod\", \"pos\": \"JJ\", \"lemma\": \"simultaneous\", \"word_idx\": \"17\", \"dep_parent\": \"19\"}, \"children\": []}, {\"attrib\": {\"token_idx\": \"38067\", \"word\": \"AtMTR4\", \"dep_label\": \"nmod\", \"pos\": \"NN\", \"lemma\": \"atmtr4\", \"word_idx\": \"21\", \"dep_parent\": \"19\"}, \"children\": [{\"attrib\": {\"token_idx\": \"38059\", \"word\": \"of\", \"dep_label\": \"case\", \"pos\": \"IN\", \"lemma\": \"of\", \"word_idx\": \"19\", \"dep_parent\": \"22\"}, \"children\": []}, {\"attrib\": {\"token_idx\": \"38062\", \"word\": \"both\", \"dep_label\": \"cc:preconj\", \"pos\": \"CC\", \"lemma\": \"both\", \"word_idx\": \"20\", \"dep_parent\": \"22\"}, \"children\": []}, {\"attrib\": {\"token_idx\": \"38074\", \"word\": \"and\", \"dep_label\": \"cc\", \"pos\": \"CC\", \"lemma\": \"and\", \"word_idx\": \"22\", \"dep_parent\": \"22\"}, \"children\": []}, {\"attrib\": {\"token_idx\": \"38078\", \"word\": \"HEN2\", \"dep_label\": \"conj\", \"pos\": \"NN\", \"lemma\": \"hen2\", \"word_idx\": \"23\", \"dep_parent\": \"22\"}, \"children\": []}]}]}, {\"attrib\": {\"token_idx\": \"38083\", \"word\": \"is\", \"dep_label\": \"cop\", \"pos\": \"VBZ\", \"lemma\": \"be\", \"word_idx\": \"24\", \"dep_parent\": \"26\"}, \"children\": []}]}]}, {\"attrib\": {\"token_idx\": \"38092\", \"word\": \".\", \"dep_label\": \"punct\", \"pos\": \".\", \"lemma\": \".\", \"word_idx\": \"26\", \"dep_parent\": \"6\"}, \"children\": []}]};\n",
       "var highlightIdxs = [[23], [25]];\n",
       "\n",
       "// Highlight words / nodes\n",
       "var COLORS = [\"#ff5c33\", \"#ffcc00\", \"#33cc33\", \"#3399ff\"];\n",
       "function highlightWords() {\n",
       "  for (var i=0; i < highlightIdxs.length; i++) {\n",
       "    var c = COLORS[i];\n",
       "    var idxs = highlightIdxs[i];\n",
       "    for (var j=0; j < idxs.length; j++) {\n",
       "      d3.selectAll(\".word-\"+chartId+\"-\"+idxs[j]).style(\"stroke\", c).style(\"background\", c);\n",
       "    }\n",
       "  }\n",
       "}\n",
       "\n",
       "// Constants\n",
       "var margin = {top: 20, right: 20, bottom: 20, left: 20},\n",
       "width = 800 - margin.left - margin.right,\n",
       "height = 350 - margin.top - margin.bottom,\n",
       "R = 5;\n",
       "\n",
       "// Create the d3 tree object\n",
       "var tree = d3.layout.tree()\n",
       "  .size([width, height]);\n",
       "\n",
       "// Create the svg canvas\n",
       "var svg = d3.select(\"#tree-chart-\" + chartId)\n",
       "  .append(\"svg\")\n",
       "  .attr(\"width\", width + margin.left + margin.right)\n",
       "  .attr(\"height\", height + margin.top + margin.bottom)\n",
       "  .append(\"g\")\n",
       "  .attr(\"transform\", \"translate(\" + margin.left + \",\" + margin.top + \")\");\n",
       "\n",
       "function renderTree() {\n",
       "  var nodes = tree.nodes(root),\n",
       "  edges = tree.links(nodes);\n",
       "\n",
       "  // Place the nodes\n",
       "  var nodeGroups = svg.selectAll(\"g.node\")\n",
       "    .data(nodes)\n",
       "    .enter().append(\"g\")\n",
       "    .attr(\"class\", \"node\")\n",
       "    .attr(\"transform\", function(d) { return \"translate(\" + d.x + \",\" + d.y + \")\"; });\n",
       "       \n",
       "  // Append circles\n",
       "  nodeGroups.append(\"circle\")\n",
       "    //.on(\"click\", function() {\n",
       "    //  d3.select(this).classed(\"highlight\", !d3.select(this).classed(\"highlight\")); })\n",
       "    .attr(\"r\", R)\n",
       "    .attr(\"class\", function(d) { return \"word-\"+chartId+\"-\"+d.attrib.word_idx; });\n",
       "     \n",
       "  // Append the actual word\n",
       "  nodeGroups.append(\"text\")\n",
       "    .text(function(d) { return d.attrib.word; })\n",
       "    .attr(\"text-anchor\", function(d) { \n",
       "      return d.children && d.children.length > 0 ? \"start\" : \"middle\"; })\n",
       "    .attr(\"dx\", function(d) { \n",
       "      return d.children && d.children.length > 0 ? R + 3 : 0; })\n",
       "    .attr(\"dy\", function(d) { \n",
       "      return d.children && d.children.length > 0 ? 0 : 3*R + 3; });\n",
       "\n",
       "  // Place the edges\n",
       "  var edgePaths = svg.selectAll(\"path\")\n",
       "    .data(edges)\n",
       "    .enter().append(\"path\")\n",
       "    .attr(\"class\", \"edge\")\n",
       "    .on(\"click\", function() {\n",
       "      d3.select(this).classed(\"highlight\", !d3.select(this).classed(\"highlight\")); })\n",
       "    .attr(\"d\", d3.svg.diagonal());\n",
       "}\n",
       "\n",
       "renderTree();\n",
       "highlightWords();\n",
       "});\n"
      ]
     },
     "metadata": {},
     "output_type": "display_data"
    },
    {
     "data": {
      "text/html": [
       "<style>\n",
       ".node {\n",
       "  cursor: pointer;\n",
       "}\n",
       "\n",
       ".node circle {\n",
       "  fill: #fff;\n",
       "  stroke: steelblue;\n",
       "  stroke-width: 3px;\n",
       "}\n",
       "\n",
       ".node text {\n",
       "  font: 12px sans-serif;\n",
       "}\n",
       "\n",
       ".edge {\n",
       "  fill: none;\n",
       "  stroke: #ccc;\n",
       "  stroke-width: 2px;\n",
       "  cursor: pointer;\n",
       "}\n",
       "\n",
       ".highlight {\n",
       "  stroke: red;\n",
       "  stroke-width: 3px;\n",
       "}\n",
       "</style>\n",
       "\n",
       "<!--Provide the canvas id (twice) and the words via python string formatting here--!>\n",
       "<div id=\"tree-chart-7285041256509660268\"></div>\n",
       "<div id=\"raw-seq-7285041256509660268\">\n",
       "<span class=\"word-7285041256509660268-0\">_</span> <span class=\"word-7285041256509660268-1\">MDA1</span> <span class=\"word-7285041256509660268-2\">_</span> <span class=\"word-7285041256509660268-3\">loss</span> <span class=\"word-7285041256509660268-4\">of</span> <span class=\"word-7285041256509660268-5\">function</span> <span class=\"word-7285041256509660268-6\">alters</span> <span class=\"word-7285041256509660268-7\">plant</span> <span class=\"word-7285041256509660268-8\">development</span> <span class=\"word-7285041256509660268-9\">,</span> <span class=\"word-7285041256509660268-10\">leading</span> <span class=\"word-7285041256509660268-11\">to</span> <span class=\"word-7285041256509660268-12\">defective</span> <span class=\"word-7285041256509660268-13\">chloroplast</span> <span class=\"word-7285041256509660268-14\">function</span> <span class=\"word-7285041256509660268-15\">and</span> <span class=\"word-7285041256509660268-16\">gene</span> <span class=\"word-7285041256509660268-17\">expression</span> <span class=\"word-7285041256509660268-18\">,</span> <span class=\"word-7285041256509660268-19\">early</span> <span class=\"word-7285041256509660268-20\">flowering</span> <span class=\"word-7285041256509660268-21\">,</span> <span class=\"word-7285041256509660268-22\">reduced</span> <span class=\"word-7285041256509660268-23\">plant</span> <span class=\"word-7285041256509660268-24\">growth</span> <span class=\"word-7285041256509660268-25\">and</span> <span class=\"word-7285041256509660268-26\">pale</span> <span class=\"word-7285041256509660268-27\">pigmentation</span> <span class=\"word-7285041256509660268-28\">,</span> <span class=\"word-7285041256509660268-29\">together</span> <span class=\"word-7285041256509660268-30\">with</span> <span class=\"word-7285041256509660268-31\">increased</span> <span class=\"word-7285041256509660268-32\">tolerance</span> <span class=\"word-7285041256509660268-33\">to</span> <span class=\"word-7285041256509660268-34\">salt</span> <span class=\"word-7285041256509660268-35\">and</span> <span class=\"word-7285041256509660268-36\">osmotic</span> <span class=\"word-7285041256509660268-37\">stress</span> <span class=\"word-7285041256509660268-38\">,</span> <span class=\"word-7285041256509660268-39\">and</span> <span class=\"word-7285041256509660268-40\">altered</span> <span class=\"word-7285041256509660268-41\">responses</span> <span class=\"word-7285041256509660268-42\">to</span> <span class=\"word-7285041256509660268-43\">sugars</span> <span class=\"word-7285041256509660268-44\">and</span> <span class=\"word-7285041256509660268-45\">ABA</span> <span class=\"word-7285041256509660268-46\">.</span>\n",
       "</div>\n"
      ]
     },
     "metadata": {},
     "output_type": "display_data"
    },
    {
     "data": {
      "application/javascript": [
       "$.getScript(\"http://d3js.org/d3.v3.min.js\", function () {\n",
       "// See http://bl.ocks.org/d3noob/8375092\n",
       "// Three vars need to be provided via python string formatting:\n",
       "var chartId = \"7285041256509660268\";\n",
       "var root = {\"attrib\": {\"token_idx\": \"5573\", \"word\": \"alters\", \"dep_label\": \"ROOT\", \"pos\": \"VBZ\", \"lemma\": \"alter\", \"word_idx\": \"6\", \"dep_parent\": \"0\"}, \"children\": [{\"attrib\": {\"token_idx\": \"5556\", \"word\": \"loss\", \"dep_label\": \"nsubj\", \"pos\": \"NN\", \"lemma\": \"loss\", \"word_idx\": \"3\", \"dep_parent\": \"7\"}, \"children\": [{\"attrib\": {\"token_idx\": \"5549\", \"word\": \"_\", \"dep_label\": \"compound\", \"pos\": \"NN\", \"lemma\": \"_\", \"word_idx\": \"0\", \"dep_parent\": \"4\"}, \"children\": []}, {\"attrib\": {\"token_idx\": \"5550\", \"word\": \"MDA1\", \"dep_label\": \"compound\", \"pos\": \"NN\", \"lemma\": \"mda1\", \"word_idx\": \"1\", \"dep_parent\": \"4\"}, \"children\": []}, {\"attrib\": {\"token_idx\": \"5554\", \"word\": \"_\", \"dep_label\": \"nummod\", \"pos\": \"CD\", \"lemma\": \"_\", \"word_idx\": \"2\", \"dep_parent\": \"4\"}, \"children\": []}, {\"attrib\": {\"token_idx\": \"5564\", \"word\": \"function\", \"dep_label\": \"nmod\", \"pos\": \"NN\", \"lemma\": \"function\", \"word_idx\": \"5\", \"dep_parent\": \"4\"}, \"children\": [{\"attrib\": {\"token_idx\": \"5561\", \"word\": \"of\", \"dep_label\": \"case\", \"pos\": \"IN\", \"lemma\": \"of\", \"word_idx\": \"4\", \"dep_parent\": \"6\"}, \"children\": []}]}]}, {\"attrib\": {\"token_idx\": \"5586\", \"word\": \"development\", \"dep_label\": \"dobj\", \"pos\": \"NN\", \"lemma\": \"development\", \"word_idx\": \"8\", \"dep_parent\": \"7\"}, \"children\": [{\"attrib\": {\"token_idx\": \"5580\", \"word\": \"plant\", \"dep_label\": \"compound\", \"pos\": \"NN\", \"lemma\": \"plant\", \"word_idx\": \"7\", \"dep_parent\": \"9\"}, \"children\": []}]}, {\"attrib\": {\"token_idx\": \"5597\", \"word\": \",\", \"dep_label\": \"punct\", \"pos\": \",\", \"lemma\": \",\", \"word_idx\": \"9\", \"dep_parent\": \"7\"}, \"children\": []}, {\"attrib\": {\"token_idx\": \"5599\", \"word\": \"leading\", \"dep_label\": \"advcl\", \"pos\": \"VBG\", \"lemma\": \"lead\", \"word_idx\": \"10\", \"dep_parent\": \"7\"}, \"children\": [{\"attrib\": {\"token_idx\": \"5632\", \"word\": \"function\", \"dep_label\": \"nmod\", \"pos\": \"NN\", \"lemma\": \"function\", \"word_idx\": \"14\", \"dep_parent\": \"11\"}, \"children\": [{\"attrib\": {\"token_idx\": \"5607\", \"word\": \"to\", \"dep_label\": \"case\", \"pos\": \"TO\", \"lemma\": \"to\", \"word_idx\": \"11\", \"dep_parent\": \"15\"}, \"children\": []}, {\"attrib\": {\"token_idx\": \"5610\", \"word\": \"defective\", \"dep_label\": \"amod\", \"pos\": \"JJ\", \"lemma\": \"defective\", \"word_idx\": \"12\", \"dep_parent\": \"15\"}, \"children\": []}, {\"attrib\": {\"token_idx\": \"5620\", \"word\": \"chloroplast\", \"dep_label\": \"compound\", \"pos\": \"NN\", \"lemma\": \"chloroplast\", \"word_idx\": \"13\", \"dep_parent\": \"15\"}, \"children\": []}, {\"attrib\": {\"token_idx\": \"5641\", \"word\": \"and\", \"dep_label\": \"cc\", \"pos\": \"CC\", \"lemma\": \"and\", \"word_idx\": \"15\", \"dep_parent\": \"15\"}, \"children\": []}, {\"attrib\": {\"token_idx\": \"5650\", \"word\": \"expression\", \"dep_label\": \"conj\", \"pos\": \"NN\", \"lemma\": \"expression\", \"word_idx\": \"17\", \"dep_parent\": \"15\"}, \"children\": [{\"attrib\": {\"token_idx\": \"5645\", \"word\": \"gene\", \"dep_label\": \"compound\", \"pos\": \"NN\", \"lemma\": \"gene\", \"word_idx\": \"16\", \"dep_parent\": \"18\"}, \"children\": []}]}]}]}, {\"attrib\": {\"token_idx\": \"5660\", \"word\": \",\", \"dep_label\": \"punct\", \"pos\": \",\", \"lemma\": \",\", \"word_idx\": \"18\", \"dep_parent\": \"7\"}, \"children\": []}, {\"attrib\": {\"token_idx\": \"5668\", \"word\": \"flowering\", \"dep_label\": \"dobj\", \"pos\": \"NN\", \"lemma\": \"flowering\", \"word_idx\": \"20\", \"dep_parent\": \"7\"}, \"children\": [{\"attrib\": {\"token_idx\": \"5662\", \"word\": \"early\", \"dep_label\": \"amod\", \"pos\": \"JJ\", \"lemma\": \"early\", \"word_idx\": \"19\", \"dep_parent\": \"21\"}, \"children\": []}, {\"attrib\": {\"token_idx\": \"5677\", \"word\": \",\", \"dep_label\": \"punct\", \"pos\": \",\", \"lemma\": \",\", \"word_idx\": \"21\", \"dep_parent\": \"21\"}, \"children\": []}, {\"attrib\": {\"token_idx\": \"5693\", \"word\": \"growth\", \"dep_label\": \"conj\", \"pos\": \"NN\", \"lemma\": \"growth\", \"word_idx\": \"24\", \"dep_parent\": \"21\"}, \"children\": [{\"attrib\": {\"token_idx\": \"5679\", \"word\": \"reduced\", \"dep_label\": \"amod\", \"pos\": \"VBD\", \"lemma\": \"reduce\", \"word_idx\": \"22\", \"dep_parent\": \"25\"}, \"children\": []}, {\"attrib\": {\"token_idx\": \"5687\", \"word\": \"plant\", \"dep_label\": \"compound\", \"pos\": \"NN\", \"lemma\": \"plant\", \"word_idx\": \"23\", \"dep_parent\": \"25\"}, \"children\": []}]}, {\"attrib\": {\"token_idx\": \"5700\", \"word\": \"and\", \"dep_label\": \"cc\", \"pos\": \"CC\", \"lemma\": \"and\", \"word_idx\": \"25\", \"dep_parent\": \"21\"}, \"children\": []}, {\"attrib\": {\"token_idx\": \"5709\", \"word\": \"pigmentation\", \"dep_label\": \"conj\", \"pos\": \"NN\", \"lemma\": \"pigmentation\", \"word_idx\": \"27\", \"dep_parent\": \"21\"}, \"children\": [{\"attrib\": {\"token_idx\": \"5704\", \"word\": \"pale\", \"dep_label\": \"amod\", \"pos\": \"JJ\", \"lemma\": \"pale\", \"word_idx\": \"26\", \"dep_parent\": \"28\"}, \"children\": []}]}, {\"attrib\": {\"token_idx\": \"5721\", \"word\": \",\", \"dep_label\": \"punct\", \"pos\": \",\", \"lemma\": \",\", \"word_idx\": \"28\", \"dep_parent\": \"21\"}, \"children\": []}, {\"attrib\": {\"token_idx\": \"5747\", \"word\": \"tolerance\", \"dep_label\": \"conj\", \"pos\": \"NN\", \"lemma\": \"tolerance\", \"word_idx\": \"32\", \"dep_parent\": \"21\"}, \"children\": [{\"attrib\": {\"token_idx\": \"5723\", \"word\": \"together\", \"dep_label\": \"advmod\", \"pos\": \"RB\", \"lemma\": \"together\", \"word_idx\": \"29\", \"dep_parent\": \"33\"}, \"children\": []}, {\"attrib\": {\"token_idx\": \"5732\", \"word\": \"with\", \"dep_label\": \"case\", \"pos\": \"IN\", \"lemma\": \"with\", \"word_idx\": \"30\", \"dep_parent\": \"33\"}, \"children\": []}, {\"attrib\": {\"token_idx\": \"5737\", \"word\": \"increased\", \"dep_label\": \"amod\", \"pos\": \"VBN\", \"lemma\": \"increase\", \"word_idx\": \"31\", \"dep_parent\": \"33\"}, \"children\": []}, {\"attrib\": {\"token_idx\": \"5760\", \"word\": \"salt\", \"dep_label\": \"nmod\", \"pos\": \"NN\", \"lemma\": \"salt\", \"word_idx\": \"34\", \"dep_parent\": \"33\"}, \"children\": [{\"attrib\": {\"token_idx\": \"5757\", \"word\": \"to\", \"dep_label\": \"case\", \"pos\": \"TO\", \"lemma\": \"to\", \"word_idx\": \"33\", \"dep_parent\": \"35\"}, \"children\": []}, {\"attrib\": {\"token_idx\": \"5765\", \"word\": \"and\", \"dep_label\": \"cc\", \"pos\": \"CC\", \"lemma\": \"and\", \"word_idx\": \"35\", \"dep_parent\": \"35\"}, \"children\": []}, {\"attrib\": {\"token_idx\": \"5777\", \"word\": \"stress\", \"dep_label\": \"conj\", \"pos\": \"NN\", \"lemma\": \"stress\", \"word_idx\": \"37\", \"dep_parent\": \"35\"}, \"children\": [{\"attrib\": {\"token_idx\": \"5769\", \"word\": \"osmotic\", \"dep_label\": \"amod\", \"pos\": \"JJ\", \"lemma\": \"osmotic\", \"word_idx\": \"36\", \"dep_parent\": \"38\"}, \"children\": []}]}]}]}, {\"attrib\": {\"token_idx\": \"5783\", \"word\": \",\", \"dep_label\": \"punct\", \"pos\": \",\", \"lemma\": \",\", \"word_idx\": \"38\", \"dep_parent\": \"21\"}, \"children\": []}, {\"attrib\": {\"token_idx\": \"5785\", \"word\": \"and\", \"dep_label\": \"cc\", \"pos\": \"CC\", \"lemma\": \"and\", \"word_idx\": \"39\", \"dep_parent\": \"21\"}, \"children\": []}, {\"attrib\": {\"token_idx\": \"5797\", \"word\": \"responses\", \"dep_label\": \"conj\", \"pos\": \"NNS\", \"lemma\": \"response\", \"word_idx\": \"41\", \"dep_parent\": \"21\"}, \"children\": [{\"attrib\": {\"token_idx\": \"5789\", \"word\": \"altered\", \"dep_label\": \"amod\", \"pos\": \"JJ\", \"lemma\": \"altered\", \"word_idx\": \"40\", \"dep_parent\": \"42\"}, \"children\": []}, {\"attrib\": {\"token_idx\": \"5810\", \"word\": \"sugars\", \"dep_label\": \"nmod\", \"pos\": \"NNS\", \"lemma\": \"sugar\", \"word_idx\": \"43\", \"dep_parent\": \"42\"}, \"children\": [{\"attrib\": {\"token_idx\": \"5807\", \"word\": \"to\", \"dep_label\": \"case\", \"pos\": \"TO\", \"lemma\": \"to\", \"word_idx\": \"42\", \"dep_parent\": \"44\"}, \"children\": []}, {\"attrib\": {\"token_idx\": \"5817\", \"word\": \"and\", \"dep_label\": \"cc\", \"pos\": \"CC\", \"lemma\": \"and\", \"word_idx\": \"44\", \"dep_parent\": \"44\"}, \"children\": []}, {\"attrib\": {\"token_idx\": \"5821\", \"word\": \"ABA\", \"dep_label\": \"conj\", \"pos\": \"NNP\", \"lemma\": \"ABA\", \"word_idx\": \"45\", \"dep_parent\": \"44\"}, \"children\": []}]}]}]}, {\"attrib\": {\"token_idx\": \"5824\", \"word\": \".\", \"dep_label\": \"punct\", \"pos\": \".\", \"lemma\": \".\", \"word_idx\": \"46\", \"dep_parent\": \"7\"}, \"children\": []}]};\n",
       "var highlightIdxs = [[1], [19, 20]];\n",
       "\n",
       "// Highlight words / nodes\n",
       "var COLORS = [\"#ff5c33\", \"#ffcc00\", \"#33cc33\", \"#3399ff\"];\n",
       "function highlightWords() {\n",
       "  for (var i=0; i < highlightIdxs.length; i++) {\n",
       "    var c = COLORS[i];\n",
       "    var idxs = highlightIdxs[i];\n",
       "    for (var j=0; j < idxs.length; j++) {\n",
       "      d3.selectAll(\".word-\"+chartId+\"-\"+idxs[j]).style(\"stroke\", c).style(\"background\", c);\n",
       "    }\n",
       "  }\n",
       "}\n",
       "\n",
       "// Constants\n",
       "var margin = {top: 20, right: 20, bottom: 20, left: 20},\n",
       "width = 800 - margin.left - margin.right,\n",
       "height = 350 - margin.top - margin.bottom,\n",
       "R = 5;\n",
       "\n",
       "// Create the d3 tree object\n",
       "var tree = d3.layout.tree()\n",
       "  .size([width, height]);\n",
       "\n",
       "// Create the svg canvas\n",
       "var svg = d3.select(\"#tree-chart-\" + chartId)\n",
       "  .append(\"svg\")\n",
       "  .attr(\"width\", width + margin.left + margin.right)\n",
       "  .attr(\"height\", height + margin.top + margin.bottom)\n",
       "  .append(\"g\")\n",
       "  .attr(\"transform\", \"translate(\" + margin.left + \",\" + margin.top + \")\");\n",
       "\n",
       "function renderTree() {\n",
       "  var nodes = tree.nodes(root),\n",
       "  edges = tree.links(nodes);\n",
       "\n",
       "  // Place the nodes\n",
       "  var nodeGroups = svg.selectAll(\"g.node\")\n",
       "    .data(nodes)\n",
       "    .enter().append(\"g\")\n",
       "    .attr(\"class\", \"node\")\n",
       "    .attr(\"transform\", function(d) { return \"translate(\" + d.x + \",\" + d.y + \")\"; });\n",
       "       \n",
       "  // Append circles\n",
       "  nodeGroups.append(\"circle\")\n",
       "    //.on(\"click\", function() {\n",
       "    //  d3.select(this).classed(\"highlight\", !d3.select(this).classed(\"highlight\")); })\n",
       "    .attr(\"r\", R)\n",
       "    .attr(\"class\", function(d) { return \"word-\"+chartId+\"-\"+d.attrib.word_idx; });\n",
       "     \n",
       "  // Append the actual word\n",
       "  nodeGroups.append(\"text\")\n",
       "    .text(function(d) { return d.attrib.word; })\n",
       "    .attr(\"text-anchor\", function(d) { \n",
       "      return d.children && d.children.length > 0 ? \"start\" : \"middle\"; })\n",
       "    .attr(\"dx\", function(d) { \n",
       "      return d.children && d.children.length > 0 ? R + 3 : 0; })\n",
       "    .attr(\"dy\", function(d) { \n",
       "      return d.children && d.children.length > 0 ? 0 : 3*R + 3; });\n",
       "\n",
       "  // Place the edges\n",
       "  var edgePaths = svg.selectAll(\"path\")\n",
       "    .data(edges)\n",
       "    .enter().append(\"path\")\n",
       "    .attr(\"class\", \"edge\")\n",
       "    .on(\"click\", function() {\n",
       "      d3.select(this).classed(\"highlight\", !d3.select(this).classed(\"highlight\")); })\n",
       "    .attr(\"d\", d3.svg.diagonal());\n",
       "}\n",
       "\n",
       "renderTree();\n",
       "highlightWords();\n",
       "});\n"
      ]
     },
     "metadata": {},
     "output_type": "display_data"
    },
    {
     "data": {
      "text/html": [
       "<style>\n",
       ".node {\n",
       "  cursor: pointer;\n",
       "}\n",
       "\n",
       ".node circle {\n",
       "  fill: #fff;\n",
       "  stroke: steelblue;\n",
       "  stroke-width: 3px;\n",
       "}\n",
       "\n",
       ".node text {\n",
       "  font: 12px sans-serif;\n",
       "}\n",
       "\n",
       ".edge {\n",
       "  fill: none;\n",
       "  stroke: #ccc;\n",
       "  stroke-width: 2px;\n",
       "  cursor: pointer;\n",
       "}\n",
       "\n",
       ".highlight {\n",
       "  stroke: red;\n",
       "  stroke-width: 3px;\n",
       "}\n",
       "</style>\n",
       "\n",
       "<!--Provide the canvas id (twice) and the words via python string formatting here--!>\n",
       "<div id=\"tree-chart-7285041256509660268\"></div>\n",
       "<div id=\"raw-seq-7285041256509660268\">\n",
       "<span class=\"word-7285041256509660268-0\">_</span> <span class=\"word-7285041256509660268-1\">MDA1</span> <span class=\"word-7285041256509660268-2\">_</span> <span class=\"word-7285041256509660268-3\">loss</span> <span class=\"word-7285041256509660268-4\">of</span> <span class=\"word-7285041256509660268-5\">function</span> <span class=\"word-7285041256509660268-6\">alters</span> <span class=\"word-7285041256509660268-7\">plant</span> <span class=\"word-7285041256509660268-8\">development</span> <span class=\"word-7285041256509660268-9\">,</span> <span class=\"word-7285041256509660268-10\">leading</span> <span class=\"word-7285041256509660268-11\">to</span> <span class=\"word-7285041256509660268-12\">defective</span> <span class=\"word-7285041256509660268-13\">chloroplast</span> <span class=\"word-7285041256509660268-14\">function</span> <span class=\"word-7285041256509660268-15\">and</span> <span class=\"word-7285041256509660268-16\">gene</span> <span class=\"word-7285041256509660268-17\">expression</span> <span class=\"word-7285041256509660268-18\">,</span> <span class=\"word-7285041256509660268-19\">early</span> <span class=\"word-7285041256509660268-20\">flowering</span> <span class=\"word-7285041256509660268-21\">,</span> <span class=\"word-7285041256509660268-22\">reduced</span> <span class=\"word-7285041256509660268-23\">plant</span> <span class=\"word-7285041256509660268-24\">growth</span> <span class=\"word-7285041256509660268-25\">and</span> <span class=\"word-7285041256509660268-26\">pale</span> <span class=\"word-7285041256509660268-27\">pigmentation</span> <span class=\"word-7285041256509660268-28\">,</span> <span class=\"word-7285041256509660268-29\">together</span> <span class=\"word-7285041256509660268-30\">with</span> <span class=\"word-7285041256509660268-31\">increased</span> <span class=\"word-7285041256509660268-32\">tolerance</span> <span class=\"word-7285041256509660268-33\">to</span> <span class=\"word-7285041256509660268-34\">salt</span> <span class=\"word-7285041256509660268-35\">and</span> <span class=\"word-7285041256509660268-36\">osmotic</span> <span class=\"word-7285041256509660268-37\">stress</span> <span class=\"word-7285041256509660268-38\">,</span> <span class=\"word-7285041256509660268-39\">and</span> <span class=\"word-7285041256509660268-40\">altered</span> <span class=\"word-7285041256509660268-41\">responses</span> <span class=\"word-7285041256509660268-42\">to</span> <span class=\"word-7285041256509660268-43\">sugars</span> <span class=\"word-7285041256509660268-44\">and</span> <span class=\"word-7285041256509660268-45\">ABA</span> <span class=\"word-7285041256509660268-46\">.</span>\n",
       "</div>\n"
      ]
     },
     "metadata": {},
     "output_type": "display_data"
    },
    {
     "data": {
      "application/javascript": [
       "$.getScript(\"http://d3js.org/d3.v3.min.js\", function () {\n",
       "// See http://bl.ocks.org/d3noob/8375092\n",
       "// Three vars need to be provided via python string formatting:\n",
       "var chartId = \"7285041256509660268\";\n",
       "var root = {\"attrib\": {\"token_idx\": \"5573\", \"word\": \"alters\", \"dep_label\": \"ROOT\", \"pos\": \"VBZ\", \"lemma\": \"alter\", \"word_idx\": \"6\", \"dep_parent\": \"0\"}, \"children\": [{\"attrib\": {\"token_idx\": \"5556\", \"word\": \"loss\", \"dep_label\": \"nsubj\", \"pos\": \"NN\", \"lemma\": \"loss\", \"word_idx\": \"3\", \"dep_parent\": \"7\"}, \"children\": [{\"attrib\": {\"token_idx\": \"5549\", \"word\": \"_\", \"dep_label\": \"compound\", \"pos\": \"NN\", \"lemma\": \"_\", \"word_idx\": \"0\", \"dep_parent\": \"4\"}, \"children\": []}, {\"attrib\": {\"token_idx\": \"5550\", \"word\": \"MDA1\", \"dep_label\": \"compound\", \"pos\": \"NN\", \"lemma\": \"mda1\", \"word_idx\": \"1\", \"dep_parent\": \"4\"}, \"children\": []}, {\"attrib\": {\"token_idx\": \"5554\", \"word\": \"_\", \"dep_label\": \"nummod\", \"pos\": \"CD\", \"lemma\": \"_\", \"word_idx\": \"2\", \"dep_parent\": \"4\"}, \"children\": []}, {\"attrib\": {\"token_idx\": \"5564\", \"word\": \"function\", \"dep_label\": \"nmod\", \"pos\": \"NN\", \"lemma\": \"function\", \"word_idx\": \"5\", \"dep_parent\": \"4\"}, \"children\": [{\"attrib\": {\"token_idx\": \"5561\", \"word\": \"of\", \"dep_label\": \"case\", \"pos\": \"IN\", \"lemma\": \"of\", \"word_idx\": \"4\", \"dep_parent\": \"6\"}, \"children\": []}]}]}, {\"attrib\": {\"token_idx\": \"5586\", \"word\": \"development\", \"dep_label\": \"dobj\", \"pos\": \"NN\", \"lemma\": \"development\", \"word_idx\": \"8\", \"dep_parent\": \"7\"}, \"children\": [{\"attrib\": {\"token_idx\": \"5580\", \"word\": \"plant\", \"dep_label\": \"compound\", \"pos\": \"NN\", \"lemma\": \"plant\", \"word_idx\": \"7\", \"dep_parent\": \"9\"}, \"children\": []}]}, {\"attrib\": {\"token_idx\": \"5597\", \"word\": \",\", \"dep_label\": \"punct\", \"pos\": \",\", \"lemma\": \",\", \"word_idx\": \"9\", \"dep_parent\": \"7\"}, \"children\": []}, {\"attrib\": {\"token_idx\": \"5599\", \"word\": \"leading\", \"dep_label\": \"advcl\", \"pos\": \"VBG\", \"lemma\": \"lead\", \"word_idx\": \"10\", \"dep_parent\": \"7\"}, \"children\": [{\"attrib\": {\"token_idx\": \"5632\", \"word\": \"function\", \"dep_label\": \"nmod\", \"pos\": \"NN\", \"lemma\": \"function\", \"word_idx\": \"14\", \"dep_parent\": \"11\"}, \"children\": [{\"attrib\": {\"token_idx\": \"5607\", \"word\": \"to\", \"dep_label\": \"case\", \"pos\": \"TO\", \"lemma\": \"to\", \"word_idx\": \"11\", \"dep_parent\": \"15\"}, \"children\": []}, {\"attrib\": {\"token_idx\": \"5610\", \"word\": \"defective\", \"dep_label\": \"amod\", \"pos\": \"JJ\", \"lemma\": \"defective\", \"word_idx\": \"12\", \"dep_parent\": \"15\"}, \"children\": []}, {\"attrib\": {\"token_idx\": \"5620\", \"word\": \"chloroplast\", \"dep_label\": \"compound\", \"pos\": \"NN\", \"lemma\": \"chloroplast\", \"word_idx\": \"13\", \"dep_parent\": \"15\"}, \"children\": []}, {\"attrib\": {\"token_idx\": \"5641\", \"word\": \"and\", \"dep_label\": \"cc\", \"pos\": \"CC\", \"lemma\": \"and\", \"word_idx\": \"15\", \"dep_parent\": \"15\"}, \"children\": []}, {\"attrib\": {\"token_idx\": \"5650\", \"word\": \"expression\", \"dep_label\": \"conj\", \"pos\": \"NN\", \"lemma\": \"expression\", \"word_idx\": \"17\", \"dep_parent\": \"15\"}, \"children\": [{\"attrib\": {\"token_idx\": \"5645\", \"word\": \"gene\", \"dep_label\": \"compound\", \"pos\": \"NN\", \"lemma\": \"gene\", \"word_idx\": \"16\", \"dep_parent\": \"18\"}, \"children\": []}]}]}]}, {\"attrib\": {\"token_idx\": \"5660\", \"word\": \",\", \"dep_label\": \"punct\", \"pos\": \",\", \"lemma\": \",\", \"word_idx\": \"18\", \"dep_parent\": \"7\"}, \"children\": []}, {\"attrib\": {\"token_idx\": \"5668\", \"word\": \"flowering\", \"dep_label\": \"dobj\", \"pos\": \"NN\", \"lemma\": \"flowering\", \"word_idx\": \"20\", \"dep_parent\": \"7\"}, \"children\": [{\"attrib\": {\"token_idx\": \"5662\", \"word\": \"early\", \"dep_label\": \"amod\", \"pos\": \"JJ\", \"lemma\": \"early\", \"word_idx\": \"19\", \"dep_parent\": \"21\"}, \"children\": []}, {\"attrib\": {\"token_idx\": \"5677\", \"word\": \",\", \"dep_label\": \"punct\", \"pos\": \",\", \"lemma\": \",\", \"word_idx\": \"21\", \"dep_parent\": \"21\"}, \"children\": []}, {\"attrib\": {\"token_idx\": \"5693\", \"word\": \"growth\", \"dep_label\": \"conj\", \"pos\": \"NN\", \"lemma\": \"growth\", \"word_idx\": \"24\", \"dep_parent\": \"21\"}, \"children\": [{\"attrib\": {\"token_idx\": \"5679\", \"word\": \"reduced\", \"dep_label\": \"amod\", \"pos\": \"VBD\", \"lemma\": \"reduce\", \"word_idx\": \"22\", \"dep_parent\": \"25\"}, \"children\": []}, {\"attrib\": {\"token_idx\": \"5687\", \"word\": \"plant\", \"dep_label\": \"compound\", \"pos\": \"NN\", \"lemma\": \"plant\", \"word_idx\": \"23\", \"dep_parent\": \"25\"}, \"children\": []}]}, {\"attrib\": {\"token_idx\": \"5700\", \"word\": \"and\", \"dep_label\": \"cc\", \"pos\": \"CC\", \"lemma\": \"and\", \"word_idx\": \"25\", \"dep_parent\": \"21\"}, \"children\": []}, {\"attrib\": {\"token_idx\": \"5709\", \"word\": \"pigmentation\", \"dep_label\": \"conj\", \"pos\": \"NN\", \"lemma\": \"pigmentation\", \"word_idx\": \"27\", \"dep_parent\": \"21\"}, \"children\": [{\"attrib\": {\"token_idx\": \"5704\", \"word\": \"pale\", \"dep_label\": \"amod\", \"pos\": \"JJ\", \"lemma\": \"pale\", \"word_idx\": \"26\", \"dep_parent\": \"28\"}, \"children\": []}]}, {\"attrib\": {\"token_idx\": \"5721\", \"word\": \",\", \"dep_label\": \"punct\", \"pos\": \",\", \"lemma\": \",\", \"word_idx\": \"28\", \"dep_parent\": \"21\"}, \"children\": []}, {\"attrib\": {\"token_idx\": \"5747\", \"word\": \"tolerance\", \"dep_label\": \"conj\", \"pos\": \"NN\", \"lemma\": \"tolerance\", \"word_idx\": \"32\", \"dep_parent\": \"21\"}, \"children\": [{\"attrib\": {\"token_idx\": \"5723\", \"word\": \"together\", \"dep_label\": \"advmod\", \"pos\": \"RB\", \"lemma\": \"together\", \"word_idx\": \"29\", \"dep_parent\": \"33\"}, \"children\": []}, {\"attrib\": {\"token_idx\": \"5732\", \"word\": \"with\", \"dep_label\": \"case\", \"pos\": \"IN\", \"lemma\": \"with\", \"word_idx\": \"30\", \"dep_parent\": \"33\"}, \"children\": []}, {\"attrib\": {\"token_idx\": \"5737\", \"word\": \"increased\", \"dep_label\": \"amod\", \"pos\": \"VBN\", \"lemma\": \"increase\", \"word_idx\": \"31\", \"dep_parent\": \"33\"}, \"children\": []}, {\"attrib\": {\"token_idx\": \"5760\", \"word\": \"salt\", \"dep_label\": \"nmod\", \"pos\": \"NN\", \"lemma\": \"salt\", \"word_idx\": \"34\", \"dep_parent\": \"33\"}, \"children\": [{\"attrib\": {\"token_idx\": \"5757\", \"word\": \"to\", \"dep_label\": \"case\", \"pos\": \"TO\", \"lemma\": \"to\", \"word_idx\": \"33\", \"dep_parent\": \"35\"}, \"children\": []}, {\"attrib\": {\"token_idx\": \"5765\", \"word\": \"and\", \"dep_label\": \"cc\", \"pos\": \"CC\", \"lemma\": \"and\", \"word_idx\": \"35\", \"dep_parent\": \"35\"}, \"children\": []}, {\"attrib\": {\"token_idx\": \"5777\", \"word\": \"stress\", \"dep_label\": \"conj\", \"pos\": \"NN\", \"lemma\": \"stress\", \"word_idx\": \"37\", \"dep_parent\": \"35\"}, \"children\": [{\"attrib\": {\"token_idx\": \"5769\", \"word\": \"osmotic\", \"dep_label\": \"amod\", \"pos\": \"JJ\", \"lemma\": \"osmotic\", \"word_idx\": \"36\", \"dep_parent\": \"38\"}, \"children\": []}]}]}]}, {\"attrib\": {\"token_idx\": \"5783\", \"word\": \",\", \"dep_label\": \"punct\", \"pos\": \",\", \"lemma\": \",\", \"word_idx\": \"38\", \"dep_parent\": \"21\"}, \"children\": []}, {\"attrib\": {\"token_idx\": \"5785\", \"word\": \"and\", \"dep_label\": \"cc\", \"pos\": \"CC\", \"lemma\": \"and\", \"word_idx\": \"39\", \"dep_parent\": \"21\"}, \"children\": []}, {\"attrib\": {\"token_idx\": \"5797\", \"word\": \"responses\", \"dep_label\": \"conj\", \"pos\": \"NNS\", \"lemma\": \"response\", \"word_idx\": \"41\", \"dep_parent\": \"21\"}, \"children\": [{\"attrib\": {\"token_idx\": \"5789\", \"word\": \"altered\", \"dep_label\": \"amod\", \"pos\": \"JJ\", \"lemma\": \"altered\", \"word_idx\": \"40\", \"dep_parent\": \"42\"}, \"children\": []}, {\"attrib\": {\"token_idx\": \"5810\", \"word\": \"sugars\", \"dep_label\": \"nmod\", \"pos\": \"NNS\", \"lemma\": \"sugar\", \"word_idx\": \"43\", \"dep_parent\": \"42\"}, \"children\": [{\"attrib\": {\"token_idx\": \"5807\", \"word\": \"to\", \"dep_label\": \"case\", \"pos\": \"TO\", \"lemma\": \"to\", \"word_idx\": \"42\", \"dep_parent\": \"44\"}, \"children\": []}, {\"attrib\": {\"token_idx\": \"5817\", \"word\": \"and\", \"dep_label\": \"cc\", \"pos\": \"CC\", \"lemma\": \"and\", \"word_idx\": \"44\", \"dep_parent\": \"44\"}, \"children\": []}, {\"attrib\": {\"token_idx\": \"5821\", \"word\": \"ABA\", \"dep_label\": \"conj\", \"pos\": \"NNP\", \"lemma\": \"ABA\", \"word_idx\": \"45\", \"dep_parent\": \"44\"}, \"children\": []}]}]}]}, {\"attrib\": {\"token_idx\": \"5824\", \"word\": \".\", \"dep_label\": \"punct\", \"pos\": \".\", \"lemma\": \".\", \"word_idx\": \"46\", \"dep_parent\": \"7\"}, \"children\": []}]};\n",
       "var highlightIdxs = [[1], [26, 27]];\n",
       "\n",
       "// Highlight words / nodes\n",
       "var COLORS = [\"#ff5c33\", \"#ffcc00\", \"#33cc33\", \"#3399ff\"];\n",
       "function highlightWords() {\n",
       "  for (var i=0; i < highlightIdxs.length; i++) {\n",
       "    var c = COLORS[i];\n",
       "    var idxs = highlightIdxs[i];\n",
       "    for (var j=0; j < idxs.length; j++) {\n",
       "      d3.selectAll(\".word-\"+chartId+\"-\"+idxs[j]).style(\"stroke\", c).style(\"background\", c);\n",
       "    }\n",
       "  }\n",
       "}\n",
       "\n",
       "// Constants\n",
       "var margin = {top: 20, right: 20, bottom: 20, left: 20},\n",
       "width = 800 - margin.left - margin.right,\n",
       "height = 350 - margin.top - margin.bottom,\n",
       "R = 5;\n",
       "\n",
       "// Create the d3 tree object\n",
       "var tree = d3.layout.tree()\n",
       "  .size([width, height]);\n",
       "\n",
       "// Create the svg canvas\n",
       "var svg = d3.select(\"#tree-chart-\" + chartId)\n",
       "  .append(\"svg\")\n",
       "  .attr(\"width\", width + margin.left + margin.right)\n",
       "  .attr(\"height\", height + margin.top + margin.bottom)\n",
       "  .append(\"g\")\n",
       "  .attr(\"transform\", \"translate(\" + margin.left + \",\" + margin.top + \")\");\n",
       "\n",
       "function renderTree() {\n",
       "  var nodes = tree.nodes(root),\n",
       "  edges = tree.links(nodes);\n",
       "\n",
       "  // Place the nodes\n",
       "  var nodeGroups = svg.selectAll(\"g.node\")\n",
       "    .data(nodes)\n",
       "    .enter().append(\"g\")\n",
       "    .attr(\"class\", \"node\")\n",
       "    .attr(\"transform\", function(d) { return \"translate(\" + d.x + \",\" + d.y + \")\"; });\n",
       "       \n",
       "  // Append circles\n",
       "  nodeGroups.append(\"circle\")\n",
       "    //.on(\"click\", function() {\n",
       "    //  d3.select(this).classed(\"highlight\", !d3.select(this).classed(\"highlight\")); })\n",
       "    .attr(\"r\", R)\n",
       "    .attr(\"class\", function(d) { return \"word-\"+chartId+\"-\"+d.attrib.word_idx; });\n",
       "     \n",
       "  // Append the actual word\n",
       "  nodeGroups.append(\"text\")\n",
       "    .text(function(d) { return d.attrib.word; })\n",
       "    .attr(\"text-anchor\", function(d) { \n",
       "      return d.children && d.children.length > 0 ? \"start\" : \"middle\"; })\n",
       "    .attr(\"dx\", function(d) { \n",
       "      return d.children && d.children.length > 0 ? R + 3 : 0; })\n",
       "    .attr(\"dy\", function(d) { \n",
       "      return d.children && d.children.length > 0 ? 0 : 3*R + 3; });\n",
       "\n",
       "  // Place the edges\n",
       "  var edgePaths = svg.selectAll(\"path\")\n",
       "    .data(edges)\n",
       "    .enter().append(\"path\")\n",
       "    .attr(\"class\", \"edge\")\n",
       "    .on(\"click\", function() {\n",
       "      d3.select(this).classed(\"highlight\", !d3.select(this).classed(\"highlight\")); })\n",
       "    .attr(\"d\", d3.svg.diagonal());\n",
       "}\n",
       "\n",
       "renderTree();\n",
       "highlightWords();\n",
       "});\n"
      ]
     },
     "metadata": {},
     "output_type": "display_data"
    },
    {
     "data": {
      "text/html": [
       "<style>\n",
       ".node {\n",
       "  cursor: pointer;\n",
       "}\n",
       "\n",
       ".node circle {\n",
       "  fill: #fff;\n",
       "  stroke: steelblue;\n",
       "  stroke-width: 3px;\n",
       "}\n",
       "\n",
       ".node text {\n",
       "  font: 12px sans-serif;\n",
       "}\n",
       "\n",
       ".edge {\n",
       "  fill: none;\n",
       "  stroke: #ccc;\n",
       "  stroke-width: 2px;\n",
       "  cursor: pointer;\n",
       "}\n",
       "\n",
       ".highlight {\n",
       "  stroke: red;\n",
       "  stroke-width: 3px;\n",
       "}\n",
       "</style>\n",
       "\n",
       "<!--Provide the canvas id (twice) and the words via python string formatting here--!>\n",
       "<div id=\"tree-chart-7073918460636752107\"></div>\n",
       "<div id=\"raw-seq-7073918460636752107\">\n",
       "<span class=\"word-7073918460636752107-0\">The</span> <span class=\"word-7073918460636752107-1\">deleted</span> <span class=\"word-7073918460636752107-2\">amino</span> <span class=\"word-7073918460636752107-3\">acids</span> <span class=\"word-7073918460636752107-4\">belong</span> <span class=\"word-7073918460636752107-5\">to</span> <span class=\"word-7073918460636752107-6\">the</span> <span class=\"word-7073918460636752107-7\">predicted</span> <span class=\"word-7073918460636752107-8\">domain</span> <span class=\"word-7073918460636752107-9\">with</span> <span class=\"word-7073918460636752107-10\">GTPase</span> <span class=\"word-7073918460636752107-11\">activity</span> <span class=\"word-7073918460636752107-12\">,</span> <span class=\"word-7073918460636752107-13\">where</span> <span class=\"word-7073918460636752107-14\">the</span> <span class=\"word-7073918460636752107-15\">deletion</span> <span class=\"word-7073918460636752107-16\">of</span> <span class=\"word-7073918460636752107-17\">the</span> <span class=\"word-7073918460636752107-18\">conserved</span> <span class=\"word-7073918460636752107-19\">Lys362</span> <span class=\"word-7073918460636752107-20\">has</span> <span class=\"word-7073918460636752107-21\">been</span> <span class=\"word-7073918460636752107-22\">shown</span> <span class=\"word-7073918460636752107-23\">to</span> <span class=\"word-7073918460636752107-24\">modify</span> <span class=\"word-7073918460636752107-25\">the</span> <span class=\"word-7073918460636752107-26\">localization</span> <span class=\"word-7073918460636752107-27\">of</span> <span class=\"word-7073918460636752107-28\">_</span> <span class=\"word-7073918460636752107-29\">FZL</span> <span class=\"word-7073918460636752107-30\">_</span> <span class=\"word-7073918460636752107-31\">,</span> <span class=\"word-7073918460636752107-32\">with</span> <span class=\"word-7073918460636752107-33\">the</span> <span class=\"word-7073918460636752107-34\">consequent</span> <span class=\"word-7073918460636752107-35\">loss</span> <span class=\"word-7073918460636752107-36\">of</span> <span class=\"word-7073918460636752107-37\">function</span> <span class=\"word-7073918460636752107-38\">of</span> <span class=\"word-7073918460636752107-39\">the</span> <span class=\"word-7073918460636752107-40\">FZL</span> <span class=\"word-7073918460636752107-41\">protein</span> <span class=\"word-7073918460636752107-42\">(</span> <span class=\"word-7073918460636752107-43\">)</span> <span class=\"word-7073918460636752107-44\">;</span> <span class=\"word-7073918460636752107-45\">therefore</span> <span class=\"word-7073918460636752107-46\">,</span> <span class=\"word-7073918460636752107-47\">the</span> <span class=\"word-7073918460636752107-48\">molecular</span> <span class=\"word-7073918460636752107-49\">alteration</span> <span class=\"word-7073918460636752107-50\">found</span> <span class=\"word-7073918460636752107-51\">in</span> <span class=\"word-7073918460636752107-52\">the</span> <span class=\"word-7073918460636752107-53\">_</span> <span class=\"word-7073918460636752107-54\">fzl</span> <span class=\"word-7073918460636752107-55\">-</span> <span class=\"word-7073918460636752107-56\">_</span> <span class=\"word-7073918460636752107-57\">L_er</span> <span class=\"word-7073918460636752107-58\">_</span> <span class=\"word-7073918460636752107-59\">mutant</span> <span class=\"word-7073918460636752107-60\">is</span> <span class=\"word-7073918460636752107-61\">compatible</span> <span class=\"word-7073918460636752107-62\">with</span> <span class=\"word-7073918460636752107-63\">the</span> <span class=\"word-7073918460636752107-64\">severe</span> <span class=\"word-7073918460636752107-65\">phenotype</span> <span class=\"word-7073918460636752107-66\">observed</span> <span class=\"word-7073918460636752107-67\">.</span>\n",
       "</div>\n"
      ]
     },
     "metadata": {},
     "output_type": "display_data"
    },
    {
     "data": {
      "application/javascript": [
       "$.getScript(\"http://d3js.org/d3.v3.min.js\", function () {\n",
       "// See http://bl.ocks.org/d3noob/8375092\n",
       "// Three vars need to be provided via python string formatting:\n",
       "var chartId = \"7073918460636752107\";\n",
       "var root = {\"attrib\": {\"token_idx\": \"21970\", \"word\": \"belong\", \"dep_label\": \"ROOT\", \"pos\": \"VBP\", \"lemma\": \"belong\", \"word_idx\": \"4\", \"dep_parent\": \"0\"}, \"children\": [{\"attrib\": {\"token_idx\": \"21964\", \"word\": \"acids\", \"dep_label\": \"nsubj\", \"pos\": \"NNS\", \"lemma\": \"acid\", \"word_idx\": \"3\", \"dep_parent\": \"5\"}, \"children\": [{\"attrib\": {\"token_idx\": \"21946\", \"word\": \"The\", \"dep_label\": \"det\", \"pos\": \"DT\", \"lemma\": \"the\", \"word_idx\": \"0\", \"dep_parent\": \"4\"}, \"children\": []}, {\"attrib\": {\"token_idx\": \"21950\", \"word\": \"deleted\", \"dep_label\": \"amod\", \"pos\": \"VBN\", \"lemma\": \"delete\", \"word_idx\": \"1\", \"dep_parent\": \"4\"}, \"children\": []}, {\"attrib\": {\"token_idx\": \"21958\", \"word\": \"amino\", \"dep_label\": \"compound\", \"pos\": \"NN\", \"lemma\": \"amino\", \"word_idx\": \"2\", \"dep_parent\": \"4\"}, \"children\": []}]}, {\"attrib\": {\"token_idx\": \"21994\", \"word\": \"domain\", \"dep_label\": \"nmod\", \"pos\": \"NN\", \"lemma\": \"domain\", \"word_idx\": \"8\", \"dep_parent\": \"5\"}, \"children\": [{\"attrib\": {\"token_idx\": \"21977\", \"word\": \"to\", \"dep_label\": \"case\", \"pos\": \"TO\", \"lemma\": \"to\", \"word_idx\": \"5\", \"dep_parent\": \"9\"}, \"children\": []}, {\"attrib\": {\"token_idx\": \"21980\", \"word\": \"the\", \"dep_label\": \"det\", \"pos\": \"DT\", \"lemma\": \"the\", \"word_idx\": \"6\", \"dep_parent\": \"9\"}, \"children\": []}, {\"attrib\": {\"token_idx\": \"21984\", \"word\": \"predicted\", \"dep_label\": \"amod\", \"pos\": \"VBN\", \"lemma\": \"predict\", \"word_idx\": \"7\", \"dep_parent\": \"9\"}, \"children\": []}, {\"attrib\": {\"token_idx\": \"22013\", \"word\": \"activity\", \"dep_label\": \"nmod\", \"pos\": \"NN\", \"lemma\": \"activity\", \"word_idx\": \"11\", \"dep_parent\": \"9\"}, \"children\": [{\"attrib\": {\"token_idx\": \"22001\", \"word\": \"with\", \"dep_label\": \"case\", \"pos\": \"IN\", \"lemma\": \"with\", \"word_idx\": \"9\", \"dep_parent\": \"12\"}, \"children\": []}, {\"attrib\": {\"token_idx\": \"22006\", \"word\": \"GTPase\", \"dep_label\": \"compound\", \"pos\": \"NN\", \"lemma\": \"gtpase\", \"word_idx\": \"10\", \"dep_parent\": \"12\"}, \"children\": []}, {\"attrib\": {\"token_idx\": \"22021\", \"word\": \",\", \"dep_label\": \"punct\", \"pos\": \",\", \"lemma\": \",\", \"word_idx\": \"12\", \"dep_parent\": \"12\"}, \"children\": []}, {\"attrib\": {\"token_idx\": \"22075\", \"word\": \"shown\", \"dep_label\": \"acl:relcl\", \"pos\": \"VBN\", \"lemma\": \"show\", \"word_idx\": \"22\", \"dep_parent\": \"12\"}, \"children\": [{\"attrib\": {\"token_idx\": \"22023\", \"word\": \"where\", \"dep_label\": \"advmod\", \"pos\": \"WRB\", \"lemma\": \"where\", \"word_idx\": \"13\", \"dep_parent\": \"23\"}, \"children\": []}, {\"attrib\": {\"token_idx\": \"22033\", \"word\": \"deletion\", \"dep_label\": \"nsubjpass\", \"pos\": \"NN\", \"lemma\": \"deletion\", \"word_idx\": \"15\", \"dep_parent\": \"23\"}, \"children\": [{\"attrib\": {\"token_idx\": \"22029\", \"word\": \"the\", \"dep_label\": \"det\", \"pos\": \"DT\", \"lemma\": \"the\", \"word_idx\": \"14\", \"dep_parent\": \"16\"}, \"children\": []}, {\"attrib\": {\"token_idx\": \"22059\", \"word\": \"Lys362\", \"dep_label\": \"nmod\", \"pos\": \"NN\", \"lemma\": \"lys362\", \"word_idx\": \"19\", \"dep_parent\": \"16\"}, \"children\": [{\"attrib\": {\"token_idx\": \"22042\", \"word\": \"of\", \"dep_label\": \"case\", \"pos\": \"IN\", \"lemma\": \"of\", \"word_idx\": \"16\", \"dep_parent\": \"20\"}, \"children\": []}, {\"attrib\": {\"token_idx\": \"22045\", \"word\": \"the\", \"dep_label\": \"det\", \"pos\": \"DT\", \"lemma\": \"the\", \"word_idx\": \"17\", \"dep_parent\": \"20\"}, \"children\": []}, {\"attrib\": {\"token_idx\": \"22049\", \"word\": \"conserved\", \"dep_label\": \"amod\", \"pos\": \"VBN\", \"lemma\": \"conserve\", \"word_idx\": \"18\", \"dep_parent\": \"20\"}, \"children\": []}]}]}, {\"attrib\": {\"token_idx\": \"22066\", \"word\": \"has\", \"dep_label\": \"aux\", \"pos\": \"VBZ\", \"lemma\": \"have\", \"word_idx\": \"20\", \"dep_parent\": \"23\"}, \"children\": []}, {\"attrib\": {\"token_idx\": \"22070\", \"word\": \"been\", \"dep_label\": \"auxpass\", \"pos\": \"VBN\", \"lemma\": \"be\", \"word_idx\": \"21\", \"dep_parent\": \"23\"}, \"children\": []}, {\"attrib\": {\"token_idx\": \"22084\", \"word\": \"modify\", \"dep_label\": \"xcomp\", \"pos\": \"VB\", \"lemma\": \"modify\", \"word_idx\": \"24\", \"dep_parent\": \"23\"}, \"children\": [{\"attrib\": {\"token_idx\": \"22081\", \"word\": \"to\", \"dep_label\": \"mark\", \"pos\": \"TO\", \"lemma\": \"to\", \"word_idx\": \"23\", \"dep_parent\": \"25\"}, \"children\": []}, {\"attrib\": {\"token_idx\": \"22095\", \"word\": \"localization\", \"dep_label\": \"dobj\", \"pos\": \"NN\", \"lemma\": \"localization\", \"word_idx\": \"26\", \"dep_parent\": \"25\"}, \"children\": [{\"attrib\": {\"token_idx\": \"22091\", \"word\": \"the\", \"dep_label\": \"det\", \"pos\": \"DT\", \"lemma\": \"the\", \"word_idx\": \"25\", \"dep_parent\": \"27\"}, \"children\": []}, {\"attrib\": {\"token_idx\": \"22115\", \"word\": \"_\", \"dep_label\": \"nmod\", \"pos\": \"NN\", \"lemma\": \"_\", \"word_idx\": \"30\", \"dep_parent\": \"27\"}, \"children\": [{\"attrib\": {\"token_idx\": \"22108\", \"word\": \"of\", \"dep_label\": \"case\", \"pos\": \"IN\", \"lemma\": \"of\", \"word_idx\": \"27\", \"dep_parent\": \"31\"}, \"children\": []}, {\"attrib\": {\"token_idx\": \"22111\", \"word\": \"_\", \"dep_label\": \"nummod\", \"pos\": \"CD\", \"lemma\": \"_\", \"word_idx\": \"28\", \"dep_parent\": \"31\"}, \"children\": []}, {\"attrib\": {\"token_idx\": \"22112\", \"word\": \"FZL\", \"dep_label\": \"compound\", \"pos\": \"NN\", \"lemma\": \"fzl\", \"word_idx\": \"29\", \"dep_parent\": \"31\"}, \"children\": []}]}]}]}]}, {\"attrib\": {\"token_idx\": \"22116\", \"word\": \",\", \"dep_label\": \"punct\", \"pos\": \",\", \"lemma\": \",\", \"word_idx\": \"31\", \"dep_parent\": \"12\"}, \"children\": []}]}, {\"attrib\": {\"token_idx\": \"22138\", \"word\": \"loss\", \"dep_label\": \"nmod\", \"pos\": \"NN\", \"lemma\": \"loss\", \"word_idx\": \"35\", \"dep_parent\": \"9\"}, \"children\": [{\"attrib\": {\"token_idx\": \"22118\", \"word\": \"with\", \"dep_label\": \"case\", \"pos\": \"IN\", \"lemma\": \"with\", \"word_idx\": \"32\", \"dep_parent\": \"36\"}, \"children\": []}, {\"attrib\": {\"token_idx\": \"22123\", \"word\": \"the\", \"dep_label\": \"det\", \"pos\": \"DT\", \"lemma\": \"the\", \"word_idx\": \"33\", \"dep_parent\": \"36\"}, \"children\": []}, {\"attrib\": {\"token_idx\": \"22127\", \"word\": \"consequent\", \"dep_label\": \"amod\", \"pos\": \"JJ\", \"lemma\": \"consequent\", \"word_idx\": \"34\", \"dep_parent\": \"36\"}, \"children\": []}, {\"attrib\": {\"token_idx\": \"22146\", \"word\": \"function\", \"dep_label\": \"nmod\", \"pos\": \"NN\", \"lemma\": \"function\", \"word_idx\": \"37\", \"dep_parent\": \"36\"}, \"children\": [{\"attrib\": {\"token_idx\": \"22143\", \"word\": \"of\", \"dep_label\": \"case\", \"pos\": \"IN\", \"lemma\": \"of\", \"word_idx\": \"36\", \"dep_parent\": \"38\"}, \"children\": []}, {\"attrib\": {\"token_idx\": \"22166\", \"word\": \"protein\", \"dep_label\": \"nmod\", \"pos\": \"NN\", \"lemma\": \"protein\", \"word_idx\": \"41\", \"dep_parent\": \"38\"}, \"children\": [{\"attrib\": {\"token_idx\": \"22155\", \"word\": \"of\", \"dep_label\": \"case\", \"pos\": \"IN\", \"lemma\": \"of\", \"word_idx\": \"38\", \"dep_parent\": \"42\"}, \"children\": []}, {\"attrib\": {\"token_idx\": \"22158\", \"word\": \"the\", \"dep_label\": \"det\", \"pos\": \"DT\", \"lemma\": \"the\", \"word_idx\": \"39\", \"dep_parent\": \"42\"}, \"children\": []}, {\"attrib\": {\"token_idx\": \"22162\", \"word\": \"FZL\", \"dep_label\": \"compound\", \"pos\": \"NN\", \"lemma\": \"fzl\", \"word_idx\": \"40\", \"dep_parent\": \"42\"}, \"children\": []}, {\"attrib\": {\"token_idx\": \"22178\", \"word\": \"therefore\", \"dep_label\": \"dep\", \"pos\": \"RB\", \"lemma\": \"therefore\", \"word_idx\": \"45\", \"dep_parent\": \"42\"}, \"children\": [{\"attrib\": {\"token_idx\": \"22174\", \"word\": \"-LRB-\", \"dep_label\": \"punct\", \"pos\": \"-LRB-\", \"lemma\": \"-lrb-\", \"word_idx\": \"42\", \"dep_parent\": \"46\"}, \"children\": []}, {\"attrib\": {\"token_idx\": \"22175\", \"word\": \"-RRB-\", \"dep_label\": \"punct\", \"pos\": \"-RRB-\", \"lemma\": \"-rrb-\", \"word_idx\": \"43\", \"dep_parent\": \"46\"}, \"children\": []}, {\"attrib\": {\"token_idx\": \"22176\", \"word\": \";\", \"dep_label\": \"punct\", \"pos\": \":\", \"lemma\": \";\", \"word_idx\": \"44\", \"dep_parent\": \"46\"}, \"children\": []}, {\"attrib\": {\"token_idx\": \"22187\", \"word\": \",\", \"dep_label\": \"punct\", \"pos\": \",\", \"lemma\": \",\", \"word_idx\": \"46\", \"dep_parent\": \"46\"}, \"children\": []}, {\"attrib\": {\"token_idx\": \"22203\", \"word\": \"alteration\", \"dep_label\": \"dep\", \"pos\": \"NN\", \"lemma\": \"alteration\", \"word_idx\": \"49\", \"dep_parent\": \"46\"}, \"children\": [{\"attrib\": {\"token_idx\": \"22189\", \"word\": \"the\", \"dep_label\": \"det\", \"pos\": \"DT\", \"lemma\": \"the\", \"word_idx\": \"47\", \"dep_parent\": \"50\"}, \"children\": []}, {\"attrib\": {\"token_idx\": \"22193\", \"word\": \"molecular\", \"dep_label\": \"amod\", \"pos\": \"JJ\", \"lemma\": \"molecular\", \"word_idx\": \"48\", \"dep_parent\": \"50\"}, \"children\": []}, {\"attrib\": {\"token_idx\": \"22214\", \"word\": \"found\", \"dep_label\": \"acl\", \"pos\": \"VBN\", \"lemma\": \"find\", \"word_idx\": \"50\", \"dep_parent\": \"50\"}, \"children\": [{\"attrib\": {\"token_idx\": \"22228\", \"word\": \"fzl\", \"dep_label\": \"nmod\", \"pos\": \"NN\", \"lemma\": \"fzl\", \"word_idx\": \"54\", \"dep_parent\": \"51\"}, \"children\": [{\"attrib\": {\"token_idx\": \"22220\", \"word\": \"in\", \"dep_label\": \"case\", \"pos\": \"IN\", \"lemma\": \"in\", \"word_idx\": \"51\", \"dep_parent\": \"55\"}, \"children\": []}, {\"attrib\": {\"token_idx\": \"22223\", \"word\": \"the\", \"dep_label\": \"det\", \"pos\": \"DT\", \"lemma\": \"the\", \"word_idx\": \"52\", \"dep_parent\": \"55\"}, \"children\": []}, {\"attrib\": {\"token_idx\": \"22227\", \"word\": \"_\", \"dep_label\": \"compound\", \"pos\": \"NN\", \"lemma\": \"_\", \"word_idx\": \"53\", \"dep_parent\": \"55\"}, \"children\": []}, {\"attrib\": {\"token_idx\": \"22231\", \"word\": \"-\", \"dep_label\": \"punct\", \"pos\": \":\", \"lemma\": \"-\", \"word_idx\": \"55\", \"dep_parent\": \"55\"}, \"children\": []}, {\"attrib\": {\"token_idx\": \"22249\", \"word\": \"compatible\", \"dep_label\": \"dep\", \"pos\": \"JJ\", \"lemma\": \"compatible\", \"word_idx\": \"61\", \"dep_parent\": \"55\"}, \"children\": [{\"attrib\": {\"token_idx\": \"22239\", \"word\": \"mutant\", \"dep_label\": \"nsubj\", \"pos\": \"NN\", \"lemma\": \"mutant\", \"word_idx\": \"59\", \"dep_parent\": \"62\"}, \"children\": [{\"attrib\": {\"token_idx\": \"22232\", \"word\": \"_\", \"dep_label\": \"nummod\", \"pos\": \"CD\", \"lemma\": \"_\", \"word_idx\": \"56\", \"dep_parent\": \"60\"}, \"children\": []}, {\"attrib\": {\"token_idx\": \"22233\", \"word\": \"L_er\", \"dep_label\": \"compound\", \"pos\": \"NN\", \"lemma\": \"l_er\", \"word_idx\": \"57\", \"dep_parent\": \"60\"}, \"children\": []}, {\"attrib\": {\"token_idx\": \"22237\", \"word\": \"_\", \"dep_label\": \"compound\", \"pos\": \"NN\", \"lemma\": \"_\", \"word_idx\": \"58\", \"dep_parent\": \"60\"}, \"children\": []}]}, {\"attrib\": {\"token_idx\": \"22246\", \"word\": \"is\", \"dep_label\": \"cop\", \"pos\": \"VBZ\", \"lemma\": \"be\", \"word_idx\": \"60\", \"dep_parent\": \"62\"}, \"children\": []}, {\"attrib\": {\"token_idx\": \"22276\", \"word\": \"phenotype\", \"dep_label\": \"nmod\", \"pos\": \"NN\", \"lemma\": \"phenotype\", \"word_idx\": \"65\", \"dep_parent\": \"62\"}, \"children\": [{\"attrib\": {\"token_idx\": \"22260\", \"word\": \"with\", \"dep_label\": \"case\", \"pos\": \"IN\", \"lemma\": \"with\", \"word_idx\": \"62\", \"dep_parent\": \"66\"}, \"children\": []}, {\"attrib\": {\"token_idx\": \"22265\", \"word\": \"the\", \"dep_label\": \"det\", \"pos\": \"DT\", \"lemma\": \"the\", \"word_idx\": \"63\", \"dep_parent\": \"66\"}, \"children\": []}, {\"attrib\": {\"token_idx\": \"22269\", \"word\": \"severe\", \"dep_label\": \"amod\", \"pos\": \"JJ\", \"lemma\": \"severe\", \"word_idx\": \"64\", \"dep_parent\": \"66\"}, \"children\": []}, {\"attrib\": {\"token_idx\": \"22286\", \"word\": \"observed\", \"dep_label\": \"acl\", \"pos\": \"VBN\", \"lemma\": \"observe\", \"word_idx\": \"66\", \"dep_parent\": \"66\"}, \"children\": []}]}]}]}]}]}]}]}]}]}]}, {\"attrib\": {\"token_idx\": \"22294\", \"word\": \".\", \"dep_label\": \"punct\", \"pos\": \".\", \"lemma\": \".\", \"word_idx\": \"67\", \"dep_parent\": \"5\"}, \"children\": []}]};\n",
       "var highlightIdxs = [[40], [64]];\n",
       "\n",
       "// Highlight words / nodes\n",
       "var COLORS = [\"#ff5c33\", \"#ffcc00\", \"#33cc33\", \"#3399ff\"];\n",
       "function highlightWords() {\n",
       "  for (var i=0; i < highlightIdxs.length; i++) {\n",
       "    var c = COLORS[i];\n",
       "    var idxs = highlightIdxs[i];\n",
       "    for (var j=0; j < idxs.length; j++) {\n",
       "      d3.selectAll(\".word-\"+chartId+\"-\"+idxs[j]).style(\"stroke\", c).style(\"background\", c);\n",
       "    }\n",
       "  }\n",
       "}\n",
       "\n",
       "// Constants\n",
       "var margin = {top: 20, right: 20, bottom: 20, left: 20},\n",
       "width = 800 - margin.left - margin.right,\n",
       "height = 350 - margin.top - margin.bottom,\n",
       "R = 5;\n",
       "\n",
       "// Create the d3 tree object\n",
       "var tree = d3.layout.tree()\n",
       "  .size([width, height]);\n",
       "\n",
       "// Create the svg canvas\n",
       "var svg = d3.select(\"#tree-chart-\" + chartId)\n",
       "  .append(\"svg\")\n",
       "  .attr(\"width\", width + margin.left + margin.right)\n",
       "  .attr(\"height\", height + margin.top + margin.bottom)\n",
       "  .append(\"g\")\n",
       "  .attr(\"transform\", \"translate(\" + margin.left + \",\" + margin.top + \")\");\n",
       "\n",
       "function renderTree() {\n",
       "  var nodes = tree.nodes(root),\n",
       "  edges = tree.links(nodes);\n",
       "\n",
       "  // Place the nodes\n",
       "  var nodeGroups = svg.selectAll(\"g.node\")\n",
       "    .data(nodes)\n",
       "    .enter().append(\"g\")\n",
       "    .attr(\"class\", \"node\")\n",
       "    .attr(\"transform\", function(d) { return \"translate(\" + d.x + \",\" + d.y + \")\"; });\n",
       "       \n",
       "  // Append circles\n",
       "  nodeGroups.append(\"circle\")\n",
       "    //.on(\"click\", function() {\n",
       "    //  d3.select(this).classed(\"highlight\", !d3.select(this).classed(\"highlight\")); })\n",
       "    .attr(\"r\", R)\n",
       "    .attr(\"class\", function(d) { return \"word-\"+chartId+\"-\"+d.attrib.word_idx; });\n",
       "     \n",
       "  // Append the actual word\n",
       "  nodeGroups.append(\"text\")\n",
       "    .text(function(d) { return d.attrib.word; })\n",
       "    .attr(\"text-anchor\", function(d) { \n",
       "      return d.children && d.children.length > 0 ? \"start\" : \"middle\"; })\n",
       "    .attr(\"dx\", function(d) { \n",
       "      return d.children && d.children.length > 0 ? R + 3 : 0; })\n",
       "    .attr(\"dy\", function(d) { \n",
       "      return d.children && d.children.length > 0 ? 0 : 3*R + 3; });\n",
       "\n",
       "  // Place the edges\n",
       "  var edgePaths = svg.selectAll(\"path\")\n",
       "    .data(edges)\n",
       "    .enter().append(\"path\")\n",
       "    .attr(\"class\", \"edge\")\n",
       "    .on(\"click\", function() {\n",
       "      d3.select(this).classed(\"highlight\", !d3.select(this).classed(\"highlight\")); })\n",
       "    .attr(\"d\", d3.svg.diagonal());\n",
       "}\n",
       "\n",
       "renderTree();\n",
       "highlightWords();\n",
       "});\n"
      ]
     },
     "metadata": {},
     "output_type": "display_data"
    },
    {
     "data": {
      "text/html": [
       "<style>\n",
       ".node {\n",
       "  cursor: pointer;\n",
       "}\n",
       "\n",
       ".node circle {\n",
       "  fill: #fff;\n",
       "  stroke: steelblue;\n",
       "  stroke-width: 3px;\n",
       "}\n",
       "\n",
       ".node text {\n",
       "  font: 12px sans-serif;\n",
       "}\n",
       "\n",
       ".edge {\n",
       "  fill: none;\n",
       "  stroke: #ccc;\n",
       "  stroke-width: 2px;\n",
       "  cursor: pointer;\n",
       "}\n",
       "\n",
       ".highlight {\n",
       "  stroke: red;\n",
       "  stroke-width: 3px;\n",
       "}\n",
       "</style>\n",
       "\n",
       "<!--Provide the canvas id (twice) and the words via python string formatting here--!>\n",
       "<div id=\"tree-chart-7073918460636752107\"></div>\n",
       "<div id=\"raw-seq-7073918460636752107\">\n",
       "<span class=\"word-7073918460636752107-0\">The</span> <span class=\"word-7073918460636752107-1\">deleted</span> <span class=\"word-7073918460636752107-2\">amino</span> <span class=\"word-7073918460636752107-3\">acids</span> <span class=\"word-7073918460636752107-4\">belong</span> <span class=\"word-7073918460636752107-5\">to</span> <span class=\"word-7073918460636752107-6\">the</span> <span class=\"word-7073918460636752107-7\">predicted</span> <span class=\"word-7073918460636752107-8\">domain</span> <span class=\"word-7073918460636752107-9\">with</span> <span class=\"word-7073918460636752107-10\">GTPase</span> <span class=\"word-7073918460636752107-11\">activity</span> <span class=\"word-7073918460636752107-12\">,</span> <span class=\"word-7073918460636752107-13\">where</span> <span class=\"word-7073918460636752107-14\">the</span> <span class=\"word-7073918460636752107-15\">deletion</span> <span class=\"word-7073918460636752107-16\">of</span> <span class=\"word-7073918460636752107-17\">the</span> <span class=\"word-7073918460636752107-18\">conserved</span> <span class=\"word-7073918460636752107-19\">Lys362</span> <span class=\"word-7073918460636752107-20\">has</span> <span class=\"word-7073918460636752107-21\">been</span> <span class=\"word-7073918460636752107-22\">shown</span> <span class=\"word-7073918460636752107-23\">to</span> <span class=\"word-7073918460636752107-24\">modify</span> <span class=\"word-7073918460636752107-25\">the</span> <span class=\"word-7073918460636752107-26\">localization</span> <span class=\"word-7073918460636752107-27\">of</span> <span class=\"word-7073918460636752107-28\">_</span> <span class=\"word-7073918460636752107-29\">FZL</span> <span class=\"word-7073918460636752107-30\">_</span> <span class=\"word-7073918460636752107-31\">,</span> <span class=\"word-7073918460636752107-32\">with</span> <span class=\"word-7073918460636752107-33\">the</span> <span class=\"word-7073918460636752107-34\">consequent</span> <span class=\"word-7073918460636752107-35\">loss</span> <span class=\"word-7073918460636752107-36\">of</span> <span class=\"word-7073918460636752107-37\">function</span> <span class=\"word-7073918460636752107-38\">of</span> <span class=\"word-7073918460636752107-39\">the</span> <span class=\"word-7073918460636752107-40\">FZL</span> <span class=\"word-7073918460636752107-41\">protein</span> <span class=\"word-7073918460636752107-42\">(</span> <span class=\"word-7073918460636752107-43\">)</span> <span class=\"word-7073918460636752107-44\">;</span> <span class=\"word-7073918460636752107-45\">therefore</span> <span class=\"word-7073918460636752107-46\">,</span> <span class=\"word-7073918460636752107-47\">the</span> <span class=\"word-7073918460636752107-48\">molecular</span> <span class=\"word-7073918460636752107-49\">alteration</span> <span class=\"word-7073918460636752107-50\">found</span> <span class=\"word-7073918460636752107-51\">in</span> <span class=\"word-7073918460636752107-52\">the</span> <span class=\"word-7073918460636752107-53\">_</span> <span class=\"word-7073918460636752107-54\">fzl</span> <span class=\"word-7073918460636752107-55\">-</span> <span class=\"word-7073918460636752107-56\">_</span> <span class=\"word-7073918460636752107-57\">L_er</span> <span class=\"word-7073918460636752107-58\">_</span> <span class=\"word-7073918460636752107-59\">mutant</span> <span class=\"word-7073918460636752107-60\">is</span> <span class=\"word-7073918460636752107-61\">compatible</span> <span class=\"word-7073918460636752107-62\">with</span> <span class=\"word-7073918460636752107-63\">the</span> <span class=\"word-7073918460636752107-64\">severe</span> <span class=\"word-7073918460636752107-65\">phenotype</span> <span class=\"word-7073918460636752107-66\">observed</span> <span class=\"word-7073918460636752107-67\">.</span>\n",
       "</div>\n"
      ]
     },
     "metadata": {},
     "output_type": "display_data"
    },
    {
     "data": {
      "application/javascript": [
       "$.getScript(\"http://d3js.org/d3.v3.min.js\", function () {\n",
       "// See http://bl.ocks.org/d3noob/8375092\n",
       "// Three vars need to be provided via python string formatting:\n",
       "var chartId = \"7073918460636752107\";\n",
       "var root = {\"attrib\": {\"token_idx\": \"21970\", \"word\": \"belong\", \"dep_label\": \"ROOT\", \"pos\": \"VBP\", \"lemma\": \"belong\", \"word_idx\": \"4\", \"dep_parent\": \"0\"}, \"children\": [{\"attrib\": {\"token_idx\": \"21964\", \"word\": \"acids\", \"dep_label\": \"nsubj\", \"pos\": \"NNS\", \"lemma\": \"acid\", \"word_idx\": \"3\", \"dep_parent\": \"5\"}, \"children\": [{\"attrib\": {\"token_idx\": \"21946\", \"word\": \"The\", \"dep_label\": \"det\", \"pos\": \"DT\", \"lemma\": \"the\", \"word_idx\": \"0\", \"dep_parent\": \"4\"}, \"children\": []}, {\"attrib\": {\"token_idx\": \"21950\", \"word\": \"deleted\", \"dep_label\": \"amod\", \"pos\": \"VBN\", \"lemma\": \"delete\", \"word_idx\": \"1\", \"dep_parent\": \"4\"}, \"children\": []}, {\"attrib\": {\"token_idx\": \"21958\", \"word\": \"amino\", \"dep_label\": \"compound\", \"pos\": \"NN\", \"lemma\": \"amino\", \"word_idx\": \"2\", \"dep_parent\": \"4\"}, \"children\": []}]}, {\"attrib\": {\"token_idx\": \"21994\", \"word\": \"domain\", \"dep_label\": \"nmod\", \"pos\": \"NN\", \"lemma\": \"domain\", \"word_idx\": \"8\", \"dep_parent\": \"5\"}, \"children\": [{\"attrib\": {\"token_idx\": \"21977\", \"word\": \"to\", \"dep_label\": \"case\", \"pos\": \"TO\", \"lemma\": \"to\", \"word_idx\": \"5\", \"dep_parent\": \"9\"}, \"children\": []}, {\"attrib\": {\"token_idx\": \"21980\", \"word\": \"the\", \"dep_label\": \"det\", \"pos\": \"DT\", \"lemma\": \"the\", \"word_idx\": \"6\", \"dep_parent\": \"9\"}, \"children\": []}, {\"attrib\": {\"token_idx\": \"21984\", \"word\": \"predicted\", \"dep_label\": \"amod\", \"pos\": \"VBN\", \"lemma\": \"predict\", \"word_idx\": \"7\", \"dep_parent\": \"9\"}, \"children\": []}, {\"attrib\": {\"token_idx\": \"22013\", \"word\": \"activity\", \"dep_label\": \"nmod\", \"pos\": \"NN\", \"lemma\": \"activity\", \"word_idx\": \"11\", \"dep_parent\": \"9\"}, \"children\": [{\"attrib\": {\"token_idx\": \"22001\", \"word\": \"with\", \"dep_label\": \"case\", \"pos\": \"IN\", \"lemma\": \"with\", \"word_idx\": \"9\", \"dep_parent\": \"12\"}, \"children\": []}, {\"attrib\": {\"token_idx\": \"22006\", \"word\": \"GTPase\", \"dep_label\": \"compound\", \"pos\": \"NN\", \"lemma\": \"gtpase\", \"word_idx\": \"10\", \"dep_parent\": \"12\"}, \"children\": []}, {\"attrib\": {\"token_idx\": \"22021\", \"word\": \",\", \"dep_label\": \"punct\", \"pos\": \",\", \"lemma\": \",\", \"word_idx\": \"12\", \"dep_parent\": \"12\"}, \"children\": []}, {\"attrib\": {\"token_idx\": \"22075\", \"word\": \"shown\", \"dep_label\": \"acl:relcl\", \"pos\": \"VBN\", \"lemma\": \"show\", \"word_idx\": \"22\", \"dep_parent\": \"12\"}, \"children\": [{\"attrib\": {\"token_idx\": \"22023\", \"word\": \"where\", \"dep_label\": \"advmod\", \"pos\": \"WRB\", \"lemma\": \"where\", \"word_idx\": \"13\", \"dep_parent\": \"23\"}, \"children\": []}, {\"attrib\": {\"token_idx\": \"22033\", \"word\": \"deletion\", \"dep_label\": \"nsubjpass\", \"pos\": \"NN\", \"lemma\": \"deletion\", \"word_idx\": \"15\", \"dep_parent\": \"23\"}, \"children\": [{\"attrib\": {\"token_idx\": \"22029\", \"word\": \"the\", \"dep_label\": \"det\", \"pos\": \"DT\", \"lemma\": \"the\", \"word_idx\": \"14\", \"dep_parent\": \"16\"}, \"children\": []}, {\"attrib\": {\"token_idx\": \"22059\", \"word\": \"Lys362\", \"dep_label\": \"nmod\", \"pos\": \"NN\", \"lemma\": \"lys362\", \"word_idx\": \"19\", \"dep_parent\": \"16\"}, \"children\": [{\"attrib\": {\"token_idx\": \"22042\", \"word\": \"of\", \"dep_label\": \"case\", \"pos\": \"IN\", \"lemma\": \"of\", \"word_idx\": \"16\", \"dep_parent\": \"20\"}, \"children\": []}, {\"attrib\": {\"token_idx\": \"22045\", \"word\": \"the\", \"dep_label\": \"det\", \"pos\": \"DT\", \"lemma\": \"the\", \"word_idx\": \"17\", \"dep_parent\": \"20\"}, \"children\": []}, {\"attrib\": {\"token_idx\": \"22049\", \"word\": \"conserved\", \"dep_label\": \"amod\", \"pos\": \"VBN\", \"lemma\": \"conserve\", \"word_idx\": \"18\", \"dep_parent\": \"20\"}, \"children\": []}]}]}, {\"attrib\": {\"token_idx\": \"22066\", \"word\": \"has\", \"dep_label\": \"aux\", \"pos\": \"VBZ\", \"lemma\": \"have\", \"word_idx\": \"20\", \"dep_parent\": \"23\"}, \"children\": []}, {\"attrib\": {\"token_idx\": \"22070\", \"word\": \"been\", \"dep_label\": \"auxpass\", \"pos\": \"VBN\", \"lemma\": \"be\", \"word_idx\": \"21\", \"dep_parent\": \"23\"}, \"children\": []}, {\"attrib\": {\"token_idx\": \"22084\", \"word\": \"modify\", \"dep_label\": \"xcomp\", \"pos\": \"VB\", \"lemma\": \"modify\", \"word_idx\": \"24\", \"dep_parent\": \"23\"}, \"children\": [{\"attrib\": {\"token_idx\": \"22081\", \"word\": \"to\", \"dep_label\": \"mark\", \"pos\": \"TO\", \"lemma\": \"to\", \"word_idx\": \"23\", \"dep_parent\": \"25\"}, \"children\": []}, {\"attrib\": {\"token_idx\": \"22095\", \"word\": \"localization\", \"dep_label\": \"dobj\", \"pos\": \"NN\", \"lemma\": \"localization\", \"word_idx\": \"26\", \"dep_parent\": \"25\"}, \"children\": [{\"attrib\": {\"token_idx\": \"22091\", \"word\": \"the\", \"dep_label\": \"det\", \"pos\": \"DT\", \"lemma\": \"the\", \"word_idx\": \"25\", \"dep_parent\": \"27\"}, \"children\": []}, {\"attrib\": {\"token_idx\": \"22115\", \"word\": \"_\", \"dep_label\": \"nmod\", \"pos\": \"NN\", \"lemma\": \"_\", \"word_idx\": \"30\", \"dep_parent\": \"27\"}, \"children\": [{\"attrib\": {\"token_idx\": \"22108\", \"word\": \"of\", \"dep_label\": \"case\", \"pos\": \"IN\", \"lemma\": \"of\", \"word_idx\": \"27\", \"dep_parent\": \"31\"}, \"children\": []}, {\"attrib\": {\"token_idx\": \"22111\", \"word\": \"_\", \"dep_label\": \"nummod\", \"pos\": \"CD\", \"lemma\": \"_\", \"word_idx\": \"28\", \"dep_parent\": \"31\"}, \"children\": []}, {\"attrib\": {\"token_idx\": \"22112\", \"word\": \"FZL\", \"dep_label\": \"compound\", \"pos\": \"NN\", \"lemma\": \"fzl\", \"word_idx\": \"29\", \"dep_parent\": \"31\"}, \"children\": []}]}]}]}]}, {\"attrib\": {\"token_idx\": \"22116\", \"word\": \",\", \"dep_label\": \"punct\", \"pos\": \",\", \"lemma\": \",\", \"word_idx\": \"31\", \"dep_parent\": \"12\"}, \"children\": []}]}, {\"attrib\": {\"token_idx\": \"22138\", \"word\": \"loss\", \"dep_label\": \"nmod\", \"pos\": \"NN\", \"lemma\": \"loss\", \"word_idx\": \"35\", \"dep_parent\": \"9\"}, \"children\": [{\"attrib\": {\"token_idx\": \"22118\", \"word\": \"with\", \"dep_label\": \"case\", \"pos\": \"IN\", \"lemma\": \"with\", \"word_idx\": \"32\", \"dep_parent\": \"36\"}, \"children\": []}, {\"attrib\": {\"token_idx\": \"22123\", \"word\": \"the\", \"dep_label\": \"det\", \"pos\": \"DT\", \"lemma\": \"the\", \"word_idx\": \"33\", \"dep_parent\": \"36\"}, \"children\": []}, {\"attrib\": {\"token_idx\": \"22127\", \"word\": \"consequent\", \"dep_label\": \"amod\", \"pos\": \"JJ\", \"lemma\": \"consequent\", \"word_idx\": \"34\", \"dep_parent\": \"36\"}, \"children\": []}, {\"attrib\": {\"token_idx\": \"22146\", \"word\": \"function\", \"dep_label\": \"nmod\", \"pos\": \"NN\", \"lemma\": \"function\", \"word_idx\": \"37\", \"dep_parent\": \"36\"}, \"children\": [{\"attrib\": {\"token_idx\": \"22143\", \"word\": \"of\", \"dep_label\": \"case\", \"pos\": \"IN\", \"lemma\": \"of\", \"word_idx\": \"36\", \"dep_parent\": \"38\"}, \"children\": []}, {\"attrib\": {\"token_idx\": \"22166\", \"word\": \"protein\", \"dep_label\": \"nmod\", \"pos\": \"NN\", \"lemma\": \"protein\", \"word_idx\": \"41\", \"dep_parent\": \"38\"}, \"children\": [{\"attrib\": {\"token_idx\": \"22155\", \"word\": \"of\", \"dep_label\": \"case\", \"pos\": \"IN\", \"lemma\": \"of\", \"word_idx\": \"38\", \"dep_parent\": \"42\"}, \"children\": []}, {\"attrib\": {\"token_idx\": \"22158\", \"word\": \"the\", \"dep_label\": \"det\", \"pos\": \"DT\", \"lemma\": \"the\", \"word_idx\": \"39\", \"dep_parent\": \"42\"}, \"children\": []}, {\"attrib\": {\"token_idx\": \"22162\", \"word\": \"FZL\", \"dep_label\": \"compound\", \"pos\": \"NN\", \"lemma\": \"fzl\", \"word_idx\": \"40\", \"dep_parent\": \"42\"}, \"children\": []}, {\"attrib\": {\"token_idx\": \"22178\", \"word\": \"therefore\", \"dep_label\": \"dep\", \"pos\": \"RB\", \"lemma\": \"therefore\", \"word_idx\": \"45\", \"dep_parent\": \"42\"}, \"children\": [{\"attrib\": {\"token_idx\": \"22174\", \"word\": \"-LRB-\", \"dep_label\": \"punct\", \"pos\": \"-LRB-\", \"lemma\": \"-lrb-\", \"word_idx\": \"42\", \"dep_parent\": \"46\"}, \"children\": []}, {\"attrib\": {\"token_idx\": \"22175\", \"word\": \"-RRB-\", \"dep_label\": \"punct\", \"pos\": \"-RRB-\", \"lemma\": \"-rrb-\", \"word_idx\": \"43\", \"dep_parent\": \"46\"}, \"children\": []}, {\"attrib\": {\"token_idx\": \"22176\", \"word\": \";\", \"dep_label\": \"punct\", \"pos\": \":\", \"lemma\": \";\", \"word_idx\": \"44\", \"dep_parent\": \"46\"}, \"children\": []}, {\"attrib\": {\"token_idx\": \"22187\", \"word\": \",\", \"dep_label\": \"punct\", \"pos\": \",\", \"lemma\": \",\", \"word_idx\": \"46\", \"dep_parent\": \"46\"}, \"children\": []}, {\"attrib\": {\"token_idx\": \"22203\", \"word\": \"alteration\", \"dep_label\": \"dep\", \"pos\": \"NN\", \"lemma\": \"alteration\", \"word_idx\": \"49\", \"dep_parent\": \"46\"}, \"children\": [{\"attrib\": {\"token_idx\": \"22189\", \"word\": \"the\", \"dep_label\": \"det\", \"pos\": \"DT\", \"lemma\": \"the\", \"word_idx\": \"47\", \"dep_parent\": \"50\"}, \"children\": []}, {\"attrib\": {\"token_idx\": \"22193\", \"word\": \"molecular\", \"dep_label\": \"amod\", \"pos\": \"JJ\", \"lemma\": \"molecular\", \"word_idx\": \"48\", \"dep_parent\": \"50\"}, \"children\": []}, {\"attrib\": {\"token_idx\": \"22214\", \"word\": \"found\", \"dep_label\": \"acl\", \"pos\": \"VBN\", \"lemma\": \"find\", \"word_idx\": \"50\", \"dep_parent\": \"50\"}, \"children\": [{\"attrib\": {\"token_idx\": \"22228\", \"word\": \"fzl\", \"dep_label\": \"nmod\", \"pos\": \"NN\", \"lemma\": \"fzl\", \"word_idx\": \"54\", \"dep_parent\": \"51\"}, \"children\": [{\"attrib\": {\"token_idx\": \"22220\", \"word\": \"in\", \"dep_label\": \"case\", \"pos\": \"IN\", \"lemma\": \"in\", \"word_idx\": \"51\", \"dep_parent\": \"55\"}, \"children\": []}, {\"attrib\": {\"token_idx\": \"22223\", \"word\": \"the\", \"dep_label\": \"det\", \"pos\": \"DT\", \"lemma\": \"the\", \"word_idx\": \"52\", \"dep_parent\": \"55\"}, \"children\": []}, {\"attrib\": {\"token_idx\": \"22227\", \"word\": \"_\", \"dep_label\": \"compound\", \"pos\": \"NN\", \"lemma\": \"_\", \"word_idx\": \"53\", \"dep_parent\": \"55\"}, \"children\": []}, {\"attrib\": {\"token_idx\": \"22231\", \"word\": \"-\", \"dep_label\": \"punct\", \"pos\": \":\", \"lemma\": \"-\", \"word_idx\": \"55\", \"dep_parent\": \"55\"}, \"children\": []}, {\"attrib\": {\"token_idx\": \"22249\", \"word\": \"compatible\", \"dep_label\": \"dep\", \"pos\": \"JJ\", \"lemma\": \"compatible\", \"word_idx\": \"61\", \"dep_parent\": \"55\"}, \"children\": [{\"attrib\": {\"token_idx\": \"22239\", \"word\": \"mutant\", \"dep_label\": \"nsubj\", \"pos\": \"NN\", \"lemma\": \"mutant\", \"word_idx\": \"59\", \"dep_parent\": \"62\"}, \"children\": [{\"attrib\": {\"token_idx\": \"22232\", \"word\": \"_\", \"dep_label\": \"nummod\", \"pos\": \"CD\", \"lemma\": \"_\", \"word_idx\": \"56\", \"dep_parent\": \"60\"}, \"children\": []}, {\"attrib\": {\"token_idx\": \"22233\", \"word\": \"L_er\", \"dep_label\": \"compound\", \"pos\": \"NN\", \"lemma\": \"l_er\", \"word_idx\": \"57\", \"dep_parent\": \"60\"}, \"children\": []}, {\"attrib\": {\"token_idx\": \"22237\", \"word\": \"_\", \"dep_label\": \"compound\", \"pos\": \"NN\", \"lemma\": \"_\", \"word_idx\": \"58\", \"dep_parent\": \"60\"}, \"children\": []}]}, {\"attrib\": {\"token_idx\": \"22246\", \"word\": \"is\", \"dep_label\": \"cop\", \"pos\": \"VBZ\", \"lemma\": \"be\", \"word_idx\": \"60\", \"dep_parent\": \"62\"}, \"children\": []}, {\"attrib\": {\"token_idx\": \"22276\", \"word\": \"phenotype\", \"dep_label\": \"nmod\", \"pos\": \"NN\", \"lemma\": \"phenotype\", \"word_idx\": \"65\", \"dep_parent\": \"62\"}, \"children\": [{\"attrib\": {\"token_idx\": \"22260\", \"word\": \"with\", \"dep_label\": \"case\", \"pos\": \"IN\", \"lemma\": \"with\", \"word_idx\": \"62\", \"dep_parent\": \"66\"}, \"children\": []}, {\"attrib\": {\"token_idx\": \"22265\", \"word\": \"the\", \"dep_label\": \"det\", \"pos\": \"DT\", \"lemma\": \"the\", \"word_idx\": \"63\", \"dep_parent\": \"66\"}, \"children\": []}, {\"attrib\": {\"token_idx\": \"22269\", \"word\": \"severe\", \"dep_label\": \"amod\", \"pos\": \"JJ\", \"lemma\": \"severe\", \"word_idx\": \"64\", \"dep_parent\": \"66\"}, \"children\": []}, {\"attrib\": {\"token_idx\": \"22286\", \"word\": \"observed\", \"dep_label\": \"acl\", \"pos\": \"VBN\", \"lemma\": \"observe\", \"word_idx\": \"66\", \"dep_parent\": \"66\"}, \"children\": []}]}]}]}]}]}]}]}]}]}]}, {\"attrib\": {\"token_idx\": \"22294\", \"word\": \".\", \"dep_label\": \"punct\", \"pos\": \".\", \"lemma\": \".\", \"word_idx\": \"67\", \"dep_parent\": \"5\"}, \"children\": []}]};\n",
       "var highlightIdxs = [[29], [64]];\n",
       "\n",
       "// Highlight words / nodes\n",
       "var COLORS = [\"#ff5c33\", \"#ffcc00\", \"#33cc33\", \"#3399ff\"];\n",
       "function highlightWords() {\n",
       "  for (var i=0; i < highlightIdxs.length; i++) {\n",
       "    var c = COLORS[i];\n",
       "    var idxs = highlightIdxs[i];\n",
       "    for (var j=0; j < idxs.length; j++) {\n",
       "      d3.selectAll(\".word-\"+chartId+\"-\"+idxs[j]).style(\"stroke\", c).style(\"background\", c);\n",
       "    }\n",
       "  }\n",
       "}\n",
       "\n",
       "// Constants\n",
       "var margin = {top: 20, right: 20, bottom: 20, left: 20},\n",
       "width = 800 - margin.left - margin.right,\n",
       "height = 350 - margin.top - margin.bottom,\n",
       "R = 5;\n",
       "\n",
       "// Create the d3 tree object\n",
       "var tree = d3.layout.tree()\n",
       "  .size([width, height]);\n",
       "\n",
       "// Create the svg canvas\n",
       "var svg = d3.select(\"#tree-chart-\" + chartId)\n",
       "  .append(\"svg\")\n",
       "  .attr(\"width\", width + margin.left + margin.right)\n",
       "  .attr(\"height\", height + margin.top + margin.bottom)\n",
       "  .append(\"g\")\n",
       "  .attr(\"transform\", \"translate(\" + margin.left + \",\" + margin.top + \")\");\n",
       "\n",
       "function renderTree() {\n",
       "  var nodes = tree.nodes(root),\n",
       "  edges = tree.links(nodes);\n",
       "\n",
       "  // Place the nodes\n",
       "  var nodeGroups = svg.selectAll(\"g.node\")\n",
       "    .data(nodes)\n",
       "    .enter().append(\"g\")\n",
       "    .attr(\"class\", \"node\")\n",
       "    .attr(\"transform\", function(d) { return \"translate(\" + d.x + \",\" + d.y + \")\"; });\n",
       "       \n",
       "  // Append circles\n",
       "  nodeGroups.append(\"circle\")\n",
       "    //.on(\"click\", function() {\n",
       "    //  d3.select(this).classed(\"highlight\", !d3.select(this).classed(\"highlight\")); })\n",
       "    .attr(\"r\", R)\n",
       "    .attr(\"class\", function(d) { return \"word-\"+chartId+\"-\"+d.attrib.word_idx; });\n",
       "     \n",
       "  // Append the actual word\n",
       "  nodeGroups.append(\"text\")\n",
       "    .text(function(d) { return d.attrib.word; })\n",
       "    .attr(\"text-anchor\", function(d) { \n",
       "      return d.children && d.children.length > 0 ? \"start\" : \"middle\"; })\n",
       "    .attr(\"dx\", function(d) { \n",
       "      return d.children && d.children.length > 0 ? R + 3 : 0; })\n",
       "    .attr(\"dy\", function(d) { \n",
       "      return d.children && d.children.length > 0 ? 0 : 3*R + 3; });\n",
       "\n",
       "  // Place the edges\n",
       "  var edgePaths = svg.selectAll(\"path\")\n",
       "    .data(edges)\n",
       "    .enter().append(\"path\")\n",
       "    .attr(\"class\", \"edge\")\n",
       "    .on(\"click\", function() {\n",
       "      d3.select(this).classed(\"highlight\", !d3.select(this).classed(\"highlight\")); })\n",
       "    .attr(\"d\", d3.svg.diagonal());\n",
       "}\n",
       "\n",
       "renderTree();\n",
       "highlightWords();\n",
       "});\n"
      ]
     },
     "metadata": {},
     "output_type": "display_data"
    }
   ],
   "source": [
    "count=0\n",
    "for relation in R:\n",
    "    if 'loss' in relation.words:\n",
    "        count+=1\n",
    "        if count <10:\n",
    "            relation.render()"
   ]
  },
  {
   "cell_type": "code",
   "execution_count": 140,
   "metadata": {
    "collapsed": false
   },
   "outputs": [],
   "source": [
    "#Here, idx_mention refers to 0 or 1, whether we consider the gene or phenotype\n",
    "def post_window(r, idx_mention, key, n=3):\n",
    "    s = list(r.all_idxs[idx_mention])\n",
    "    b = len(r.lemmas) - np.max(s)\n",
    "    s.extend([np.max(s) + i for i in range(1, min(b,n+1))])\n",
    "    return key in [r.lemmas[i] for i in s]\n",
    "def pre_window (r, idx_mention, key, n=3):\n",
    "    s = list(r.all_idxs[idx_mention])\n",
    "    b = np.min(s)\n",
    "    s.extend([b - i for i in range(1, min(b,n+1))])\n",
    "    return key in [r.lemmas[i] for i in s]\n",
    "def stopper(r, idx_mention, stop):\n",
    "    return stop in [r.lemmas[i] for i in r.all_idxs[idx_mention]]\n",
    "\n",
    "#If the word mutation is before gene:\n",
    "def LF_mutation_gene_t(r):\n",
    "    if 'mutation' in [r.lemmas[r.dep_parents[i]-1] for i in r.all_idxs[0]]:\n",
    "        return 1\n",
    "    else:\n",
    "        if 'mutant' in [r.lemmas[r.dep_parents[i]-1] for i in r.all_idxs[0]]:\n",
    "            return 1\n",
    "        else:\n",
    "            return 0\n",
    "#If the word mutation is before pheno:\n",
    "def LF_mutation_pheno_t(r):\n",
    "    if 'mutation' in [r.lemmas[r.dep_parents[i]-1] for i in r.all_idxs[1]]:\n",
    "        return 1\n",
    "    else:\n",
    "        if 'mutant' in [r.lemmas[r.dep_parents[i]-1] for i in r.all_idxs[1]]:\n",
    "            return 1\n",
    "        else:\n",
    "            return 0\n",
    "#If phenotype just before gene, certainly wrong\n",
    "def LF_pheno_before_gene_f(r):\n",
    "    res=False\n",
    "    for i in r.all_idxs[1]:\n",
    "        if pre_window(r, 0, r.words[i], n=1):\n",
    "            res=True\n",
    "    if res:\n",
    "        return -1\n",
    "    else:\n",
    "        return 0\n",
    "#If phenotype is only a verb, likely to be false\n",
    "def LF_pheno_only_verb_f(r):\n",
    "    if len(r.all_idxs[1])==1 and r.poses[r.all_idxs[1][0]][0:2] == 'VB':\n",
    "        return -1\n",
    "    else:\n",
    "        return 0\n",
    "#if phenotype only one word, likely to be false (except lethal)\n",
    "def LF_pheno_only_one_word_f(r):\n",
    "    if len(r.all_idxs[1])==1 and r.lemmas[r.all_idxs[1][0]] != 'lethal':\n",
    "        return -1\n",
    "    else:\n",
    "        return 0\n",
    "#if gene and phenotype have words in common, very likely to be false\n",
    "def LF_gene_pheno_words_in_common_f(r):\n",
    "    if len([val for val in r.all_idxs[0] if val in r.all_idxs[1]]) >0:\n",
    "        return -1\n",
    "    else:\n",
    "        return 0\n",
    "#if gfp at the end of a gene, likely to be false\n",
    "def LF_gene_ends_in_gfp_f(r):\n",
    "    if len(r.all_idxs[0])==1 and len(r.mention1()[0]) >2 and r.mention1()[0][-3:].lower() == 'gfp':\n",
    "        return -1\n",
    "    else:\n",
    "        return 0\n",
    "#If double mutant around the gene name, more likely true:\n",
    "def LF_double_mutant_gene_t(r):\n",
    "    if (post_window(r, 0, 'double', 3) and post_window(r, 0, 'mutant', 3)) or (pre_window(r, 0, 'double', 3) and pre_window(r, 0, 'mutant', 3)):\n",
    "        return 1\n",
    "    else:\n",
    "        return 0\n",
    "#If mutant around the gene name, more likely true:\n",
    "def LF_mutant_gene_t(r):\n",
    "    if post_window(r, 0, 'mutant', 3) or pre_window(r, 0, 'mutant', 3):\n",
    "        return 1\n",
    "    else:\n",
    "        return 0\n",
    "#'In WT' is generally not a phenotype\n",
    "def LF_in_WT_pheno_f(r):\n",
    "    if len(r.all_idxs[1])==1 and r.words[r.all_idxs[1][0]] == 'WT' and pre_window(r,1, 'in', 1):\n",
    "        return -1\n",
    "    else:\n",
    "        return 0\n",
    "#If the sentence mentions \"loss of [GENE]\n",
    "def LF_loss_of_gene_t(r):\n",
    "    if 'loss' in [r.lemmas[r.dep_parents[i]-1] for i in r.all_idxs[0]]:\n",
    "        return 1\n",
    "    if post_window(r, 0, 'loss', 3) or pre_window(r, 0, 'loss', 3):\n",
    "        return 1\n",
    "    else:\n",
    "        return 0    \n",
    "#if the word 'defect' is around the gene\n",
    "def LF_defect_of_gene_t(r):\n",
    "    if 'defect' in [r.lemmas[r.dep_parents[i]-1] for i in r.all_idxs[0]]:\n",
    "        return 1\n",
    "    if post_window(r, 0, 'defect', 3) or pre_window(r, 0, 'defect', 3):\n",
    "        return 1\n",
    "    else:\n",
    "        return 0  \n"
   ]
  },
  {
   "cell_type": "code",
   "execution_count": 141,
   "metadata": {
    "collapsed": false
   },
   "outputs": [],
   "source": [
    "LFs= [LF_mutation_gene_t, LF_mutation_pheno_t, LF_pheno_before_gene_f, LF_pheno_only_verb_f, LF_pheno_only_one_word_f, LF_gene_pheno_words_in_common_f, LF_gene_ends_in_gfp_f, LF_double_mutant_gene_t, LF_mutant_gene_t, LF_in_WT_pheno_f, LF_loss_of_gene_t, LF_defect_of_gene_t]\n",
    "DDL.apply_lfs(LFs, clear=True)"
   ]
  },
  {
   "cell_type": "markdown",
   "metadata": {
    "collapsed": true
   },
   "source": [
    "### More analysis on the labeling functions"
   ]
  },
  {
   "cell_type": "code",
   "execution_count": 142,
   "metadata": {
    "collapsed": false
   },
   "outputs": [
    {
     "name": "stdout",
     "output_type": "stream",
     "text": [
      "LF stats on training set\n",
      "Coverage:\t83.012%\n",
      "Overlap:\t17.579%\n",
      "Conflict:\t9.535%\n"
     ]
    }
   ],
   "source": [
    "DDL.print_lf_stats()"
   ]
  },
  {
   "cell_type": "code",
   "execution_count": 143,
   "metadata": {
    "collapsed": false
   },
   "outputs": [
    {
     "data": {
      "image/png": "[encoded data removed]",
      "text/plain": [
       "<matplotlib.figure.Figure at 0x13d030110>"
      ]
     },
     "metadata": {},
     "output_type": "display_data"
    }
   ],
   "source": [
    "%matplotlib inline\n",
    "DDL.plot_lf_stats()"
   ]
  },
  {
   "cell_type": "code",
   "execution_count": 144,
   "metadata": {
    "collapsed": false
   },
   "outputs": [
    {
     "data": {
      "text/html": [
       "<table><tr><td><b>Labeling function</b></td><td><b>Percent candidates where LF has conflict</b></td></tr><tr><td>LF_pheno_only_one_word_f</td><td>9.38%</td></tr><tr><td>LF_mutant_gene_t</td><td>7.02%</td></tr><tr><td>LF_mutation_gene_t</td><td>6.40%</td></tr></table>"
      ],
      "text/plain": [
       "DictTable([('LF_pheno_only_one_word_f', ['9.38%']),\n",
       "           ('LF_mutant_gene_t', ['7.02%']),\n",
       "           ('LF_mutation_gene_t', ['6.40%']),\n",
       "           ('LF_mutation_pheno_t', ['1.16%']),\n",
       "           ('LF_double_mutant_gene_t', ['0.59%']),\n",
       "           ('LF_gene_pheno_words_in_common_f', ['0.51%']),\n",
       "           ('LF_loss_of_gene_t', ['0.44%']),\n",
       "           ('LF_pheno_before_gene_f', ['0.39%']),\n",
       "           ('LF_defect_of_gene_t', ['0.28%']),\n",
       "           ('LF_pheno_only_verb_f', ['0.10%']),\n",
       "           ('LF_gene_ends_in_gfp_f', ['0.00%']),\n",
       "           ('LF_in_WT_pheno_f', ['0.00%'])])"
      ]
     },
     "execution_count": 144,
     "metadata": {},
     "output_type": "execute_result"
    }
   ],
   "source": [
    "DDL.top_conflict_lfs(n=3)"
   ]
  },
  {
   "cell_type": "code",
   "execution_count": 145,
   "metadata": {
    "collapsed": false
   },
   "outputs": [
    {
     "data": {
      "text/html": [
       "<table><tr><td><b>Labeling function</b></td><td><b>Candidate coverage</b></td></tr><tr><td>LF_gene_ends_in_gfp_f</td><td>0.00%</td></tr><tr><td>LF_in_WT_pheno_f</td><td>0.00%</td></tr><tr><td>LF_defect_of_gene_t</td><td>0.33%</td></tr><tr><td>LF_loss_of_gene_t</td><td>0.64%</td></tr><tr><td>LF_double_mutant_gene_t</td><td>0.93%</td></tr><tr><td>LF_pheno_only_verb_f</td><td>1.26%</td></tr><tr><td>LF_mutation_pheno_t</td><td>1.70%</td></tr><tr><td>LF_mutant_gene_t</td><td>10.54%</td></tr><tr><td>LF_pheno_before_gene_f</td><td>3.57%</td></tr><tr><td>LF_gene_pheno_words_in_common_f</td><td>3.78%</td></tr><tr><td>LF_pheno_only_one_word_f</td><td>77.31%</td></tr><tr><td>LF_mutation_gene_t</td><td>9.64%</td></tr></table>"
      ],
      "text/plain": [
       "DictTable([('LF_gene_ends_in_gfp_f', ['0.00%']),\n",
       "           ('LF_in_WT_pheno_f', ['0.00%']),\n",
       "           ('LF_defect_of_gene_t', ['0.33%']),\n",
       "           ('LF_loss_of_gene_t', ['0.64%']),\n",
       "           ('LF_double_mutant_gene_t', ['0.93%']),\n",
       "           ('LF_pheno_only_verb_f', ['1.26%']),\n",
       "           ('LF_mutation_pheno_t', ['1.70%']),\n",
       "           ('LF_mutant_gene_t', ['10.54%']),\n",
       "           ('LF_pheno_before_gene_f', ['3.57%']),\n",
       "           ('LF_gene_pheno_words_in_common_f', ['3.78%']),\n",
       "           ('LF_pheno_only_one_word_f', ['77.31%']),\n",
       "           ('LF_mutation_gene_t', ['9.64%'])])"
      ]
     },
     "execution_count": 145,
     "metadata": {},
     "output_type": "execute_result"
    }
   ],
   "source": [
    "DDL.lowest_coverage_lfs(n=15)"
   ]
  },
  {
   "cell_type": "code",
   "execution_count": 146,
   "metadata": {
    "collapsed": false
   },
   "outputs": [
    {
     "name": "stdout",
     "output_type": "stream",
     "text": [
      "100% accuracy and 0 generalization score are \"perfect\"\n"
     ]
    },
    {
     "name": "stderr",
     "output_type": "stream",
     "text": [
      "../ddlite.py:562: UserWarning: Dev sets are too small for reliable estimates\n",
      "  warnings.warn(\"Dev sets are too small for reliable estimates\")\n"
     ]
    },
    {
     "data": {
      "text/html": [
       "<table style=\"margin-right: 1%;float: left\"><tr><td><b>Labeling function</b></td><td><b>Positive accuracy</b></td><td><b>Gen. score</b></td></tr><tr><td>LF_mutation_gene_t</td><td>0.00% (n=0)</td><td>0.00 (n=0)</td></tr><tr><td>LF_mutant_gene_t</td><td>0.00% (n=0)</td><td>0.00 (n=0)</td></tr><tr><td>LF_defect_of_gene_t</td><td>0.00% (n=0)</td><td>0.00 (n=0)</td></tr><tr><td>LF_loss_of_gene_t</td><td>0.00% (n=0)</td><td>0.00 (n=0)</td></tr><tr><td>LF_mutation_pheno_t</td><td>0.00% (n=0)</td><td>0.00 (n=0)</td></tr><tr><td>LF_double_mutant_gene_t</td><td>0.00% (n=0)</td><td>0.00 (n=0)</td></tr></table><table style=\"float: left\"><tr><td><b>Labeling function</b></td><td><b>Negative accuracy</b></td><td><b>Gen. score</b></td></tr><tr><td>LF_pheno_before_gene_f</td><td>0.00% (n=0)</td><td>0.00 (n=0)</td></tr><tr><td>LF_gene_pheno_words_in_common_f</td><td>0.00% (n=0)</td><td>0.00 (n=0)</td></tr><tr><td>LF_pheno_only_verb_f</td><td>0.00% (n=0)</td><td>0.00 (n=0)</td></tr><tr><td>LF_pheno_only_one_word_f</td><td>0.00% (n=0)</td><td>0.00 (n=0)</td></tr></table>"
      ],
      "text/plain": [
       "<ddlite.SideTables instance at 0x13cc609e0>"
      ]
     },
     "execution_count": 146,
     "metadata": {},
     "output_type": "execute_result"
    }
   ],
   "source": [
    "DDL.lowest_empirical_accuracy_lfs(n=10)"
   ]
  },
  {
   "cell_type": "code",
   "execution_count": 147,
   "metadata": {
    "collapsed": false
   },
   "outputs": [
    {
     "ename": "TypeError",
     "evalue": "get_labeled_ground_truth() got an unexpected keyword argument 'gt'",
     "output_type": "error",
     "traceback": [
      "\u001b[0;31m---------------------------------------------------------------------------\u001b[0m",
      "\u001b[0;31mTypeError\u001b[0m                                 Traceback (most recent call last)",
      "\u001b[0;32m<ipython-input-147-c5088223dc59>\u001b[0m in \u001b[0;36m<module>\u001b[0;34m()\u001b[0m\n\u001b[1;32m      1\u001b[0m \u001b[0;31m#Let's have a look at the labeled elements:\u001b[0m\u001b[0;34m\u001b[0m\u001b[0;34m\u001b[0m\u001b[0m\n\u001b[0;32m----> 2\u001b[0;31m \u001b[0mDDL\u001b[0m\u001b[0;34m.\u001b[0m\u001b[0mget_labeled_ground_truth\u001b[0m\u001b[0;34m(\u001b[0m\u001b[0mgt\u001b[0m\u001b[0;34m=\u001b[0m\u001b[0;34m'resolve'\u001b[0m\u001b[0;34m,\u001b[0m \u001b[0msubset\u001b[0m\u001b[0;34m=\u001b[0m\u001b[0mNone\u001b[0m\u001b[0;34m)\u001b[0m\u001b[0;34m\u001b[0m\u001b[0m\n\u001b[0m",
      "\u001b[0;31mTypeError\u001b[0m: get_labeled_ground_truth() got an unexpected keyword argument 'gt'"
     ]
    }
   ],
   "source": [
    "#Let's have a look at the labeled elements:\n",
    "DDL.get_labeled_ground_truth(gt='resolve', subset=None)"
   ]
  },
  {
   "cell_type": "code",
   "execution_count": null,
   "metadata": {
    "collapsed": false
   },
   "outputs": [],
   "source": [
    "print DDL.lf_matrix"
   ]
  },
  {
   "cell_type": "code",
   "execution_count": null,
   "metadata": {
    "collapsed": false
   },
   "outputs": [],
   "source": [
    "DDL.C[16]"
   ]
  },
  {
   "cell_type": "markdown",
   "metadata": {},
   "source": [
    "# Learning"
   ]
  },
  {
   "cell_type": "code",
   "execution_count": null,
   "metadata": {
    "collapsed": false
   },
   "outputs": [],
   "source": [
    "matplotlib.rcParams['figure.figsize'] = (12,4)\n",
    "#Try with bias=True, error currently for some reasons\n",
    "%time DDL.learn_weights(sample=False, maxIter=1000, alpha=0, bias=False, verbose=True, log=True, mu=1e-6)"
   ]
  },
  {
   "cell_type": "code",
   "execution_count": null,
   "metadata": {
    "collapsed": false
   },
   "outputs": [],
   "source": [
    "%matplotlib inline\n",
    "DDL.plot_calibration()"
   ]
  },
  {
   "cell_type": "code",
   "execution_count": null,
   "metadata": {
    "collapsed": false
   },
   "outputs": [],
   "source": [
    "DDL.lf_matrix"
   ]
  },
  {
   "cell_type": "markdown",
   "metadata": {},
   "source": [
    "# Iterating with labeling functions"
   ]
  },
  {
   "cell_type": "code",
   "execution_count": null,
   "metadata": {
    "collapsed": false
   },
   "outputs": [],
   "source": [
    "DDL.show_log()"
   ]
  },
  {
   "cell_type": "code",
   "execution_count": null,
   "metadata": {
    "collapsed": false,
    "scrolled": false
   },
   "outputs": [],
   "source": [
    "# DDL.open_mindtagger(width='100%', height=1200)\n",
    "DDL.open_mindtagger(num_sample=200, width='100%', height=1200)"
   ]
  },
  {
   "cell_type": "code",
   "execution_count": null,
   "metadata": {
    "collapsed": false
   },
   "outputs": [],
   "source": [
    "#ext_id are available from mindtag, we can write quick functions to extract:\n",
    "#- all candidates in this sentence (from sent_id, match in R)\n",
    "#- all label functions, from label matrix\n",
    "R[1020].render()"
   ]
  },
  {
   "cell_type": "markdown",
   "metadata": {},
   "source": [
    "# Attempt with Multi Sentences"
   ]
  },
  {
   "cell_type": "markdown",
   "metadata": {},
   "source": [
    "Here we concatenante 2 sentences in a same document, then export all the relations from this new dataset and keep only the candidates that have a \".\" between them."
   ]
  },
  {
   "cell_type": "code",
   "execution_count": null,
   "metadata": {
    "collapsed": false
   },
   "outputs": [],
   "source": [
    "#Function to merge two dependencies path, just a prototype currently, many different possible\n",
    "#In this function, the \".\" between the two sentences is placed as the root and the sentences are attached below\n",
    "def merge_dependency_paths(dep_parent1, dep_parent2):\n",
    "    res_dep_parents = dep_parent1+dep_parent2\n",
    "    idx_root_sent1=-1\n",
    "    for i in range(len(dep_parent1)):\n",
    "        if dep_parent1[i]==0:\n",
    "            idx_root_sent1=i\n",
    "            break\n",
    "    idx_root_sent2=-1\n",
    "    for i in range(len(dep_parent2)):\n",
    "        if dep_parent2[i]==0:\n",
    "            idx_root_sent2=i\n",
    "        res_dep_parents[len(dep_parent1)+i]=dep_parent2[i]+len(dep_parent1)\n",
    "    #Setting the \".\" between the two sentences as the root\n",
    "    res_dep_parents[len(dep_parent1)-1]=0\n",
    "    #Connecting the two previous roots this new root\n",
    "    res_dep_parents[idx_root_sent1]=len(dep_parent1)\n",
    "    res_dep_parents[idx_root_sent2+len(dep_parent1)]=len(dep_parent1)\n",
    "    return res_dep_parents\n",
    "\n",
    "\n",
    "sents_multi = []\n",
    "for idx in range(len(sents)-1):\n",
    "    if sents[idx+1].doc_id == sents[idx].doc_id and sents[idx+1].sent_id == sents[idx].sent_id+1:\n",
    "        parts = defaultdict(list)\n",
    "        parts['words']=(sents[idx].words+sents[idx+1].words)\n",
    "        parts['lemmas']=(sents[idx].lemmas+sents[idx+1].lemmas)\n",
    "        parts['poses']=(sents[idx].poses+sents[idx+1].poses)\n",
    "        parts['token_idxs']=(sents[idx].token_idxs+sents[idx+1].token_idxs)\n",
    "        parts['dep_labels']=(sents[idx].dep_labels+sents[idx+1].dep_labels)\n",
    "        parts['sent_id']=(sents[idx].sent_id)\n",
    "        parts['doc_id']=(sents[idx].doc_id)\n",
    "        parts['text']=(sents[idx].text+' '+ sents[idx+1].text)\n",
    "        parts['dep_parents']=(merge_dependency_paths(sents[idx].dep_parents, sents[idx+1].dep_parents))\n",
    "        res_sent = Sentence(**parts)\n",
    "        sents_multi.append(res_sent)"
   ]
  },
  {
   "cell_type": "code",
   "execution_count": null,
   "metadata": {
    "collapsed": false
   },
   "outputs": [],
   "source": [
    "print sents[0].words + sents[1].words\n",
    "print ' '\n",
    "print sents_multi[0]"
   ]
  },
  {
   "cell_type": "code",
   "execution_count": null,
   "metadata": {
    "collapsed": false
   },
   "outputs": [],
   "source": [
    "R_multi = Relations(sents_multi, GM, PM)"
   ]
  },
  {
   "cell_type": "code",
   "execution_count": null,
   "metadata": {
    "collapsed": false,
    "scrolled": false
   },
   "outputs": [],
   "source": [
    "R_multi[10].render()\n",
    "# R[0].render()"
   ]
  },
  {
   "cell_type": "code",
   "execution_count": null,
   "metadata": {
    "collapsed": false
   },
   "outputs": [],
   "source": [
    "#Filtering and removing \n",
    "R_multi.num_feats()"
   ]
  },
  {
   "cell_type": "code",
   "execution_count": null,
   "metadata": {
    "collapsed": false
   },
   "outputs": [],
   "source": [
    "DDL_multi = DDLiteModel(R_multi)\n",
    "print \"Extracted {} features for each of {} mentions\".format(DDL_multi.num_feats(), DDL_multi.num_candidates())"
   ]
  },
  {
   "cell_type": "code",
   "execution_count": null,
   "metadata": {
    "collapsed": false
   },
   "outputs": [],
   "source": [
    "DDL.w"
   ]
  },
  {
   "cell_type": "code",
   "execution_count": null,
   "metadata": {
    "collapsed": true
   },
   "outputs": [],
   "source": []
  }
 ],
 "metadata": {
  "kernelspec": {
   "display_name": "Python 2",
   "language": "python",
   "name": "python2"
  },
  "language_info": {
   "codemirror_mode": {
    "name": "ipython",
    "version": 2
   },
   "file_extension": ".py",
   "mimetype": "text/x-python",
   "name": "python",
   "nbconvert_exporter": "python",
   "pygments_lexer": "ipython2",
   "version": "2.7.9"
  }
 },
 "nbformat": 4,
 "nbformat_minor": 0
}
