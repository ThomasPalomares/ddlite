{
 "cells": [
  {
   "cell_type": "code",
   "execution_count": 1,
   "metadata": {
    "collapsed": false
   },
   "outputs": [],
   "source": [
    "%load_ext autoreload\n",
    "%autoreload 2\n",
    "\n",
    "import cPickle, os, sys\n",
    "import random\n",
    "sys.path.insert(1, os.path.join(sys.path[0], '..'))\n",
    "\n",
    "from ddlite import *"
   ]
  },
  {
   "cell_type": "markdown",
   "metadata": {
    "collapsed": true
   },
   "source": [
    "# Importing documents"
   ]
  },
  {
   "cell_type": "code",
   "execution_count": 21,
   "metadata": {
    "collapsed": false
   },
   "outputs": [],
   "source": [
    "#Thomas data folder \n",
    "# DATA_FOLDER='/Users/thomaspalomares/Desktop/Stanford/RA/multisentences/data/'\n",
    "#Tanya data folder\n",
    "# DATA_FOLDER='/Users/tanyaberardini/Desktop/DeepDive/data/'\n",
    "DATA_FOLDER='arabidopsis_data/'"
   ]
  },
  {
   "cell_type": "code",
   "execution_count": 3,
   "metadata": {
    "collapsed": true
   },
   "outputs": [],
   "source": [
    "import json"
   ]
  },
  {
   "cell_type": "code",
   "execution_count": 4,
   "metadata": {
    "collapsed": false,
    "scrolled": true
   },
   "outputs": [],
   "source": [
    "# #To be modified to conserve correct doc_ids (in particular, write in different txt files)\n",
    "# nb_lines=0\n",
    "# nb_error_parsing=0\n",
    "# with open(DATA_FOLDER+'pmc/json/output_plant.json', 'rb') as json_file:\n",
    "#     with open(DATA_FOLDER+'pmc/text/output_plant.text', 'wb') as text_write:\n",
    "#         docs={}\n",
    "#         for line in json_file:\n",
    "#             nb_lines+=1\n",
    "#             doc_id_read=str(json.loads(line)['doc-id'].encode('utf-8').strip())\n",
    "# #             try:\n",
    "#             #Because this doc is too big\n",
    "#             if doc_id_read=='10.1093.jxb.eru198':\n",
    "#                 if random.random() <0.5:\n",
    "#                     doc_id_read += '_1'\n",
    "#                 else:\n",
    "#                     doc_id_read += '_2'\n",
    "#             if doc_id_read in docs:\n",
    "#                 docs[doc_id_read] += unicode(str(json.loads(line)['content'].encode('utf-8').strip()) + '.\\n', errors='ignore')\n",
    "#             else:\n",
    "#                 docs[doc_id_read] = unicode(str(json.loads(line)['content'].encode('utf-8').strip()) + '.\\n', errors='ignore')\n",
    "# #                 text_write.write(unicode(str(json.loads(line)['content'].encode('utf-8').strip()) + '.\\n', errors='ignore'))\n",
    "# #             except:\n",
    "# #                 nb_error_parsing +=1\n",
    "# #                 print \"error parsing\"\n",
    "# print nb_lines\n",
    "# print nb_error_parsing"
   ]
  },
  {
   "cell_type": "code",
   "execution_count": 5,
   "metadata": {
    "collapsed": false
   },
   "outputs": [],
   "source": [
    "# test = SentenceParser()\n",
    "# test.parse(docs)\n",
    "# # dp = DocParser(DATA_FOLDER + 'pmc/text/', TextParser())"
   ]
  },
  {
   "cell_type": "code",
   "execution_count": 6,
   "metadata": {
    "collapsed": false
   },
   "outputs": [],
   "source": [
    "pkl_f=DATA_FOLDER+'pmc/pickle/pkl_sentences'\n",
    "sents=[]\n",
    "count_loop=0\n",
    "try:\n",
    "    with open(pkl_f, 'rb') as f:\n",
    "        sents = cPickle.load(f)\n",
    "except:\n",
    "    print\"parsing data\"\n",
    "    for doc_id_loop in docs:\n",
    "        count_loop+=1\n",
    "        print count_loop\n",
    "        for j in test.parse(docs[doc_id_loop], doc_id=doc_id_loop):\n",
    "            sents.append(j)\n",
    "    with open(pkl_f, 'w+') as f:\n",
    "        cPickle.dump(sents, f)"
   ]
  },
  {
   "cell_type": "code",
   "execution_count": 7,
   "metadata": {
    "collapsed": false
   },
   "outputs": [
    {
     "name": "stdout",
     "output_type": "stream",
     "text": [
      "Sentence(words=[u'It', u'Takes', u'Two', u'to', u'Tango', u':', u'A', u'New', u'Partner', u'in', u'Amylose', u'Synthesis', u'.'], lemmas=[u'it', u'take', u'two', u'to', u'Tango', u':', u'A', u'New', u'Partner', u'in', u'Amylose', u'synthesis', u'.'], poses=[u'PRP', u'VBZ', u'CD', u'TO', u'NNP', u':', u'NNP', u'NNP', u'NNP', u'IN', u'NNP', u'NN', u'.'], dep_parents=[2, 0, 2, 5, 2, 5, 9, 9, 5, 12, 12, 9, 2], dep_labels=[u'nsubj', u'ROOT', u'dobj', u'case', u'nmod', u'punct', u'compound', u'compound', u'dep', u'case', u'compound', u'nmod', u'punct'], sent_id=1, doc_id='PBIOLOGY-D-14-02490', text=u'It Takes Two to Tango: A New Partner in Amylose Synthesis.', token_idxs=[153, 156, 162, 166, 169, 174, 176, 178, 182, 190, 193, 201, 210])\n"
     ]
    }
   ],
   "source": [
    "print sents[1]"
   ]
  },
  {
   "cell_type": "code",
   "execution_count": 8,
   "metadata": {
    "collapsed": false
   },
   "outputs": [],
   "source": [
    "#Think about how to add doc_ids. \n",
    "#In particular, look at the small code in parseDocSentences()\n",
    "# %time sents = dp.parseDocSentences()\n",
    "# print sents[0]"
   ]
  },
  {
   "cell_type": "markdown",
   "metadata": {},
   "source": [
    "# Candidate mention Extraction"
   ]
  },
  {
   "cell_type": "markdown",
   "metadata": {},
   "source": [
    "## Gene extraction"
   ]
  },
  {
   "cell_type": "code",
   "execution_count": 66,
   "metadata": {
    "collapsed": false
   },
   "outputs": [],
   "source": [
    "#What is the exact schema of genes ?\n",
    "genes=[]\n",
    "for row_genes in [line.rstrip().split('\\t') for line in open(DATA_FOLDER + '/dicts/list_genes.txt')]:\n",
    "    for gene in row_genes:\n",
    "        genes.append(gene)\n",
    "        \n",
    "#Removing blacklist_words\n",
    "blacklist_words = [line.rstrip().split('\\t')[1].lower() for line in open(DATA_FOLDER + '/dicts/blacklist_words.txt')][1:]\n",
    "genes_filtered = [x.lower() for x in genes if x.lower() not in blacklist_words]\n",
    "\n",
    "gene_dm = DictionaryMatch(label='GeneName', dictionary=genes_filtered, ignore_case=False)"
   ]
  },
  {
   "cell_type": "markdown",
   "metadata": {},
   "source": [
    "The dictionary match should provide fairly high recall, but we may still miss some candidates. We know that gene names are named nouns and are often all uppercase. Let's use DDLite's compositional matcher operations to handle this. First, we'll write a matcher to find all nouns using the parts-of-speech tags. Then, we'll use a filter to find uppercase sequences. Finally, we'll use a filter to make sure each match has at least 3 characters. We pass noun_rm to up_rm, and up_rm to the final filter to compose them with each other."
   ]
  },
  {
   "cell_type": "code",
   "execution_count": 23,
   "metadata": {
    "collapsed": true
   },
   "outputs": [],
   "source": [
    "noun_regex = RegexNgramMatch(label='Nouns', regex_pattern=r'[A-Z]?NN[A-Z]?', ignore_case=True, match_attrib='poses')\n",
    "up_regex = RegexFilterAll(noun_regex, label='Upper', regex_pattern=r'[A-Z]+([0-9]+)?([A-Z]+)?([0-9]+)?$', ignore_case=False, match_attrib='words')\n",
    "multi_regex = RegexFilterAll(up_regex, label='Multi', regex_pattern=r'[a-z0-9]{3,}', ignore_case=True)"
   ]
  },
  {
   "cell_type": "markdown",
   "metadata": {},
   "source": [
    "Since we want matches both from the dictionary and the uppercase-noun-phrase-matcher we just built, we'll use the union object to create a matcher for both."
   ]
  },
  {
   "cell_type": "code",
   "execution_count": 67,
   "metadata": {
    "collapsed": true
   },
   "outputs": [],
   "source": [
    "#The previous regexes seem to catch many patterns not wanted (like 'and' or others), let's ignore it for now and we can add it when we'll work on recall\n",
    "# GM = Union(gene_dm, multi_regex)\n",
    "GM=gene_dm"
   ]
  },
  {
   "cell_type": "markdown",
   "metadata": {},
   "source": [
    "## Pheno extraction"
   ]
  },
  {
   "cell_type": "code",
   "execution_count": 62,
   "metadata": {
    "collapsed": false
   },
   "outputs": [],
   "source": [
    "# Schema is: HPO_ID | NAME | TYPE (exact, lemma)\n",
    "phenos_deepdive = [line.rstrip().split('\\t')[1] for line in open(DATA_FOLDER + '/dicts/pheno_terms.tsv')]\n",
    "phenos_arabidopsis = [line.rstrip() for line in open(DATA_FOLDER + '/dicts/list_phenotypes_arabidopsis_filtered.txt')]\n",
    "phenos_worm_variants = [line.rstrip() for line in open(DATA_FOLDER + '/dicts/worm_variants_unix.txt')]\n",
    "phenos_all_eq_dict = [pheno.strip() for line in open(DATA_FOLDER + 'dicts/phenotypes_all_eq_dict.txt') for pheno in line.rstrip().split(';')]\n",
    "phenos_manual = [line.rstrip() for line in open(DATA_FOLDER + '/dicts/phenotypes_manual.txt')]\n",
    "\n",
    "phenos_tot = phenos_deepdive + phenos_arabidopsis + phenos_worm_variants + phenos_all_eq_dict + phenos_manual\n",
    "\n",
    "#Removing the phenotypes that are in the blacklist.\n",
    "blacklist_words = [line.rstrip().split('\\t')[1].lower() for line in open(DATA_FOLDER + '/dicts/blacklist_words.txt')][1:]\n",
    "phenos_tot_filtered = [x.lower() for x in phenos_tot if x.lower() not in blacklist_words]\n",
    "\n",
    "PM = DictionaryMatch(label='PhenoName', dictionary=phenos_tot_filtered)"
   ]
  },
  {
   "cell_type": "markdown",
   "metadata": {},
   "source": [
    "# Relation Extraction"
   ]
  },
  {
   "cell_type": "markdown",
   "metadata": {},
   "source": [
    "For each sentence, we extract a candidate relation for each pair (gene, phenotype) appearing in the sentence."
   ]
  },
  {
   "cell_type": "code",
   "execution_count": 68,
   "metadata": {
    "collapsed": false
   },
   "outputs": [],
   "source": [
    "R = Relations(sents, GM, PM)"
   ]
  },
  {
   "cell_type": "code",
   "execution_count": 80,
   "metadata": {
    "collapsed": false
   },
   "outputs": [
    {
     "data": {
      "text/html": [
       "<style>\n",
       ".node {\n",
       "  cursor: pointer;\n",
       "}\n",
       "\n",
       ".node circle {\n",
       "  fill: #fff;\n",
       "  stroke: steelblue;\n",
       "  stroke-width: 3px;\n",
       "}\n",
       "\n",
       ".node text {\n",
       "  font: 12px sans-serif;\n",
       "}\n",
       "\n",
       ".edge {\n",
       "  fill: none;\n",
       "  stroke: #ccc;\n",
       "  stroke-width: 2px;\n",
       "  cursor: pointer;\n",
       "}\n",
       "\n",
       ".highlight {\n",
       "  stroke: red;\n",
       "  stroke-width: 3px;\n",
       "}\n",
       "</style>\n",
       "\n",
       "<!--Provide the canvas id (twice) and the words via python string formatting here--!>\n",
       "<div id=\"tree-chart-2729007847986727735\"></div>\n",
       "<div id=\"raw-seq-2729007847986727735\">\n",
       "<span class=\"word-2729007847986727735-0\">To</span> <span class=\"word-2729007847986727735-1\">investigate</span> <span class=\"word-2729007847986727735-2\">the</span> <span class=\"word-2729007847986727735-3\">level</span> <span class=\"word-2729007847986727735-4\">of</span> <span class=\"word-2729007847986727735-5\">membrane</span> <span class=\"word-2729007847986727735-6\">lipid</span> <span class=\"word-2729007847986727735-7\">peroxidation</span> <span class=\"word-2729007847986727735-8\">,</span> <span class=\"word-2729007847986727735-9\">the</span> <span class=\"word-2729007847986727735-10\">same</span> <span class=\"word-2729007847986727735-11\">leaves</span> <span class=\"word-2729007847986727735-12\">were</span> <span class=\"word-2729007847986727735-13\">analyzed</span> <span class=\"word-2729007847986727735-14\">for</span> <span class=\"word-2729007847986727735-15\">MDA</span> <span class=\"word-2729007847986727735-16\">content</span> <span class=\"word-2729007847986727735-17\">(</span> <span class=\"word-2729007847986727735-18\">malondialdehyde</span> <span class=\"word-2729007847986727735-19\">,</span> <span class=\"word-2729007847986727735-20\">a</span> <span class=\"word-2729007847986727735-21\">byproduct</span> <span class=\"word-2729007847986727735-22\">of</span> <span class=\"word-2729007847986727735-23\">lipid</span> <span class=\"word-2729007847986727735-24\">peroxidation</span> <span class=\"word-2729007847986727735-25\">)</span> <span class=\"word-2729007847986727735-26\">:</span> <span class=\"word-2729007847986727735-27\">_</span> <span class=\"word-2729007847986727735-28\">chy1chy2lut2lut5</span> <span class=\"word-2729007847986727735-29\">_</span> <span class=\"word-2729007847986727735-30\">and</span> <span class=\"word-2729007847986727735-31\">_</span> <span class=\"word-2729007847986727735-32\">chy1chy2lut5</span> <span class=\"word-2729007847986727735-33\">_</span> <span class=\"word-2729007847986727735-34\">leaves</span> <span class=\"word-2729007847986727735-35\">showed</span> <span class=\"word-2729007847986727735-36\">higher</span> <span class=\"word-2729007847986727735-37\">accumulation</span> <span class=\"word-2729007847986727735-38\">of</span> <span class=\"word-2729007847986727735-39\">MDA</span> <span class=\"word-2729007847986727735-40\">upon</span> <span class=\"word-2729007847986727735-41\">stress</span> <span class=\"word-2729007847986727735-42\">treatment</span> <span class=\"word-2729007847986727735-43\">(</span> <span class=\"word-2729007847986727735-44\">+120</span> <span class=\"word-2729007847986727735-45\">%</span> <span class=\"word-2729007847986727735-46\">and</span> <span class=\"word-2729007847986727735-47\">+45</span> <span class=\"word-2729007847986727735-48\">%</span> <span class=\"word-2729007847986727735-49\">,</span> <span class=\"word-2729007847986727735-50\">respectively</span> <span class=\"word-2729007847986727735-51\">)</span> <span class=\"word-2729007847986727735-52\">,</span> <span class=\"word-2729007847986727735-53\">thus</span> <span class=\"word-2729007847986727735-54\">a</span> <span class=\"word-2729007847986727735-55\">far</span> <span class=\"word-2729007847986727735-56\">higher</span> <span class=\"word-2729007847986727735-57\">level</span> <span class=\"word-2729007847986727735-58\">of</span> <span class=\"word-2729007847986727735-59\">lipid</span> <span class=\"word-2729007847986727735-60\">peroxidation</span> <span class=\"word-2729007847986727735-61\">with</span> <span class=\"word-2729007847986727735-62\">respect</span> <span class=\"word-2729007847986727735-63\">to</span> <span class=\"word-2729007847986727735-64\">wild-type</span> <span class=\"word-2729007847986727735-65\">and</span> <span class=\"word-2729007847986727735-66\">_</span> <span class=\"word-2729007847986727735-67\">lut2</span> <span class=\"word-2729007847986727735-68\">_</span> <span class=\"word-2729007847986727735-69\">plants</span> <span class=\"word-2729007847986727735-70\">(</span> <span class=\"word-2729007847986727735-71\">+25</span> <span class=\"word-2729007847986727735-72\">%</span> <span class=\"word-2729007847986727735-73\">)</span> <span class=\"word-2729007847986727735-74\">;</span> <span class=\"word-2729007847986727735-75\">_</span> <span class=\"word-2729007847986727735-76\">chy1chy2lut2lut5</span> <span class=\"word-2729007847986727735-77\">_</span> <span class=\"word-2729007847986727735-78\">plants</span> <span class=\"word-2729007847986727735-79\">showed</span> <span class=\"word-2729007847986727735-80\">a</span> <span class=\"word-2729007847986727735-81\">far</span> <span class=\"word-2729007847986727735-82\">higher</span> <span class=\"word-2729007847986727735-83\">photosensitivity</span> <span class=\"word-2729007847986727735-84\">in</span> <span class=\"word-2729007847986727735-85\">high-light</span> <span class=\"word-2729007847986727735-86\">than</span> <span class=\"word-2729007847986727735-87\">_</span> <span class=\"word-2729007847986727735-88\">chy1chy2lut5</span> <span class=\"word-2729007847986727735-89\">_</span> <span class=\"word-2729007847986727735-90\">(</span> <span class=\"word-2729007847986727735-91\">Figure</span> <span class=\"word-2729007847986727735-92\">)</span> <span class=\"word-2729007847986727735-93\">;</span> <span class=\"word-2729007847986727735-94\">the</span> <span class=\"word-2729007847986727735-95\">latter</span> <span class=\"word-2729007847986727735-96\">was</span> <span class=\"word-2729007847986727735-97\">the</span> <span class=\"word-2729007847986727735-98\">xanthophyll</span> <span class=\"word-2729007847986727735-99\">mutant</span> <span class=\"word-2729007847986727735-100\">with</span> <span class=\"word-2729007847986727735-101\">the</span> <span class=\"word-2729007847986727735-102\">highest</span> <span class=\"word-2729007847986727735-103\">light</span> <span class=\"word-2729007847986727735-104\">sensitivity</span> <span class=\"word-2729007847986727735-105\">described</span> <span class=\"word-2729007847986727735-106\">so</span> <span class=\"word-2729007847986727735-107\">far</span> <span class=\"word-2729007847986727735-108\">-LSB-</span> <span class=\"word-2729007847986727735-109\">-RSB-</span> <span class=\"word-2729007847986727735-110\">.</span>\n",
       "</div>\n"
      ]
     },
     "metadata": {},
     "output_type": "display_data"
    },
    {
     "data": {
      "application/javascript": [
       "$.getScript(\"http://d3js.org/d3.v3.min.js\", function () {\n",
       "// See http://bl.ocks.org/d3noob/8375092\n",
       "// Three vars need to be provided via python string formatting:\n",
       "var chartId = \"2729007847986727735\";\n",
       "var root = {\"attrib\": {\"token_idx\": \"14893\", \"word\": \"analyzed\", \"dep_label\": \"ROOT\", \"pos\": \"VBN\", \"lemma\": \"analyze\", \"word_idx\": \"13\", \"dep_parent\": \"0\"}, \"children\": [{\"attrib\": {\"token_idx\": \"14818\", \"word\": \"investigate\", \"dep_label\": \"advcl\", \"pos\": \"VB\", \"lemma\": \"investigate\", \"word_idx\": \"1\", \"dep_parent\": \"14\"}, \"children\": [{\"attrib\": {\"token_idx\": \"14815\", \"word\": \"To\", \"dep_label\": \"mark\", \"pos\": \"TO\", \"lemma\": \"to\", \"word_idx\": \"0\", \"dep_parent\": \"2\"}, \"children\": []}, {\"attrib\": {\"token_idx\": \"14834\", \"word\": \"level\", \"dep_label\": \"dobj\", \"pos\": \"NN\", \"lemma\": \"level\", \"word_idx\": \"3\", \"dep_parent\": \"2\"}, \"children\": [{\"attrib\": {\"token_idx\": \"14830\", \"word\": \"the\", \"dep_label\": \"det\", \"pos\": \"DT\", \"lemma\": \"the\", \"word_idx\": \"2\", \"dep_parent\": \"4\"}, \"children\": []}, {\"attrib\": {\"token_idx\": \"14858\", \"word\": \"peroxidation\", \"dep_label\": \"nmod\", \"pos\": \"NN\", \"lemma\": \"peroxidation\", \"word_idx\": \"7\", \"dep_parent\": \"4\"}, \"children\": [{\"attrib\": {\"token_idx\": \"14840\", \"word\": \"of\", \"dep_label\": \"case\", \"pos\": \"IN\", \"lemma\": \"of\", \"word_idx\": \"4\", \"dep_parent\": \"8\"}, \"children\": []}, {\"attrib\": {\"token_idx\": \"14843\", \"word\": \"membrane\", \"dep_label\": \"compound\", \"pos\": \"NN\", \"lemma\": \"membrane\", \"word_idx\": \"5\", \"dep_parent\": \"8\"}, \"children\": []}, {\"attrib\": {\"token_idx\": \"14852\", \"word\": \"lipid\", \"dep_label\": \"compound\", \"pos\": \"NN\", \"lemma\": \"lipid\", \"word_idx\": \"6\", \"dep_parent\": \"8\"}, \"children\": []}]}]}]}, {\"attrib\": {\"token_idx\": \"14870\", \"word\": \",\", \"dep_label\": \"punct\", \"pos\": \",\", \"lemma\": \",\", \"word_idx\": \"8\", \"dep_parent\": \"14\"}, \"children\": []}, {\"attrib\": {\"token_idx\": \"14881\", \"word\": \"leaves\", \"dep_label\": \"nsubjpass\", \"pos\": \"NNS\", \"lemma\": \"leaf\", \"word_idx\": \"11\", \"dep_parent\": \"14\"}, \"children\": [{\"attrib\": {\"token_idx\": \"14872\", \"word\": \"the\", \"dep_label\": \"det\", \"pos\": \"DT\", \"lemma\": \"the\", \"word_idx\": \"9\", \"dep_parent\": \"12\"}, \"children\": []}, {\"attrib\": {\"token_idx\": \"14876\", \"word\": \"same\", \"dep_label\": \"amod\", \"pos\": \"JJ\", \"lemma\": \"same\", \"word_idx\": \"10\", \"dep_parent\": \"12\"}, \"children\": []}]}, {\"attrib\": {\"token_idx\": \"14888\", \"word\": \"were\", \"dep_label\": \"auxpass\", \"pos\": \"VBD\", \"lemma\": \"be\", \"word_idx\": \"12\", \"dep_parent\": \"14\"}, \"children\": []}, {\"attrib\": {\"token_idx\": \"14910\", \"word\": \"content\", \"dep_label\": \"nmod\", \"pos\": \"NN\", \"lemma\": \"content\", \"word_idx\": \"16\", \"dep_parent\": \"14\"}, \"children\": [{\"attrib\": {\"token_idx\": \"14902\", \"word\": \"for\", \"dep_label\": \"case\", \"pos\": \"IN\", \"lemma\": \"for\", \"word_idx\": \"14\", \"dep_parent\": \"17\"}, \"children\": []}, {\"attrib\": {\"token_idx\": \"14906\", \"word\": \"MDA\", \"dep_label\": \"compound\", \"pos\": \"NN\", \"lemma\": \"mda\", \"word_idx\": \"15\", \"dep_parent\": \"17\"}, \"children\": []}, {\"attrib\": {\"token_idx\": \"14919\", \"word\": \"malondialdehyde\", \"dep_label\": \"dep\", \"pos\": \"NN\", \"lemma\": \"malondialdehyde\", \"word_idx\": \"18\", \"dep_parent\": \"17\"}, \"children\": [{\"attrib\": {\"token_idx\": \"14918\", \"word\": \"-LRB-\", \"dep_label\": \"punct\", \"pos\": \"-LRB-\", \"lemma\": \"-lrb-\", \"word_idx\": \"17\", \"dep_parent\": \"19\"}, \"children\": []}, {\"attrib\": {\"token_idx\": \"14934\", \"word\": \",\", \"dep_label\": \"punct\", \"pos\": \",\", \"lemma\": \",\", \"word_idx\": \"19\", \"dep_parent\": \"19\"}, \"children\": []}, {\"attrib\": {\"token_idx\": \"14938\", \"word\": \"byproduct\", \"dep_label\": \"appos\", \"pos\": \"NN\", \"lemma\": \"byproduct\", \"word_idx\": \"21\", \"dep_parent\": \"19\"}, \"children\": [{\"attrib\": {\"token_idx\": \"14936\", \"word\": \"a\", \"dep_label\": \"det\", \"pos\": \"DT\", \"lemma\": \"a\", \"word_idx\": \"20\", \"dep_parent\": \"22\"}, \"children\": []}, {\"attrib\": {\"token_idx\": \"14957\", \"word\": \"peroxidation\", \"dep_label\": \"nmod\", \"pos\": \"NN\", \"lemma\": \"peroxidation\", \"word_idx\": \"24\", \"dep_parent\": \"22\"}, \"children\": [{\"attrib\": {\"token_idx\": \"14948\", \"word\": \"of\", \"dep_label\": \"case\", \"pos\": \"IN\", \"lemma\": \"of\", \"word_idx\": \"22\", \"dep_parent\": \"25\"}, \"children\": []}, {\"attrib\": {\"token_idx\": \"14951\", \"word\": \"lipid\", \"dep_label\": \"compound\", \"pos\": \"NN\", \"lemma\": \"lipid\", \"word_idx\": \"23\", \"dep_parent\": \"25\"}, \"children\": []}]}]}, {\"attrib\": {\"token_idx\": \"14969\", \"word\": \"-RRB-\", \"dep_label\": \"punct\", \"pos\": \"-RRB-\", \"lemma\": \"-rrb-\", \"word_idx\": \"25\", \"dep_parent\": \"19\"}, \"children\": []}]}]}, {\"attrib\": {\"token_idx\": \"14970\", \"word\": \":\", \"dep_label\": \"punct\", \"pos\": \":\", \"lemma\": \":\", \"word_idx\": \"26\", \"dep_parent\": \"14\"}, \"children\": []}, {\"attrib\": {\"token_idx\": \"15010\", \"word\": \"leaves\", \"dep_label\": \"parataxis\", \"pos\": \"VBZ\", \"lemma\": \"leave\", \"word_idx\": \"34\", \"dep_parent\": \"14\"}, \"children\": [{\"attrib\": {\"token_idx\": \"14990\", \"word\": \"_\", \"dep_label\": \"nsubj\", \"pos\": \"NN\", \"lemma\": \"_\", \"word_idx\": \"29\", \"dep_parent\": \"35\"}, \"children\": [{\"attrib\": {\"token_idx\": \"14972\", \"word\": \"_\", \"dep_label\": \"nummod\", \"pos\": \"CD\", \"lemma\": \"_\", \"word_idx\": \"27\", \"dep_parent\": \"30\"}, \"children\": []}, {\"attrib\": {\"token_idx\": \"14973\", \"word\": \"chy1chy2lut2lut5\", \"dep_label\": \"compound\", \"pos\": \"NN\", \"lemma\": \"chy1chy2lut2lut5\", \"word_idx\": \"28\", \"dep_parent\": \"30\"}, \"children\": []}, {\"attrib\": {\"token_idx\": \"14991\", \"word\": \"and\", \"dep_label\": \"cc\", \"pos\": \"CC\", \"lemma\": \"and\", \"word_idx\": \"30\", \"dep_parent\": \"30\"}, \"children\": []}, {\"attrib\": {\"token_idx\": \"14996\", \"word\": \"chy1chy2lut5\", \"dep_label\": \"conj\", \"pos\": \"NN\", \"lemma\": \"chy1chy2lut5\", \"word_idx\": \"32\", \"dep_parent\": \"30\"}, \"children\": [{\"attrib\": {\"token_idx\": \"14995\", \"word\": \"_\", \"dep_label\": \"compound\", \"pos\": \"NN\", \"lemma\": \"_\", \"word_idx\": \"31\", \"dep_parent\": \"33\"}, \"children\": []}, {\"attrib\": {\"token_idx\": \"15009\", \"word\": \"_\", \"dep_label\": \"nummod\", \"pos\": \"CD\", \"lemma\": \"_\", \"word_idx\": \"33\", \"dep_parent\": \"33\"}, \"children\": []}]}]}, {\"attrib\": {\"token_idx\": \"15017\", \"word\": \"showed\", \"dep_label\": \"ccomp\", \"pos\": \"VBD\", \"lemma\": \"show\", \"word_idx\": \"35\", \"dep_parent\": \"35\"}, \"children\": [{\"attrib\": {\"token_idx\": \"15031\", \"word\": \"accumulation\", \"dep_label\": \"dobj\", \"pos\": \"NN\", \"lemma\": \"accumulation\", \"word_idx\": \"37\", \"dep_parent\": \"36\"}, \"children\": [{\"attrib\": {\"token_idx\": \"15024\", \"word\": \"higher\", \"dep_label\": \"amod\", \"pos\": \"JJR\", \"lemma\": \"higher\", \"word_idx\": \"36\", \"dep_parent\": \"38\"}, \"children\": []}, {\"attrib\": {\"token_idx\": \"15047\", \"word\": \"MDA\", \"dep_label\": \"nmod\", \"pos\": \"NNP\", \"lemma\": \"MDA\", \"word_idx\": \"39\", \"dep_parent\": \"38\"}, \"children\": [{\"attrib\": {\"token_idx\": \"15044\", \"word\": \"of\", \"dep_label\": \"case\", \"pos\": \"IN\", \"lemma\": \"of\", \"word_idx\": \"38\", \"dep_parent\": \"40\"}, \"children\": []}]}]}, {\"attrib\": {\"token_idx\": \"15063\", \"word\": \"treatment\", \"dep_label\": \"nmod\", \"pos\": \"NN\", \"lemma\": \"treatment\", \"word_idx\": \"42\", \"dep_parent\": \"36\"}, \"children\": [{\"attrib\": {\"token_idx\": \"15051\", \"word\": \"upon\", \"dep_label\": \"case\", \"pos\": \"IN\", \"lemma\": \"upon\", \"word_idx\": \"40\", \"dep_parent\": \"43\"}, \"children\": []}, {\"attrib\": {\"token_idx\": \"15056\", \"word\": \"stress\", \"dep_label\": \"compound\", \"pos\": \"NN\", \"lemma\": \"stress\", \"word_idx\": \"41\", \"dep_parent\": \"43\"}, \"children\": []}, {\"attrib\": {\"token_idx\": \"15078\", \"word\": \"%\", \"dep_label\": \"dep\", \"pos\": \"NN\", \"lemma\": \"%\", \"word_idx\": \"45\", \"dep_parent\": \"43\"}, \"children\": [{\"attrib\": {\"token_idx\": \"15073\", \"word\": \"-LRB-\", \"dep_label\": \"punct\", \"pos\": \"-LRB-\", \"lemma\": \"-lrb-\", \"word_idx\": \"43\", \"dep_parent\": \"46\"}, \"children\": []}, {\"attrib\": {\"token_idx\": \"15074\", \"word\": \"+120\", \"dep_label\": \"nummod\", \"pos\": \"CD\", \"lemma\": \"+120\", \"word_idx\": \"44\", \"dep_parent\": \"46\"}, \"children\": []}, {\"attrib\": {\"token_idx\": \"15080\", \"word\": \"and\", \"dep_label\": \"cc\", \"pos\": \"CC\", \"lemma\": \"and\", \"word_idx\": \"46\", \"dep_parent\": \"46\"}, \"children\": []}, {\"attrib\": {\"token_idx\": \"15087\", \"word\": \"%\", \"dep_label\": \"conj\", \"pos\": \"NN\", \"lemma\": \"%\", \"word_idx\": \"48\", \"dep_parent\": \"46\"}, \"children\": [{\"attrib\": {\"token_idx\": \"15084\", \"word\": \"+45\", \"dep_label\": \"nummod\", \"pos\": \"CD\", \"lemma\": \"+45\", \"word_idx\": \"47\", \"dep_parent\": \"49\"}, \"children\": []}]}, {\"attrib\": {\"token_idx\": \"15088\", \"word\": \",\", \"dep_label\": \"punct\", \"pos\": \",\", \"lemma\": \",\", \"word_idx\": \"49\", \"dep_parent\": \"46\"}, \"children\": []}, {\"attrib\": {\"token_idx\": \"15090\", \"word\": \"respectively\", \"dep_label\": \"advmod\", \"pos\": \"RB\", \"lemma\": \"respectively\", \"word_idx\": \"50\", \"dep_parent\": \"46\"}, \"children\": []}, {\"attrib\": {\"token_idx\": \"15102\", \"word\": \"-RRB-\", \"dep_label\": \"punct\", \"pos\": \"-RRB-\", \"lemma\": \"-rrb-\", \"word_idx\": \"51\", \"dep_parent\": \"46\"}, \"children\": []}]}]}, {\"attrib\": {\"token_idx\": \"15103\", \"word\": \",\", \"dep_label\": \"punct\", \"pos\": \",\", \"lemma\": \",\", \"word_idx\": \"52\", \"dep_parent\": \"36\"}, \"children\": []}, {\"attrib\": {\"token_idx\": \"15123\", \"word\": \"level\", \"dep_label\": \"dep\", \"pos\": \"NN\", \"lemma\": \"level\", \"word_idx\": \"57\", \"dep_parent\": \"36\"}, \"children\": [{\"attrib\": {\"token_idx\": \"15105\", \"word\": \"thus\", \"dep_label\": \"advmod\", \"pos\": \"RB\", \"lemma\": \"thus\", \"word_idx\": \"53\", \"dep_parent\": \"58\"}, \"children\": []}, {\"attrib\": {\"token_idx\": \"15110\", \"word\": \"a\", \"dep_label\": \"det\", \"pos\": \"DT\", \"lemma\": \"a\", \"word_idx\": \"54\", \"dep_parent\": \"58\"}, \"children\": []}, {\"attrib\": {\"token_idx\": \"15116\", \"word\": \"higher\", \"dep_label\": \"amod\", \"pos\": \"JJR\", \"lemma\": \"higher\", \"word_idx\": \"56\", \"dep_parent\": \"58\"}, \"children\": [{\"attrib\": {\"token_idx\": \"15112\", \"word\": \"far\", \"dep_label\": \"advmod\", \"pos\": \"RB\", \"lemma\": \"far\", \"word_idx\": \"55\", \"dep_parent\": \"57\"}, \"children\": []}]}, {\"attrib\": {\"token_idx\": \"15138\", \"word\": \"peroxidation\", \"dep_label\": \"nmod\", \"pos\": \"NN\", \"lemma\": \"peroxidation\", \"word_idx\": \"60\", \"dep_parent\": \"58\"}, \"children\": [{\"attrib\": {\"token_idx\": \"15129\", \"word\": \"of\", \"dep_label\": \"case\", \"pos\": \"IN\", \"lemma\": \"of\", \"word_idx\": \"58\", \"dep_parent\": \"61\"}, \"children\": []}, {\"attrib\": {\"token_idx\": \"15132\", \"word\": \"lipid\", \"dep_label\": \"compound\", \"pos\": \"NN\", \"lemma\": \"lipid\", \"word_idx\": \"59\", \"dep_parent\": \"61\"}, \"children\": []}]}, {\"attrib\": {\"token_idx\": \"15156\", \"word\": \"respect\", \"dep_label\": \"nmod\", \"pos\": \"NN\", \"lemma\": \"respect\", \"word_idx\": \"62\", \"dep_parent\": \"58\"}, \"children\": [{\"attrib\": {\"token_idx\": \"15151\", \"word\": \"with\", \"dep_label\": \"case\", \"pos\": \"IN\", \"lemma\": \"with\", \"word_idx\": \"61\", \"dep_parent\": \"63\"}, \"children\": []}, {\"attrib\": {\"token_idx\": \"15167\", \"word\": \"wild-type\", \"dep_label\": \"nmod\", \"pos\": \"JJ\", \"lemma\": \"wild-type\", \"word_idx\": \"64\", \"dep_parent\": \"63\"}, \"children\": [{\"attrib\": {\"token_idx\": \"15164\", \"word\": \"to\", \"dep_label\": \"case\", \"pos\": \"TO\", \"lemma\": \"to\", \"word_idx\": \"63\", \"dep_parent\": \"65\"}, \"children\": []}, {\"attrib\": {\"token_idx\": \"15177\", \"word\": \"and\", \"dep_label\": \"cc\", \"pos\": \"CC\", \"lemma\": \"and\", \"word_idx\": \"65\", \"dep_parent\": \"65\"}, \"children\": []}, {\"attrib\": {\"token_idx\": \"15181\", \"word\": \"_\", \"dep_label\": \"conj\", \"pos\": \"JJ\", \"lemma\": \"_\", \"word_idx\": \"66\", \"dep_parent\": \"65\"}, \"children\": []}, {\"attrib\": {\"token_idx\": \"15188\", \"word\": \"plants\", \"dep_label\": \"dep\", \"pos\": \"NNS\", \"lemma\": \"plant\", \"word_idx\": \"69\", \"dep_parent\": \"65\"}, \"children\": [{\"attrib\": {\"token_idx\": \"15182\", \"word\": \"lut2\", \"dep_label\": \"compound\", \"pos\": \"NN\", \"lemma\": \"lut2\", \"word_idx\": \"67\", \"dep_parent\": \"70\"}, \"children\": []}, {\"attrib\": {\"token_idx\": \"15187\", \"word\": \"_\", \"dep_label\": \"compound\", \"pos\": \"NN\", \"lemma\": \"_\", \"word_idx\": \"68\", \"dep_parent\": \"70\"}, \"children\": []}]}]}, {\"attrib\": {\"token_idx\": \"15199\", \"word\": \"%\", \"dep_label\": \"appos\", \"pos\": \"NN\", \"lemma\": \"%\", \"word_idx\": \"72\", \"dep_parent\": \"63\"}, \"children\": [{\"attrib\": {\"token_idx\": \"15195\", \"word\": \"-LRB-\", \"dep_label\": \"punct\", \"pos\": \"-LRB-\", \"lemma\": \"-lrb-\", \"word_idx\": \"70\", \"dep_parent\": \"73\"}, \"children\": []}, {\"attrib\": {\"token_idx\": \"15196\", \"word\": \"+25\", \"dep_label\": \"nummod\", \"pos\": \"CD\", \"lemma\": \"+25\", \"word_idx\": \"71\", \"dep_parent\": \"73\"}, \"children\": []}, {\"attrib\": {\"token_idx\": \"15200\", \"word\": \"-RRB-\", \"dep_label\": \"punct\", \"pos\": \"-RRB-\", \"lemma\": \"-rrb-\", \"word_idx\": \"73\", \"dep_parent\": \"73\"}, \"children\": []}]}]}, {\"attrib\": {\"token_idx\": \"15201\", \"word\": \";\", \"dep_label\": \"punct\", \"pos\": \":\", \"lemma\": \";\", \"word_idx\": \"74\", \"dep_parent\": \"58\"}, \"children\": []}, {\"attrib\": {\"token_idx\": \"15229\", \"word\": \"showed\", \"dep_label\": \"parataxis\", \"pos\": \"VBD\", \"lemma\": \"show\", \"word_idx\": \"79\", \"dep_parent\": \"58\"}, \"children\": [{\"attrib\": {\"token_idx\": \"15222\", \"word\": \"plants\", \"dep_label\": \"nsubj\", \"pos\": \"NNS\", \"lemma\": \"plant\", \"word_idx\": \"78\", \"dep_parent\": \"80\"}, \"children\": [{\"attrib\": {\"token_idx\": \"15203\", \"word\": \"_\", \"dep_label\": \"nummod\", \"pos\": \"CD\", \"lemma\": \"_\", \"word_idx\": \"75\", \"dep_parent\": \"79\"}, \"children\": []}, {\"attrib\": {\"token_idx\": \"15204\", \"word\": \"chy1chy2lut2lut5\", \"dep_label\": \"compound\", \"pos\": \"NN\", \"lemma\": \"chy1chy2lut2lut5\", \"word_idx\": \"76\", \"dep_parent\": \"79\"}, \"children\": []}, {\"attrib\": {\"token_idx\": \"15221\", \"word\": \"_\", \"dep_label\": \"compound\", \"pos\": \"NN\", \"lemma\": \"_\", \"word_idx\": \"77\", \"dep_parent\": \"79\"}, \"children\": []}]}, {\"attrib\": {\"token_idx\": \"15249\", \"word\": \"photosensitivity\", \"dep_label\": \"dobj\", \"pos\": \"NN\", \"lemma\": \"photosensitivity\", \"word_idx\": \"83\", \"dep_parent\": \"80\"}, \"children\": [{\"attrib\": {\"token_idx\": \"15236\", \"word\": \"a\", \"dep_label\": \"det\", \"pos\": \"DT\", \"lemma\": \"a\", \"word_idx\": \"80\", \"dep_parent\": \"84\"}, \"children\": []}, {\"attrib\": {\"token_idx\": \"15242\", \"word\": \"higher\", \"dep_label\": \"amod\", \"pos\": \"JJR\", \"lemma\": \"higher\", \"word_idx\": \"82\", \"dep_parent\": \"84\"}, \"children\": [{\"attrib\": {\"token_idx\": \"15238\", \"word\": \"far\", \"dep_label\": \"advmod\", \"pos\": \"RB\", \"lemma\": \"far\", \"word_idx\": \"81\", \"dep_parent\": \"83\"}, \"children\": []}]}, {\"attrib\": {\"token_idx\": \"15266\", \"word\": \"in\", \"dep_label\": \"amod\", \"pos\": \"IN\", \"lemma\": \"in\", \"word_idx\": \"84\", \"dep_parent\": \"84\"}, \"children\": [{\"attrib\": {\"token_idx\": \"15269\", \"word\": \"high-light\", \"dep_label\": \"dep\", \"pos\": \"JJ\", \"lemma\": \"high-light\", \"word_idx\": \"85\", \"dep_parent\": \"85\"}, \"children\": [{\"attrib\": {\"token_idx\": \"15299\", \"word\": \"_\", \"dep_label\": \"nmod\", \"pos\": \"NN\", \"lemma\": \"_\", \"word_idx\": \"89\", \"dep_parent\": \"86\"}, \"children\": [{\"attrib\": {\"token_idx\": \"15280\", \"word\": \"than\", \"dep_label\": \"case\", \"pos\": \"IN\", \"lemma\": \"than\", \"word_idx\": \"86\", \"dep_parent\": \"90\"}, \"children\": []}, {\"attrib\": {\"token_idx\": \"15285\", \"word\": \"_\", \"dep_label\": \"nummod\", \"pos\": \"CD\", \"lemma\": \"_\", \"word_idx\": \"87\", \"dep_parent\": \"90\"}, \"children\": []}, {\"attrib\": {\"token_idx\": \"15286\", \"word\": \"chy1chy2lut5\", \"dep_label\": \"compound\", \"pos\": \"NN\", \"lemma\": \"chy1chy2lut5\", \"word_idx\": \"88\", \"dep_parent\": \"90\"}, \"children\": []}, {\"attrib\": {\"token_idx\": \"15301\", \"word\": \"Figure\", \"dep_label\": \"appos\", \"pos\": \"NN\", \"lemma\": \"figure\", \"word_idx\": \"91\", \"dep_parent\": \"90\"}, \"children\": [{\"attrib\": {\"token_idx\": \"15300\", \"word\": \"-LRB-\", \"dep_label\": \"punct\", \"pos\": \"-LRB-\", \"lemma\": \"-lrb-\", \"word_idx\": \"90\", \"dep_parent\": \"92\"}, \"children\": []}, {\"attrib\": {\"token_idx\": \"15308\", \"word\": \"-RRB-\", \"dep_label\": \"punct\", \"pos\": \"-RRB-\", \"lemma\": \"-rrb-\", \"word_idx\": \"92\", \"dep_parent\": \"92\"}, \"children\": []}]}]}, {\"attrib\": {\"token_idx\": \"15309\", \"word\": \";\", \"dep_label\": \"punct\", \"pos\": \":\", \"lemma\": \";\", \"word_idx\": \"93\", \"dep_parent\": \"86\"}, \"children\": []}, {\"attrib\": {\"token_idx\": \"15342\", \"word\": \"mutant\", \"dep_label\": \"parataxis\", \"pos\": \"NN\", \"lemma\": \"mutant\", \"word_idx\": \"99\", \"dep_parent\": \"86\"}, \"children\": [{\"attrib\": {\"token_idx\": \"15315\", \"word\": \"latter\", \"dep_label\": \"nsubj\", \"pos\": \"NN\", \"lemma\": \"latter\", \"word_idx\": \"95\", \"dep_parent\": \"100\"}, \"children\": [{\"attrib\": {\"token_idx\": \"15311\", \"word\": \"the\", \"dep_label\": \"det\", \"pos\": \"DT\", \"lemma\": \"the\", \"word_idx\": \"94\", \"dep_parent\": \"96\"}, \"children\": []}]}, {\"attrib\": {\"token_idx\": \"15322\", \"word\": \"was\", \"dep_label\": \"cop\", \"pos\": \"VBD\", \"lemma\": \"be\", \"word_idx\": \"96\", \"dep_parent\": \"100\"}, \"children\": []}, {\"attrib\": {\"token_idx\": \"15326\", \"word\": \"the\", \"dep_label\": \"det\", \"pos\": \"DT\", \"lemma\": \"the\", \"word_idx\": \"97\", \"dep_parent\": \"100\"}, \"children\": []}, {\"attrib\": {\"token_idx\": \"15330\", \"word\": \"xanthophyll\", \"dep_label\": \"compound\", \"pos\": \"NN\", \"lemma\": \"xanthophyll\", \"word_idx\": \"98\", \"dep_parent\": \"100\"}, \"children\": []}, {\"attrib\": {\"token_idx\": \"15372\", \"word\": \"sensitivity\", \"dep_label\": \"nmod\", \"pos\": \"NN\", \"lemma\": \"sensitivity\", \"word_idx\": \"104\", \"dep_parent\": \"100\"}, \"children\": [{\"attrib\": {\"token_idx\": \"15349\", \"word\": \"with\", \"dep_label\": \"case\", \"pos\": \"IN\", \"lemma\": \"with\", \"word_idx\": \"100\", \"dep_parent\": \"105\"}, \"children\": []}, {\"attrib\": {\"token_idx\": \"15354\", \"word\": \"the\", \"dep_label\": \"det\", \"pos\": \"DT\", \"lemma\": \"the\", \"word_idx\": \"101\", \"dep_parent\": \"105\"}, \"children\": []}, {\"attrib\": {\"token_idx\": \"15358\", \"word\": \"highest\", \"dep_label\": \"amod\", \"pos\": \"JJS\", \"lemma\": \"highest\", \"word_idx\": \"102\", \"dep_parent\": \"105\"}, \"children\": []}, {\"attrib\": {\"token_idx\": \"15366\", \"word\": \"light\", \"dep_label\": \"amod\", \"pos\": \"JJ\", \"lemma\": \"light\", \"word_idx\": \"103\", \"dep_parent\": \"105\"}, \"children\": []}, {\"attrib\": {\"token_idx\": \"15384\", \"word\": \"described\", \"dep_label\": \"acl\", \"pos\": \"VBN\", \"lemma\": \"describe\", \"word_idx\": \"105\", \"dep_parent\": \"105\"}, \"children\": [{\"attrib\": {\"token_idx\": \"15397\", \"word\": \"far\", \"dep_label\": \"advmod\", \"pos\": \"RB\", \"lemma\": \"far\", \"word_idx\": \"107\", \"dep_parent\": \"106\"}, \"children\": [{\"attrib\": {\"token_idx\": \"15394\", \"word\": \"so\", \"dep_label\": \"advmod\", \"pos\": \"RB\", \"lemma\": \"so\", \"word_idx\": \"106\", \"dep_parent\": \"108\"}, \"children\": []}, {\"attrib\": {\"token_idx\": \"15402\", \"word\": \"-RSB-\", \"dep_label\": \"punct\", \"pos\": \"-RRB-\", \"lemma\": \"-rsb-\", \"word_idx\": \"109\", \"dep_parent\": \"108\"}, \"children\": [{\"attrib\": {\"token_idx\": \"15401\", \"word\": \"-LSB-\", \"dep_label\": \"punct\", \"pos\": \"-LRB-\", \"lemma\": \"-lsb-\", \"word_idx\": \"108\", \"dep_parent\": \"110\"}, \"children\": []}]}]}]}]}]}]}]}]}]}]}]}]}, {\"attrib\": {\"token_idx\": \"15403\", \"word\": \".\", \"dep_label\": \"punct\", \"pos\": \".\", \"lemma\": \".\", \"word_idx\": \"110\", \"dep_parent\": \"14\"}, \"children\": []}]};\n",
       "var highlightIdxs = [[67], [83]];\n",
       "\n",
       "// Highlight words / nodes\n",
       "var COLORS = [\"#ff5c33\", \"#ffcc00\", \"#33cc33\", \"#3399ff\"];\n",
       "function highlightWords() {\n",
       "  for (var i=0; i < highlightIdxs.length; i++) {\n",
       "    var c = COLORS[i];\n",
       "    var idxs = highlightIdxs[i];\n",
       "    for (var j=0; j < idxs.length; j++) {\n",
       "      d3.selectAll(\".word-\"+chartId+\"-\"+idxs[j]).style(\"stroke\", c).style(\"background\", c);\n",
       "    }\n",
       "  }\n",
       "}\n",
       "\n",
       "// Constants\n",
       "var margin = {top: 20, right: 20, bottom: 20, left: 20},\n",
       "width = 800 - margin.left - margin.right,\n",
       "height = 350 - margin.top - margin.bottom,\n",
       "R = 5;\n",
       "\n",
       "// Create the d3 tree object\n",
       "var tree = d3.layout.tree()\n",
       "  .size([width, height]);\n",
       "\n",
       "// Create the svg canvas\n",
       "var svg = d3.select(\"#tree-chart-\" + chartId)\n",
       "  .append(\"svg\")\n",
       "  .attr(\"width\", width + margin.left + margin.right)\n",
       "  .attr(\"height\", height + margin.top + margin.bottom)\n",
       "  .append(\"g\")\n",
       "  .attr(\"transform\", \"translate(\" + margin.left + \",\" + margin.top + \")\");\n",
       "\n",
       "function renderTree() {\n",
       "  var nodes = tree.nodes(root),\n",
       "  edges = tree.links(nodes);\n",
       "\n",
       "  // Place the nodes\n",
       "  var nodeGroups = svg.selectAll(\"g.node\")\n",
       "    .data(nodes)\n",
       "    .enter().append(\"g\")\n",
       "    .attr(\"class\", \"node\")\n",
       "    .attr(\"transform\", function(d) { return \"translate(\" + d.x + \",\" + d.y + \")\"; });\n",
       "       \n",
       "  // Append circles\n",
       "  nodeGroups.append(\"circle\")\n",
       "    //.on(\"click\", function() {\n",
       "    //  d3.select(this).classed(\"highlight\", !d3.select(this).classed(\"highlight\")); })\n",
       "    .attr(\"r\", R)\n",
       "    .attr(\"class\", function(d) { return \"word-\"+chartId+\"-\"+d.attrib.word_idx; });\n",
       "     \n",
       "  // Append the actual word\n",
       "  nodeGroups.append(\"text\")\n",
       "    .text(function(d) { return d.attrib.word; })\n",
       "    .attr(\"text-anchor\", function(d) { \n",
       "      return d.children && d.children.length > 0 ? \"start\" : \"middle\"; })\n",
       "    .attr(\"dx\", function(d) { \n",
       "      return d.children && d.children.length > 0 ? R + 3 : 0; })\n",
       "    .attr(\"dy\", function(d) { \n",
       "      return d.children && d.children.length > 0 ? 0 : 3*R + 3; });\n",
       "\n",
       "  // Place the edges\n",
       "  var edgePaths = svg.selectAll(\"path\")\n",
       "    .data(edges)\n",
       "    .enter().append(\"path\")\n",
       "    .attr(\"class\", \"edge\")\n",
       "    .on(\"click\", function() {\n",
       "      d3.select(this).classed(\"highlight\", !d3.select(this).classed(\"highlight\")); })\n",
       "    .attr(\"d\", d3.svg.diagonal());\n",
       "}\n",
       "\n",
       "renderTree();\n",
       "highlightWords();\n",
       "});\n"
      ]
     },
     "metadata": {},
     "output_type": "display_data"
    }
   ],
   "source": [
    "R[9].render()"
   ]
  },
  {
   "cell_type": "code",
   "execution_count": 55,
   "metadata": {
    "collapsed": false
   },
   "outputs": [
    {
     "name": "stdout",
     "output_type": "stream",
     "text": [
      "0 No 2 DT\n",
      "1 interaction 4 NN\n",
      "2 was 4 VBD\n",
      "3 detected 0 VBN\n",
      "4 in 8 IN\n",
      "5 the 8 DT\n",
      "6 E452K 8 NN\n",
      "7 variant 4 NN\n",
      "8 or 8 CC\n",
      "9 when 13 WRB\n",
      "10 charge-shifts 13 NNS\n",
      "11 were 13 VBD\n",
      "12 introduced 8 VBN\n",
      "13 in 16 IN\n",
      "14 both 16 CC\n",
      "15 Lys441 13 NN\n",
      "16 and 16 CC\n",
      "17 Glu452 16 NN\n",
      "18 -LRB- 22 -LRB-\n",
      "19 the 22 DT\n",
      "20 K441E/E452K 22 NN\n",
      "21 variant 16 NN\n",
      "22 -RRB- 22 -RRB-\n",
      "23 . 4 .\n"
     ]
    }
   ],
   "source": [
    "test_sent=10\n",
    "for i in range(len(R[test_sent].dep_parents)):\n",
    "    print i, R[test_sent].words[i], R[test_sent].dep_parents[i], R[test_sent].poses[i]"
   ]
  },
  {
   "cell_type": "code",
   "execution_count": 61,
   "metadata": {
    "collapsed": false
   },
   "outputs": [
    {
     "data": {
      "text/plain": [
       "True"
      ]
     },
     "execution_count": 61,
     "metadata": {},
     "output_type": "execute_result"
    }
   ],
   "source": [
    "'and' in blacklist_words"
   ]
  },
  {
   "cell_type": "code",
   "execution_count": 16,
   "metadata": {
    "collapsed": true
   },
   "outputs": [],
   "source": [
    "# R.dump_candidates('pickle/relations.pkl')"
   ]
  },
  {
   "cell_type": "markdown",
   "metadata": {},
   "source": [
    "# ddlite Model"
   ]
  },
  {
   "cell_type": "markdown",
   "metadata": {},
   "source": [
    "We create a ddlite model from the previous candidates, on which we will extract features, define labeling functions and learn a model. "
   ]
  },
  {
   "cell_type": "code",
   "execution_count": 70,
   "metadata": {
    "collapsed": false
   },
   "outputs": [
    {
     "name": "stdout",
     "output_type": "stream",
     "text": [
      "Extracted 25686 features for each of 907 mentions\n"
     ]
    }
   ],
   "source": [
    "DDL = DDLiteModel(R)\n",
    "print \"Extracted {} features for each of {} mentions\".format(DDL.num_feats(), DDL.num_candidates())"
   ]
  },
  {
   "cell_type": "markdown",
   "metadata": {},
   "source": [
    "# Building a gold ground truth"
   ]
  },
  {
   "cell_type": "markdown",
   "metadata": {},
   "source": [
    "We label here a certain amount of sentences that will allow us to evaluate our model."
   ]
  },
  {
   "cell_type": "code",
   "execution_count": 59,
   "metadata": {
    "collapsed": false
   },
   "outputs": [],
   "source": [
    "gold = np.zeros((DDL.num_candidates()))\n",
    "# gold[np.array([68,69,70,71,72,73,74,75,76,78,79,80,81,82,83,84,85,86,88,89,90,91])] = np.array([\n",
    "#      1,1,1,-1,1,-1,-1,1,-1,-1,-1,-1,-1,-1,-1,-1,-1,-1,-1,1,1,1])\n",
    "DDL.set_gold_labels(gold)\n",
    "DDL.set_holdout(p=0.5)"
   ]
  },
  {
   "cell_type": "code",
   "execution_count": 54,
   "metadata": {
    "collapsed": false,
    "scrolled": true
   },
   "outputs": [
    {
     "name": "stdout",
     "output_type": "stream",
     "text": [
      "Making sure MindTagger is installed. Hang on!\n"
     ]
    },
    {
     "data": {
      "text/html": [
       "\n",
       "        <iframe\n",
       "            width=\"100%\"\n",
       "            height=\"1200\"\n",
       "            src=\"http://DN51s5h3.SUNet:8971/#/mindtagger/d5b41ed385760f5a\"\n",
       "            frameborder=\"0\"\n",
       "            allowfullscreen\n",
       "        ></iframe>\n",
       "        "
      ],
      "text/plain": [
       "<IPython.lib.display.IFrame at 0x13b618110>"
      ]
     },
     "execution_count": 54,
     "metadata": {},
     "output_type": "execute_result"
    }
   ],
   "source": [
    "#Yellow: gene. Blue: phenotype\n",
    "DDL.open_mindtagger(num_sample=200, width='100%', height=1200)"
   ]
  },
  {
   "cell_type": "code",
   "execution_count": 55,
   "metadata": {
    "collapsed": false
   },
   "outputs": [],
   "source": [
    "DDL.add_mindtagger_tags()"
   ]
  },
  {
   "cell_type": "markdown",
   "metadata": {},
   "source": [
    "# Writing labeling functions"
   ]
  },
  {
   "cell_type": "markdown",
   "metadata": {},
   "source": [
    "We'll use data programming to learn a logistic regression model which will predict the probability of a candidate entity being a true gene mention. Since our training data is not manually labeled, we'll generate many (potentially noisy) labels as a surrogate for precise, manual labels. Feature extraction and model learning are very simple in ddlite. Writing labeling functions is where the real artistry comes in. One of ddlite's goals is to enable rapid prototyping, debugging, and experimenting with labeling functions. These can be used either to create a simple standalone app, or to plug into DeepDive. Labeling functions, or LFs, are functions that take an Candidate object. They must return 1 (for a positive label), 0 (for abstaining), or -1 (for a negative example). For now, we'll write a few simple LFs to get started:"
   ]
  },
  {
   "cell_type": "code",
   "execution_count": 49,
   "metadata": {
    "collapsed": false
   },
   "outputs": [
    {
     "data": {
      "text/plain": [
       "[u'Amylose',\n",
       " u'be',\n",
       " u'compose',\n",
       " u'of',\n",
       " u'long',\n",
       " u'linear',\n",
       " u'chain',\n",
       " u'with',\n",
       " u'few',\n",
       " u'branch',\n",
       " u'point',\n",
       " u',',\n",
       " u'while',\n",
       " u'amylopectin',\n",
       " u'have',\n",
       " u'shorter',\n",
       " u'chain',\n",
       " u'and',\n",
       " u'many',\n",
       " u'more',\n",
       " u'branch',\n",
       " u'point',\n",
       " u'.']"
      ]
     },
     "execution_count": 49,
     "metadata": {},
     "output_type": "execute_result"
    }
   ],
   "source": [
    "R[0].lemmas"
   ]
  },
  {
   "cell_type": "code",
   "execution_count": 52,
   "metadata": {
    "collapsed": false
   },
   "outputs": [],
   "source": [
    "#Here, idx_mention refers to 0 or 1, whether we consider the gene or phenotype\n",
    "def post_window(r, idx_mention, key, n=3):\n",
    "    s = list(r.all_idxs[idx_mention])\n",
    "    b = len(r.lemmas) - np.max(s)\n",
    "    s.extend([np.max(s) + i for i in range(1, min(b,n+1))])\n",
    "    return key in [r.lemmas[i] for i in s]\n",
    "def pre_window (r, idx_mention, key, n=3):\n",
    "    s = list(r.all_idxs[idx_mention])\n",
    "    b = np.min(s)\n",
    "    s.extend([b - i for i in range(1, min(b,n+1))])\n",
    "    return key in [r.lemmas[i] for i in s]\n",
    "def stopper(r, idx_mention, stop):\n",
    "    return stop in [r.lemmas[i] for i in r.all_idxs[idx_mention]]\n",
    "\n",
    "#If the word mutation is before gene:\n",
    "def LF_mutation_gene_t(r):\n",
    "    return 1 if 'mutation' in [r.lemmas[r.dep_parents[i]] for i in r.all_idxs[0]] else 0\n",
    "#If the word mutation is before pheno:\n",
    "def LF_mutation_pheno_t(r):\n",
    "    return 1 if 'mutation' in [r.lemmas[r.dep_parents[i]] for i in r.all_idxs[1]] else 0\n",
    "#If phenotype just before gene, certainly wrong\n",
    "def LF_pheno_before_gene_f(r):\n",
    "    res=False\n",
    "    for i in r.all_idxs[1]:\n",
    "        if pre_window(r, 0, r.words[i], n=1):\n",
    "            res=True\n",
    "    if res:\n",
    "        return -1\n",
    "    else:\n",
    "        return 0\n",
    "#If phenotype is only a verb, likely to be false\n",
    "def LF_pheno_only_verb_f(r):\n",
    "    if len(r.all_idxs[1])==1 and r.poses[r.all_idxs[1][0]][0:2] == 'VB':\n",
    "        return -1\n",
    "    else:\n",
    "        return 0\n",
    "#if phenotype only one word, likely to be false (except lethal)\n",
    "def LF_pheno_only_one_word_f(r):\n",
    "    if len(r.all_idxs[1])==1 and r.lemmas[r.all_idxs[1][0]] != 'lethal':\n",
    "        return -1\n",
    "    else:\n",
    "        return 0\n",
    "#if gene and phenotype have words in common, very likely to be false\n",
    "def LF_gene_pheno_words_in_common_f(r):\n",
    "    if len([val for val in r.all_idxs[0] if val in r.all_idxs[1]]) >0:\n",
    "        return -1\n",
    "    else:\n",
    "        return 0\n",
    "\n",
    "\n"
   ]
  },
  {
   "cell_type": "code",
   "execution_count": 53,
   "metadata": {
    "collapsed": false
   },
   "outputs": [],
   "source": [
    "LFs= [LF_mutation_gene_t, LF_mutation_pheno_t, LF_pheno_before_gene_f, LF_pheno_only_verb_f, LF_pheno_only_one_word_f, LF_gene_pheno_words_in_common_f]\n",
    "DDL.apply_lfs(LFs, clear=True)"
   ]
  },
  {
   "cell_type": "code",
   "execution_count": null,
   "metadata": {
    "collapsed": true
   },
   "outputs": [],
   "source": []
  },
  {
   "cell_type": "code",
   "execution_count": null,
   "metadata": {
    "collapsed": true
   },
   "outputs": [],
   "source": []
  },
  {
   "cell_type": "code",
   "execution_count": null,
   "metadata": {
    "collapsed": true
   },
   "outputs": [],
   "source": []
  },
  {
   "cell_type": "code",
   "execution_count": null,
   "metadata": {
    "collapsed": true
   },
   "outputs": [],
   "source": []
  },
  {
   "cell_type": "markdown",
   "metadata": {},
   "source": [
    "# Learning"
   ]
  },
  {
   "cell_type": "code",
   "execution_count": 60,
   "metadata": {
    "collapsed": false
   },
   "outputs": [
    {
     "name": "stdout",
     "output_type": "stream",
     "text": [
      "Learning epoch =  0\tSGD converged for mu=0.000 after 0 steps\n",
      "Learning epoch =  0\tSGD converged for mu=0.000 after 0 steps\n",
      "Learning epoch =  0\tSGD converged for mu=0.000 after 0 steps\n",
      "Learning epoch =  0\tSGD converged for mu=0.000 after 0 steps\n",
      "Learning epoch =  0\tSGD converged for mu=0.000 after 0 steps\n",
      "Learning epoch =  0\tSGD converged for mu=0.000 after 0 steps\n",
      "Learning epoch =  0\tSGD converged for mu=0.000 after 0 steps\n",
      "Learning epoch =  0\tSGD converged for mu=0.000 after 0 steps\n",
      "Learning epoch =  0\tSGD converged for mu=0.001 after 0 steps\n",
      "Learning epoch =  0\tSGD converged for mu=0.002 after 0 steps\n",
      "Learning epoch =  0\tSGD converged for mu=0.003 after 0 steps\n",
      "Learning epoch =  0\tSGD converged for mu=0.007 after 0 steps\n",
      "Learning epoch =  0\tSGD converged for mu=0.014 after 0 steps\n",
      "Learning epoch =  0\tSGD converged for mu=0.028 after 0 steps\n",
      "Learning epoch =  0\tSGD converged for mu=0.058 after 0 steps\n",
      "Learning epoch =  0\tSGD converged for mu=0.120 after 0 steps\n",
      "Learning epoch =  0\tSGD converged for mu=0.248 after 0 steps\n",
      "Learning epoch =  0\tSGD converged for mu=0.513 after 0 steps\n",
      "Learning epoch =  0\tSGD converged for mu=1.061 after 0 steps\n",
      "Learning epoch =  0\tSGD converged for mu=2.196 after 0 steps\n",
      "CPU times: user 529 ms, sys: 79.1 ms, total: 608 ms\n",
      "Wall time: 628 ms\n"
     ]
    },
    {
     "data": {
      "text/html": [
       "<table><tr><td><b>ID</b></td><td><b># LFs</b></td><td><b># ground truth</b></td><td><b>Precision</b></td><td><b>Recall</b></td><td><b>F1</b></td></tr><tr><td>0</td><td>1</td><td>14</td><td>0.286</td><td>1.000</td><td>0.444</td></tr></table><table><tr><td><b>LF</b></td></tr><tr><td>LF_mutation_gene</td></tr></table>"
      ],
      "text/plain": [
       "<ddlite.ModelLog instance at 0x12b3b62d8>"
      ]
     },
     "execution_count": 60,
     "metadata": {},
     "output_type": "execute_result"
    }
   ],
   "source": [
    "# matplotlib.rcParams['figure.figsize'] = (12,4)\n",
    "# %time DDL.learn_weights(sample=False, maxIter=500, alpha=0.5, verbose=True, plot=True, log=True)"
   ]
  },
  {
   "cell_type": "code",
   "execution_count": null,
   "metadata": {
    "collapsed": true
   },
   "outputs": [],
   "source": []
  },
  {
   "cell_type": "code",
   "execution_count": null,
   "metadata": {
    "collapsed": true
   },
   "outputs": [],
   "source": []
  },
  {
   "cell_type": "markdown",
   "metadata": {},
   "source": [
    "# Attempt with multi sentences"
   ]
  },
  {
   "cell_type": "markdown",
   "metadata": {},
   "source": [
    "First basic version when some end of sentences \".\" are replaced by \";\" to easily have candidates covered in multisentences."
   ]
  },
  {
   "cell_type": "code",
   "execution_count": 19,
   "metadata": {
    "collapsed": false
   },
   "outputs": [],
   "source": [
    "# #To be modified to conserve correct doc_ids (in particular, write in different txt files)\n",
    "# nb_lines=0\n",
    "# nb_error_parsing=0\n",
    "# with open(DATA_FOLDER+'pmc/json/output_plant.json', 'rb') as json_file:\n",
    "#     with open(DATA_FOLDER+'pmc/text/output_plant.text', 'wb') as text_write:\n",
    "#         docs_multisentences={}\n",
    "#         for line in json_file:\n",
    "#             nb_lines+=1\n",
    "#             doc_id_read=str(json.loads(line)['doc-id'].encode('utf-8').strip())\n",
    "# #             try:\n",
    "#             #Because this doc is too big\n",
    "#             if doc_id_read=='10.1093.jxb.eru198':\n",
    "#                 if random.random() <0.5:\n",
    "#                     doc_id_read += '_1'\n",
    "#                 else:\n",
    "#                     doc_id_read += '_2'\n",
    "#             if doc_id_read in docs_multisentences:\n",
    "#                 if random.random() < 0.5:\n",
    "#                     docs_multisentences[doc_id_read] += unicode(str(json.loads(line)['content'].encode('utf-8').strip()) + '.\\n', errors='ignore')\n",
    "#                 else:\n",
    "#                     docs_multisentences[doc_id_read] += unicode(str(json.loads(line)['content'].encode('utf-8').strip()) + ';\\n', errors='ignore')\n",
    "#             else:            \n",
    "#                 if random.random() < 0.5:\n",
    "#                     docs_multisentences[doc_id_read] = unicode(str(json.loads(line)['content'].encode('utf-8').strip()) + '.\\n', errors='ignore')\n",
    "#                 else:\n",
    "#                     docs_multisentences[doc_id_read] = unicode(str(json.loads(line)['content'].encode('utf-8').strip()) + ';\\n', errors='ignore') \n",
    "\n",
    "                    \n",
    "# print nb_lines\n",
    "# print nb_error_parsing"
   ]
  },
  {
   "cell_type": "code",
   "execution_count": 20,
   "metadata": {
    "collapsed": false,
    "scrolled": true
   },
   "outputs": [],
   "source": [
    "# pkl_f=DATA_FOLDER+'pmc/pickle/pkl_sentences_multi'\n",
    "# sents_multi=[]\n",
    "# count_loop=0\n",
    "# try:\n",
    "#     with open(pkl_f, 'rb') as f:\n",
    "#         sents_multi = cPickle.load(f)\n",
    "# except:\n",
    "#     print\"parsing data\"\n",
    "#     for doc_id_loop in docs:\n",
    "#         count_loop+=1\n",
    "#         print count_loop\n",
    "#         for j in test.parse(docs_multisentences[doc_id_loop], doc_id=doc_id_loop):\n",
    "#             sents_multi.append(j)\n",
    "#     with open(pkl_f, 'w+') as f:\n",
    "#         cPickle.dump(sents_multi, f)"
   ]
  },
  {
   "cell_type": "code",
   "execution_count": 21,
   "metadata": {
    "collapsed": false
   },
   "outputs": [],
   "source": [
    "# print sents_multi[0]"
   ]
  },
  {
   "cell_type": "code",
   "execution_count": 22,
   "metadata": {
    "collapsed": false
   },
   "outputs": [],
   "source": [
    "# R_multi = Relations(sents_multi, GM, PM)"
   ]
  },
  {
   "cell_type": "code",
   "execution_count": 23,
   "metadata": {
    "collapsed": false
   },
   "outputs": [],
   "source": [
    "# DDL_multi = DDLiteModel(R_multi)\n",
    "# print \"Extracted {} features for each of {} mentions\".format(DDL_multi.num_feats(), DDL_multi.num_candidates())"
   ]
  },
  {
   "cell_type": "code",
   "execution_count": 24,
   "metadata": {
    "collapsed": false
   },
   "outputs": [],
   "source": [
    "# DDL_multi.open_mindtagger(num_sample=200, width='100%', height=1200)"
   ]
  },
  {
   "cell_type": "code",
   "execution_count": null,
   "metadata": {
    "collapsed": true
   },
   "outputs": [],
   "source": []
  },
  {
   "cell_type": "code",
   "execution_count": null,
   "metadata": {
    "collapsed": true
   },
   "outputs": [],
   "source": []
  },
  {
   "cell_type": "code",
   "execution_count": null,
   "metadata": {
    "collapsed": true
   },
   "outputs": [],
   "source": []
  }
 ],
 "metadata": {
  "kernelspec": {
   "display_name": "Python 2",
   "language": "python",
   "name": "python2"
  },
  "language_info": {
   "codemirror_mode": {
    "name": "ipython",
    "version": 2
   },
   "file_extension": ".py",
   "mimetype": "text/x-python",
   "name": "python",
   "nbconvert_exporter": "python",
   "pygments_lexer": "ipython2",
   "version": "2.7.9"
  }
 },
 "nbformat": 4,
 "nbformat_minor": 0
}
