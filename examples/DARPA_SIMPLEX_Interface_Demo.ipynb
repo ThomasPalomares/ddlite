{
 "cells": [
  {
   "cell_type": "code",
   "execution_count": 2,
   "metadata": {
    "collapsed": false,
    "scrolled": true
   },
   "outputs": [],
   "source": [
    "import pandas as pd\n",
    "import jinja2\n",
    "from collections import OrderedDict\n",
    "from json import dumps\n",
    "from IPython.html.widgets import interact\n",
    "from IPython.html import widgets\n",
    "from IPython.display import display, display_pretty, Javascript, HTML\n",
    "from IPython.utils.traitlets import Any, Bool, Dict, List, Unicode\n",
    "\n",
    "gene_pheno = pd.read_csv(open(\"genepheno_exp.csv\"))\n",
    "gene_pheno['value'] = 1\n",
    "\n",
    "def query(query_input, pheno_input):\n",
    "    gene_list = []\n",
    "    pheno_list = []\n",
    "    if pheno_input != '':\n",
    "        pheno_list = pheno_input.split(',')\n",
    "        pheno_list = [x.strip(' ') for x in pheno_list]\n",
    "    if gene_input != '':\n",
    "        gene_list = gene_input.split(',')\n",
    "        gene_list = [x.strip(' ') for x in gene_list]\n",
    "    gene_list_ext = []\n",
    "    if len(gene_list) > 0 and len(pheno_list) > 0:\n",
    "        gene_list_ext = list(gene_pheno[gene_pheno.pheno.isin(pheno_list) & gene_pheno.gene.isin(gene_list)]['gene'].value_counts()[:50].keys())\n",
    "        final_df = gene_pheno[gene_pheno.pheno.isin(pheno_list) & gene_pheno.gene.isin(gene_list_ext)]\n",
    "    elif len(gene_list) > 0 and len(pheno_list) == 0: \n",
    "        pheno_list_ext = list(gene_pheno[gene_pheno.gene.isin(gene_list)]['pheno'].value_counts()[:50].keys())\n",
    "        final_df = gene_pheno[gene_pheno.pheno.isin(pheno_list_ext) & gene_pheno.gene.isin(gene_list)]\n",
    "    elif len(gene_list) ==0 and len(pheno_list) > 0:\n",
    "        gene_list_ext = list(gene_pheno[gene_pheno.pheno.isin(pheno_list)]['gene'].value_counts()[:50].keys())\n",
    "        final_df = gene_pheno[gene_pheno.pheno.isin(pheno_list) & gene_pheno.gene.isin(gene_list_ext)]\n",
    "    else:\n",
    "        final_df = \"Invalid input!\"\n",
    "    return final_df\n",
    "\n",
    "def printResults(query_res):\n",
    "    gene_counts = query_res['gene'].value_counts()\n",
    "    gene_count_df = gene_counts.to_frame('phenos')\n",
    "    result = query_res.join(gene_count_df, on='gene')\n",
    "    print \"GENE\\t\\t\\t\\tPHENO\\t\\t\\t\\t\\tTotal Phenos\\n\"\n",
    "    for row in result.sort_values(by=['phenos','gene'], ascending=[0,1]).itertuples():\n",
    "        print row[1]+\"\\t\\t\\t\\t\"+row[2]+\"\\t\\t\\t\\t\"+'%.2f' % row[4]\n",
    "        \n",
    "def plotOut():\n",
    "    display(Javascript(bipartite_template.render(\n",
    "    data=query_res.itertuples())))\n",
    "    return\n"
   ]
  },
  {
   "cell_type": "code",
   "execution_count": 3,
   "metadata": {
    "collapsed": false,
    "scrolled": true
   },
   "outputs": [
    {
     "data": {
      "application/javascript": [
       "require.config({\n",
       "    paths: {\n",
       "        d3: 'http://d3js.org/d3.v3.min'\n",
       "    }\n",
       "});"
      ],
      "text/plain": [
       "<IPython.core.display.Javascript object>"
      ]
     },
     "metadata": {},
     "output_type": "display_data"
    }
   ],
   "source": [
    "%%javascript\n",
    "require.config({\n",
    "    paths: {\n",
    "        d3: 'http://d3js.org/d3.v3.min'\n",
    "    }\n",
    "});"
   ]
  },
  {
   "cell_type": "code",
   "execution_count": 8,
   "metadata": {
    "collapsed": false,
    "scrolled": true
   },
   "outputs": [],
   "source": [
    "bipartite_template = jinja2.Template(\n",
    "\"\"\"\n",
    "require([\"d3\"], function(d3) {\n",
    "    var raw_input = []\n",
    "\n",
    "    {% for row in data %}\n",
    "    raw_input.push(['{{ row[1] }}', '{{ row[2] }}', {{ row[3] }}]);\n",
    "    {% endfor %}\n",
    "    \n",
    "    d3.select(\"#chart_d3 svg\").remove()\n",
    "    \n",
    "    var width = 1100, height = 980, margin ={b:0, t:40, l:170, r:50};\n",
    "\n",
    "    var svg = d3.select(\"#chart_d3\")\n",
    "        .append(\"svg\").attr('width',width).attr('height',(height+margin.b+margin.t))\n",
    "        .append(\"g\").attr(\"transform\",\"translate(\"+ margin.l+\",\"+margin.t+\")\");\n",
    "\n",
    "    var data = [ \n",
    "        {data:bP.partData(raw_input,2), id:'GenePheno', header:[\"Gene\",\"Pheno\", \"Interactions\"]}\n",
    "    ];\n",
    "    \n",
    "    bP.draw(data, svg);\n",
    "});\n",
    "\"\"\"\n",
    ")"
   ]
  },
  {
   "cell_type": "code",
   "execution_count": 9,
   "metadata": {
    "collapsed": false,
    "scrolled": true
   },
   "outputs": [
    {
     "data": {
      "text/html": [
       "\n",
       "<!DOCTYPE html>\n",
       "<meta charset=\"utf-8\">\n",
       "<style>\n",
       "body{\n",
       "    width:1200px;\n",
       "    height:1200px;\n",
       "    margin:100px;\n",
       "}\n",
       "svg text{\n",
       "    font-size:12px;\n",
       "}\n",
       "rect{\n",
       "    shape-rendering:crispEdges;\n",
       "}\n",
       "</style>\n",
       "<body>\n",
       "<script src=\"biPartite.js\"></script>\n",
       "<br /><br /><br /><br /><br />\n",
       "<div style=\"background-color:gainsboro; border:solid black; width:860px; padding:20px;\">\n",
       "<b>Search for Gene-Pheno Interactions</b>\n",
       "<div>\n",
       "Genes: <input style='width:100%' type=\"text\" id=\"gene_input\" value=\"ASPM, ASXL2, BAZ1B, DEAF1, DNM1, ARHGEF9, RAI1\"><br>\n",
       "Phenotypes: <input style='width:100%' type=\"text\" id=\"pheno_input\" value=\"behavioral abnormality, speech impairment, mental retardation\"><br>\n",
       "<button onclick=\"search()\">Search Interactions</button>\n",
       "</div>\n",
       "</div>\n",
       "<div style=\"height:100%\" id=\"chart_d3\"/>\n",
       "</body>\n",
       "\n",
       "<script type=\"text/Javascript\">\n",
       "    function search(){\n",
       "        var gene_input_value = document.getElementById('gene_input').value;\n",
       "        var pheno_input_value = document.getElementById('pheno_input').value;\n",
       "        var command_gene = \"gene_input = '\" + gene_input_value + \"'\";\n",
       "        var command_pheno = \"pheno_input = '\" + pheno_input_value + \"'\";\n",
       "        var command_query = \"query_res = query(gene_input,pheno_input);\";\n",
       "        var kernel = IPython.notebook.kernel;\n",
       "        kernel.execute(command_gene);\n",
       "        kernel.execute(command_pheno);\n",
       "        kernel.execute(command_query);\n",
       "    }\n",
       "</script>\n"
      ],
      "text/plain": [
       "<IPython.core.display.HTML object>"
      ]
     },
     "execution_count": 9,
     "metadata": {},
     "output_type": "execute_result"
    }
   ],
   "source": [
    "from IPython.display import HTML\n",
    "\n",
    "input_form = \"\"\"\n",
    "<!DOCTYPE html>\n",
    "<meta charset=\"utf-8\">\n",
    "<style>\n",
    "body{\n",
    "    width:1200px;\n",
    "    height:1200px;\n",
    "    margin:100px;\n",
    "}\n",
    "svg text{\n",
    "    font-size:16px;\n",
    "}\n",
    "rect{\n",
    "    shape-rendering:crispEdges;\n",
    "}\n",
    "</style>\n",
    "<body>\n",
    "<script src=\"biPartite.js\"></script>\n",
    "<br /><br /><br /><br /><br />\n",
    "<div style=\"background-color:gainsboro; border:solid black; width:860px; padding:20px;\">\n",
    "<b>Search for Gene-Pheno Interactions</b>\n",
    "<div>\n",
    "Genes: <input style='width:100%' type=\"text\" id=\"gene_input\" value=\"ASPM, ASXL2, BAZ1B, DEAF1, DNM1, ARHGEF9, RAI1\"><br>\n",
    "Phenotypes: <input style='width:100%' type=\"text\" id=\"pheno_input\" value=\"behavioral abnormality, speech impairment, mental retardation\"><br>\n",
    "<button onclick=\"search()\">Search Interactions</button>\n",
    "</div>\n",
    "</div>\n",
    "<div style=\"height:100%\" id=\"chart_d3\"/>\n",
    "</body>\n",
    "\"\"\"\n",
    "javascript = \"\"\"\n",
    "<script type=\"text/Javascript\">\n",
    "    function search(){\n",
    "        var gene_input_value = document.getElementById('gene_input').value;\n",
    "        var pheno_input_value = document.getElementById('pheno_input').value;\n",
    "        var command_gene = \"gene_input = '\" + gene_input_value + \"'\";\n",
    "        var command_pheno = \"pheno_input = '\" + pheno_input_value + \"'\";\n",
    "        var command_query = \"query_res = query(gene_input,pheno_input);\";\n",
    "        var kernel = IPython.notebook.kernel;\n",
    "        kernel.execute(command_gene);\n",
    "        kernel.execute(command_pheno);\n",
    "        kernel.execute(command_query);\n",
    "    }\n",
    "</script>\n",
    "\"\"\"\n",
    "HTML(input_form + javascript)"
   ]
  },
  {
   "cell_type": "code",
   "execution_count": 10,
   "metadata": {
    "collapsed": false,
    "scrolled": true
   },
   "outputs": [
    {
     "ename": "AttributeError",
     "evalue": "'Series' object has no attribute 'to_frame'",
     "output_type": "error",
     "traceback": [
      "\u001b[0;31m---------------------------------------------------------------------------\u001b[0m",
      "\u001b[0;31mAttributeError\u001b[0m                            Traceback (most recent call last)",
      "\u001b[0;32m<ipython-input-10-6888f71ee13e>\u001b[0m in \u001b[0;36m<module>\u001b[0;34m()\u001b[0m\n\u001b[0;32m----> 1\u001b[0;31m \u001b[0mprintResults\u001b[0m\u001b[0;34m(\u001b[0m\u001b[0mquery_res\u001b[0m\u001b[0;34m)\u001b[0m\u001b[0;34m\u001b[0m\u001b[0m\n\u001b[0m",
      "\u001b[0;32m<ipython-input-2-270b645ca385>\u001b[0m in \u001b[0;36mprintResults\u001b[0;34m(query_res)\u001b[0m\n\u001b[1;32m     36\u001b[0m \u001b[0;32mdef\u001b[0m \u001b[0mprintResults\u001b[0m\u001b[0;34m(\u001b[0m\u001b[0mquery_res\u001b[0m\u001b[0;34m)\u001b[0m\u001b[0;34m:\u001b[0m\u001b[0;34m\u001b[0m\u001b[0m\n\u001b[1;32m     37\u001b[0m     \u001b[0mgene_counts\u001b[0m \u001b[0;34m=\u001b[0m \u001b[0mquery_res\u001b[0m\u001b[0;34m[\u001b[0m\u001b[0;34m'gene'\u001b[0m\u001b[0;34m]\u001b[0m\u001b[0;34m.\u001b[0m\u001b[0mvalue_counts\u001b[0m\u001b[0;34m(\u001b[0m\u001b[0;34m)\u001b[0m\u001b[0;34m\u001b[0m\u001b[0m\n\u001b[0;32m---> 38\u001b[0;31m     \u001b[0mgene_count_df\u001b[0m \u001b[0;34m=\u001b[0m \u001b[0mgene_counts\u001b[0m\u001b[0;34m.\u001b[0m\u001b[0mto_frame\u001b[0m\u001b[0;34m(\u001b[0m\u001b[0;34m'phenos'\u001b[0m\u001b[0;34m)\u001b[0m\u001b[0;34m\u001b[0m\u001b[0m\n\u001b[0m\u001b[1;32m     39\u001b[0m     \u001b[0mresult\u001b[0m \u001b[0;34m=\u001b[0m \u001b[0mquery_res\u001b[0m\u001b[0;34m.\u001b[0m\u001b[0mjoin\u001b[0m\u001b[0;34m(\u001b[0m\u001b[0mgene_count_df\u001b[0m\u001b[0;34m,\u001b[0m \u001b[0mon\u001b[0m\u001b[0;34m=\u001b[0m\u001b[0;34m'gene'\u001b[0m\u001b[0;34m)\u001b[0m\u001b[0;34m\u001b[0m\u001b[0m\n\u001b[1;32m     40\u001b[0m     \u001b[0;32mprint\u001b[0m \u001b[0;34m\"GENE\\t\\t\\t\\tPHENO\\t\\t\\t\\t\\tTotal Phenos\\n\"\u001b[0m\u001b[0;34m\u001b[0m\u001b[0m\n",
      "\u001b[0;31mAttributeError\u001b[0m: 'Series' object has no attribute 'to_frame'"
     ]
    }
   ],
   "source": [
    "printResults(query_res)"
   ]
  },
  {
   "cell_type": "code",
   "execution_count": 11,
   "metadata": {
    "collapsed": false,
    "scrolled": true
   },
   "outputs": [
    {
     "data": {
      "application/javascript": [
       "\n",
       "require([\"d3\"], function(d3) {\n",
       "    var raw_input = []\n",
       "\n",
       "    \n",
       "    raw_input.push(['ARHGEF9', 'mental retardation', 1]);\n",
       "    \n",
       "    raw_input.push(['BAZ1B', 'mental retardation', 1]);\n",
       "    \n",
       "    raw_input.push(['ASPM', 'mental retardation', 1]);\n",
       "    \n",
       "    raw_input.push(['DEAF1', 'behavioral abnormality', 1]);\n",
       "    \n",
       "    raw_input.push(['DEAF1', 'speech impairment', 1]);\n",
       "    \n",
       "    raw_input.push(['DEAF1', 'mental retardation', 1]);\n",
       "    \n",
       "    raw_input.push(['RAI1', 'behavioral abnormality', 1]);\n",
       "    \n",
       "    raw_input.push(['RAI1', 'mental retardation', 1]);\n",
       "    \n",
       "    \n",
       "    d3.select(\"#chart_d3 svg\").remove()\n",
       "    \n",
       "    var width = 1100, height = 980, margin ={b:0, t:40, l:170, r:50};\n",
       "\n",
       "    var svg = d3.select(\"#chart_d3\")\n",
       "        .append(\"svg\").attr('width',width).attr('height',(height+margin.b+margin.t))\n",
       "        .append(\"g\").attr(\"transform\",\"translate(\"+ margin.l+\",\"+margin.t+\")\");\n",
       "\n",
       "    var data = [ \n",
       "        {data:bP.partData(raw_input,2), id:'GenePheno', header:[\"Gene\",\"Pheno\", \"Interactions\"]}\n",
       "    ];\n",
       "    \n",
       "    bP.draw(data, svg);\n",
       "});"
      ],
      "text/plain": [
       "<IPython.core.display.Javascript object>"
      ]
     },
     "metadata": {},
     "output_type": "display_data"
    }
   ],
   "source": [
    "display(Javascript(bipartite_template.render(\n",
    "    data=query_res.itertuples())))"
   ]
  },
  {
   "cell_type": "code",
   "execution_count": null,
   "metadata": {
    "collapsed": true
   },
   "outputs": [],
   "source": []
  }
 ],
 "metadata": {
  "kernelspec": {
   "display_name": "Python 2",
   "language": "python",
   "name": "python2"
  },
  "language_info": {
   "codemirror_mode": {
    "name": "ipython",
    "version": 2
   },
   "file_extension": ".py",
   "mimetype": "text/x-python",
   "name": "python",
   "nbconvert_exporter": "python",
   "pygments_lexer": "ipython2",
   "version": "2.7.10"
  }
 },
 "nbformat": 4,
 "nbformat_minor": 0
}
